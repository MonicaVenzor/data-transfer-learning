{
  "cells": [
    {
      "cell_type": "markdown",
      "metadata": {
        "id": "OqNDta-xZ2u4"
      },
      "source": [
        "# Transfer Learning"
      ]
    },
    {
      "cell_type": "markdown",
      "metadata": {
        "id": "xp81GSFN7uHY"
      },
      "source": [
        "* 🤯 Tech companies and university labs have more computational resources than we do\n",
        "* 😎 Let them train their super complex models on millions of images, and then re-use their kernels for our own CNNs!\n",
        "\n",
        "🎯 **<u>Goal:</u>**\n",
        "* ☄️ Use a **Pretrained Neural Network** $ \\Leftrightarrow $ **Transfer learning**"
      ]
    },
    {
      "cell_type": "markdown",
      "metadata": {
        "id": "LR9-yIauZ2vA"
      },
      "source": [
        "## Google Colab Setup"
      ]
    },
    {
      "cell_type": "markdown",
      "metadata": {
        "id": "ieSm6iw9HizE"
      },
      "source": [
        "Repeat the same process from the last challenge to upload your challenge folder and open your notebook:\n",
        "\n",
        "1. access your [Google Drive](https://drive.google.com/)\n",
        "2. go into the Colab Notebooks folder\n",
        "3. drag and drop this challenge's folder into it\n",
        "4. right-click the notebook file and select `Open with` $\\rightarrow$ `Google Colaboratory`"
      ]
    },
    {
      "cell_type": "markdown",
      "metadata": {
        "id": "7YfeVhhBZ2vC"
      },
      "source": [
        "Don't forget to enable GPU acceleration!\n",
        "\n",
        "`Runtime` $\\rightarrow$ `Change runtime type` $\\rightarrow$ `Hardware accelerator` $\\rightarrow$ `GPU`"
      ]
    },
    {
      "cell_type": "markdown",
      "metadata": {
        "id": "FoRPmZtQZ2vE"
      },
      "source": [
        "When this is done, run the cells below and get to work!"
      ]
    },
    {
      "cell_type": "code",
      "execution_count": 1,
      "metadata": {
        "colab": {
          "base_uri": "https://localhost:8080/"
        },
        "id": "_q8uOTzh5vwJ",
        "outputId": "de399af2-8bce-43a4-9fd9-2e63d67dd49c"
      },
      "outputs": [
        {
          "output_type": "stream",
          "name": "stdout",
          "text": [
            "Mounted at /content/drive\n"
          ]
        }
      ],
      "source": [
        "# Mount GDrive\n",
        "from google.colab import drive\n",
        "drive.mount('/content/drive')"
      ]
    },
    {
      "cell_type": "code",
      "execution_count": 2,
      "metadata": {
        "id": "7HCO04lsIrcd"
      },
      "outputs": [],
      "source": [
        "# Put Colab in the context of this challenge\n",
        "import os\n",
        "\n",
        "# os.chdir allows you to change directories, like cd in the Terminal\n",
        "os.chdir('/content/drive/MyDrive/Colab Notebooks/data-transfer-learning')"
      ]
    },
    {
      "cell_type": "markdown",
      "metadata": {
        "id": "Z0MdAwhGJdSR"
      },
      "source": [
        "You are now good to go, proceed with the challenge! Don't forget to copy everything back to your PC to upload to Kitt 🚀"
      ]
    },
    {
      "cell_type": "markdown",
      "metadata": {
        "id": "zsdd1Jv7Z2vJ"
      },
      "source": [
        "## (1) What is a Pre-Trained Neural Network?"
      ]
    },
    {
      "cell_type": "markdown",
      "metadata": {
        "id": "shgjzVW4Z2vJ"
      },
      "source": [
        "* Convolutions are mathematical operations designed to detect specific patterns in input images and use them to classify the images.\n",
        "* One could imagine that these patterns are not 100% specific to one task but to the input images.\n",
        "\n",
        "🚀 **Why not re-use these kernels - whose weights have already been optimized - somewhere else?**\n",
        "- The expectation is that the trained kernels could also help us perform another classification task.\n",
        "- We are trying to ***transfer*** the knowledge of a trained CNN to a new classification task.\n",
        "\n",
        "\n",
        "💪 Transfer Learning has two main advantages:\n",
        "- It takes less time to train a pre-trained model since we are not going to update all the weights but only some of them\n",
        "- You benefit from state-of-the-art architectures that have been trained on complex images."
      ]
    },
    {
      "cell_type": "markdown",
      "metadata": {
        "id": "sOkQIQj4Z2vJ"
      },
      "source": [
        "## (2) Introduction to  VGG16\n",
        "\n",
        "📚 ***Reading Section, no code***"
      ]
    },
    {
      "cell_type": "markdown",
      "metadata": {
        "id": "pAkNOgtqF7S_"
      },
      "source": [
        "\n",
        "\n",
        "\n",
        "\n",
        "\n",
        "In this exercise, we will use the <a href=\"https://neurohive.io/en/popular-networks/vgg16/\">**`VGG-16 Neural Network`**</a>.\n",
        "\n",
        "> VGG16 is a convolutional neural network model proposed by K. Simonyan and A. Zisserman from the University of Oxford in the paper “Very Deep Convolutional Networks for Large-Scale Image Recognition”. The model achieves 92.7% top-5 test accuracy in ImageNet, which is a dataset of over 14 million images belonging to 1000 classes. It was one of the famous model submitted to ILSVRC-2014. It makes the improvement over AlexNet by replacing large kernel-sized filters (11 and 5 in the first and second convolutional layer, respectively) with multiple 3×3 kernel-sized filters one after another. VGG16 was trained for weeks and was using NVIDIA Titan Black GPU’s.\n",
        "\n",
        "VGG16 is a well-known architecture that has been trained on the <a href=\"https://www.image-net.org/\">**`ImageNet dataset`**</a> which is a very large database of images which belong to different categories.\n",
        "\n",
        "👉 This architecture already learned which kernels are the best for extracting features from the images found in the `ImageNet dataset`.\n",
        "\n",
        "👉 As you can see in the illustration, the VGG16 involves millions of parameters you don't want to retrain yourself.\n",
        "\n",
        "\n",
        "<center><img src=\"https://neurohive.io/wp-content/uploads/2018/11/vgg16-1-e1542731207177.png\" width=400></center>\n",
        "\n",
        "❓ How does it work in practice ❓\n",
        "\n",
        "* The first layers are not specialized for the particular task the VGG16 CNN was trained on\n",
        "* Only the last dense layer is a \"classification layers\" that can be preceded with a couple of dense layers...  Therefore, we will:\n",
        "    1. Load the existing VGG16 network\n",
        "    2. Remove the last fully connected layers\n",
        "    3. Replace them with some new fully-connected layers (whose weights are randomly set)\n",
        "    4. Train these last layers on a specific classification task.\n",
        "\n",
        "😃 Your role is to train only the last layers for your particular problem.\n",
        "\n",
        "🤓 We will use <a href=\"https://www.tensorflow.org/api_docs/python/tf/keras/applications/vgg16/VGG16\">**`tensorflow.keras.applications.VGG16`**</a>\n",
        "\n",
        "<hr>"
      ]
    },
    {
      "cell_type": "markdown",
      "metadata": {
        "id": "o-S858KRF7TA"
      },
      "source": [
        "## (3) Data loading & Preprocessing"
      ]
    },
    {
      "cell_type": "markdown",
      "metadata": {
        "id": "tzLvo4N5Z2vL"
      },
      "source": [
        "You have two options to load the data into Google Colab."
      ]
    },
    {
      "cell_type": "markdown",
      "metadata": {
        "id": "B6vPgeK2Z2vL"
      },
      "source": [
        "### (Option 1) Loading the data directly"
      ]
    },
    {
      "cell_type": "markdown",
      "metadata": {
        "id": "c6FxEU-HZ2vL"
      },
      "source": [
        "* You can first get the data onto google Colab thanks to:\n",
        "\n",
        "`!wget https://wagon-public-datasets.s3.amazonaws.com/flowers-dataset.zip`,\n",
        "\n",
        "* and then run\n",
        "\n",
        "`!unzip flowers-dataset.zip`\n",
        "\n",
        "*This is a very easy option to load the data into your working directory.*"
      ]
    },
    {
      "cell_type": "markdown",
      "metadata": {
        "id": "ID413NdhZ2vL"
      },
      "source": [
        "### (Option 2) Adding the data to Google Drive"
      ]
    },
    {
      "cell_type": "markdown",
      "metadata": {
        "id": "UsnMYzYgZ2vM"
      },
      "source": [
        "* You can first download the data from `https://wagon-public-datasets.s3.amazonaws.com/flowers-dataset.zip`.\n",
        "* Then you have to add it to your Google Drive in a folder called `Deep_learning_data` (for instance)\n",
        "* And run the following code in the notebook:\n",
        "\n",
        "```python\n",
        "from google.colab import drive\n",
        "drive.mount('/content/drive/')\n",
        "```\n",
        "\n",
        "* The previous code will ask you to go to a given webpage where you can copy a temporary key\n",
        "* Paste it in the cell that will appear in your Colab Notebook\n",
        "* You can now load the data on your Google Colab Notebooks"
      ]
    },
    {
      "cell_type": "markdown",
      "metadata": {
        "id": "_yrUUBluZ2vM"
      },
      "source": [
        "### Option 1 or Option 2 ?"
      ]
    },
    {
      "cell_type": "markdown",
      "metadata": {
        "id": "mdS5hErJF7TB"
      },
      "source": [
        "* Why choosing option 2 over the option 1?\n",
        "    * ✅ The combo Colab + Drive can be interesting if you work within a project team, and need to update the data from time to time.\n",
        "    * ✅ By doing this, you can share the same data folder with your teammates, and be sure that everyone has the same dataset at any time, even though someone changes it.\n",
        "    * ❌ Google Colab has now access to your Google Folder..., which you may or may not be in favor of, depending on your sensibilities...\n",
        "\n",
        "---\n",
        "\n",
        "❓ **Question: Loading your dataset** ❓\n",
        "    \n",
        "Use one of the above methods to load your data"
      ]
    },
    {
      "cell_type": "code",
      "execution_count": 4,
      "metadata": {
        "id": "hKw_1TjOF7TC",
        "colab": {
          "base_uri": "https://localhost:8080/"
        },
        "outputId": "a04f0a14-3d0f-4ba7-e5df-ba39535b96d8"
      },
      "outputs": [
        {
          "output_type": "stream",
          "name": "stdout",
          "text": [
            "Drive already mounted at /content/drive/; to attempt to forcibly remount, call drive.mount(\"/content/drive/\", force_remount=True).\n"
          ]
        }
      ],
      "source": [
        "option_1 = False # Choose here\n",
        "\n",
        "if option_1:\n",
        "    !wget https://wagon-public-datasets.s3.amazonaws.com/flowers-dataset.zip\n",
        "    !unzip flowers-dataset.zip\n",
        "else:\n",
        "    from google.colab import drive\n",
        "    drive.mount('/content/drive/')"
      ]
    },
    {
      "cell_type": "code",
      "execution_count": 5,
      "metadata": {
        "colab": {
          "base_uri": "https://localhost:8080/"
        },
        "id": "IC4x613JOGR5",
        "outputId": "8be286c7-39a7-4e3e-b6e1-5797a7508797"
      },
      "outputs": [
        {
          "output_type": "stream",
          "name": "stdout",
          "text": [
            "/content/drive/My Drive/Colab Notebooks/data-transfer-learning\n"
          ]
        }
      ],
      "source": [
        "!pwd"
      ]
    },
    {
      "cell_type": "code",
      "execution_count": 7,
      "metadata": {
        "colab": {
          "base_uri": "https://localhost:8080/"
        },
        "id": "1zw_WkhQOGR5",
        "outputId": "27661439-f7ed-4e63-aee6-2d366d4d031a"
      },
      "outputs": [
        {
          "output_type": "stream",
          "name": "stdout",
          "text": [
            "Deep_learning_data  README.md  transfer_learning.ipynb\n"
          ]
        }
      ],
      "source": [
        "!ls"
      ]
    },
    {
      "cell_type": "code",
      "source": [
        "!unzip '/content/drive/My Drive/Colab Notebooks/data-transfer-learning/Deep_learning_data/flowers-dataset.zip' -d '/content/flowers_dataset'"
      ],
      "metadata": {
        "colab": {
          "base_uri": "https://localhost:8080/"
        },
        "id": "WVGDp9YPRGoQ",
        "outputId": "f46e3150-fe92-4aa9-ae8a-658b22dcf5b3"
      },
      "execution_count": 12,
      "outputs": [
        {
          "output_type": "stream",
          "name": "stdout",
          "text": [
            "Archive:  /content/drive/My Drive/Colab Notebooks/data-transfer-learning/Deep_learning_data/flowers-dataset.zip\n",
            "  inflating: /content/flowers_dataset/flowers/daisy/2607132536_d95198e619_n.jpg  \n",
            "  inflating: /content/flowers_dataset/flowers/daisy/6480809771_b1e14c5cc2_m.jpg  \n",
            "  inflating: /content/flowers_dataset/flowers/daisy/9350942387_5b1d043c26_n.jpg  \n",
            "  inflating: /content/flowers_dataset/flowers/daisy/4065883015_4bb6010cb7_n.jpg  \n",
            "  inflating: /content/flowers_dataset/flowers/daisy/7924174040_444d5bbb8a.jpg  \n",
            "  inflating: /content/flowers_dataset/flowers/daisy/8740807508_0587f5b7b7.jpg  \n",
            "  inflating: /content/flowers_dataset/flowers/daisy/7629784968_b953501902_n.jpg  \n",
            "  inflating: /content/flowers_dataset/flowers/daisy/176375506_201859bb92_m.jpg  \n",
            "  inflating: /content/flowers_dataset/flowers/daisy/2509545845_99e79cb8a2_n.jpg  \n",
            "  inflating: /content/flowers_dataset/flowers/daisy/3661613900_b15ca1d35d_m.jpg  \n",
            "  inflating: /content/flowers_dataset/flowers/daisy/2666572212_2caca8de9f_n.jpg  \n",
            "  inflating: /content/flowers_dataset/flowers/daisy/34532930772_5cc5fc600d_n.jpg  \n",
            "  inflating: /content/flowers_dataset/flowers/daisy/3098641292_76c908ba1f_n.jpg  \n",
            "  inflating: /content/flowers_dataset/flowers/daisy/5679288570_b4c52e76d5.jpg  \n",
            "  inflating: /content/flowers_dataset/flowers/daisy/5684911529_88a7ae32ba_n.jpg  \n",
            "  inflating: /content/flowers_dataset/flowers/daisy/4538877108_3c793f7987_m.jpg  \n",
            "  inflating: /content/flowers_dataset/flowers/daisy/19865728236_a62f8f445b_n.jpg  \n",
            "  inflating: /content/flowers_dataset/flowers/daisy/2513618768_ff7c004796_m.jpg  \n",
            "  inflating: /content/flowers_dataset/flowers/daisy/34486116262_411e6991f4_n.jpg  \n",
            "  inflating: /content/flowers_dataset/flowers/daisy/5700781400_65761f3fce.jpg  \n",
            "  inflating: /content/flowers_dataset/flowers/daisy/5054771689_00dd40b971_n.jpg  \n",
            "  inflating: /content/flowers_dataset/flowers/daisy/6910811638_aa6f17df23.jpg  \n",
            "  inflating: /content/flowers_dataset/flowers/daisy/1314069875_da8dc023c6_m.jpg  \n",
            "  inflating: /content/flowers_dataset/flowers/daisy/5896676090_68bb74b1e9_n.jpg  \n",
            "  inflating: /content/flowers_dataset/flowers/daisy/14907815010_bff495449f.jpg  \n",
            "  inflating: /content/flowers_dataset/flowers/rose/5001850817_abffea40c9_n.jpg  \n",
            "  inflating: /content/flowers_dataset/flowers/rose/2960709681_e95940c0f0_n.jpg  \n",
            "  inflating: /content/flowers_dataset/flowers/daisy/3546455114_cd2dea5e02.jpg  \n",
            "  inflating: /content/flowers_dataset/flowers/daisy/10466558316_a7198b87e2.jpg  \n",
            "  inflating: /content/flowers_dataset/flowers/daisy/4496202781_1d8e776ff5_n.jpg  \n",
            "  inflating: /content/flowers_dataset/flowers/rose/475936554_a2b38aaa8e.jpg  \n",
            "  inflating: /content/flowers_dataset/flowers/dandelion/13807932364_673b7f1c1c_n.jpg  \n",
            "  inflating: /content/flowers_dataset/flowers/rose/2735666555_01d53e74fe.jpg  \n",
            "  inflating: /content/flowers_dataset/flowers/dandelion/34599366451_2854aee943_n.jpg  \n",
            "  inflating: /content/flowers_dataset/flowers/daisy/5881907044_92a85a05c8_n.jpg  \n",
            "  inflating: /content/flowers_dataset/flowers/daisy/34283646340_4fe48d1bb7_n.jpg  \n",
            "  inflating: /content/flowers_dataset/flowers/rose/5001843267_ccc0aa7d4d_n.jpg  \n",
            "  inflating: /content/flowers_dataset/flowers/daisy/33885735373_444ba02d9c_n.jpg  \n",
            "  inflating: /content/flowers_dataset/flowers/daisy/4820415253_15bc3b6833_n.jpg  \n",
            "  inflating: /content/flowers_dataset/flowers/dandelion/14021281124_89cc388eac_n.jpg  \n",
            "  inflating: /content/flowers_dataset/flowers/daisy/6089825811_80f253fbe1.jpg  \n",
            "  inflating: /content/flowers_dataset/flowers/dandelion/4575406391_7a62c5f90f_n.jpg  \n",
            "  inflating: /content/flowers_dataset/flowers/rose/4413509121_a62879598a.jpg  \n",
            "  inflating: /content/flowers_dataset/flowers/rose/5061135742_2870a7b691_n.jpg  \n",
            "  inflating: /content/flowers_dataset/flowers/daisy/7227973870_806d9d3e42_n.jpg  \n",
            "  inflating: /content/flowers_dataset/flowers/rose/4612784323_0bcfb978f0_n.jpg  \n",
            "  inflating: /content/flowers_dataset/flowers/rose/3667366832_7a8017c528_n.jpg  \n",
            "  inflating: /content/flowers_dataset/flowers/daisy/5133243796_44de429de5_m.jpg  \n",
            "  inflating: /content/flowers_dataset/flowers/rose/2093263381_afd51358a3.jpg  \n",
            "  inflating: /content/flowers_dataset/flowers/rose/2273917656_6d6c038283.jpg  \n",
            "  inflating: /content/flowers_dataset/flowers/daisy/34337108550_0b619aa726_n.jpg  \n",
            "  inflating: /content/flowers_dataset/flowers/dandelion/34323645656_afd53a9996_n.jpg  \n",
            "  inflating: /content/flowers_dataset/flowers/rose/2122401867_cd86c5f114_n.jpg  \n",
            "  inflating: /content/flowers_dataset/flowers/dandelion/17280886635_e384d91300_n.jpg  \n",
            "  inflating: /content/flowers_dataset/flowers/dandelion/645330051_06b192b7e1.jpg  \n",
            "  inflating: /content/flowers_dataset/flowers/dandelion/2330343016_23acc484ee.jpg  \n",
            "  inflating: /content/flowers_dataset/flowers/rose/4735314389_94fe1b2a9f_n.jpg  \n",
            "  inflating: /content/flowers_dataset/flowers/daisy/18711159980_11d3bd5042.jpg  \n",
            "  inflating: /content/flowers_dataset/flowers/daisy/7568630428_8cf0fc16ff_n.jpg  \n",
            "  inflating: /content/flowers_dataset/flowers/dandelion/34732908685_a219574ffe_n.jpg  \n",
            "  inflating: /content/flowers_dataset/flowers/dandelion/2387025546_6aecb1b984_n.jpg  \n",
            "  inflating: /content/flowers_dataset/flowers/rose/2713683760_d98cd2a05b_m.jpg  \n",
            "  inflating: /content/flowers_dataset/flowers/dandelion/33904560113_497239a68f_n.jpg  \n",
            "  inflating: /content/flowers_dataset/flowers/daisy/1441939151_b271408c8d_n.jpg  \n",
            "  inflating: /content/flowers_dataset/flowers/daisy/3703643767_dee82cdef9_n.jpg  \n",
            "  inflating: /content/flowers_dataset/flowers/dandelion/4721773235_429acdf496_n.jpg  \n",
            "  inflating: /content/flowers_dataset/flowers/daisy/2578695910_5ab8ee17c1_n.jpg  \n",
            "  inflating: /content/flowers_dataset/flowers/daisy/33863293993_3ed7515936_n.jpg  \n",
            "  inflating: /content/flowers_dataset/flowers/daisy/2908212142_5437fa67ff_n.jpg  \n",
            "  inflating: /content/flowers_dataset/flowers/daisy/446484749_4044affcaf_n.jpg  \n",
            "  inflating: /content/flowers_dataset/flowers/dandelion/10437652486_aa86c14985.jpg  \n",
            "  inflating: /content/flowers_dataset/flowers/daisy/34585331601_837dbe5254_n.jpg  \n",
            "  inflating: /content/flowers_dataset/flowers/daisy/3999978867_c67c79597f_m.jpg  \n",
            "  inflating: /content/flowers_dataset/flowers/dandelion/2076141453_c63801962a_m.jpg  \n",
            "  inflating: /content/flowers_dataset/flowers/rose/2607130050_9c34310004.jpg  \n",
            "  inflating: /content/flowers_dataset/flowers/daisy/3386988684_bc5a66005e.jpg  \n",
            "  inflating: /content/flowers_dataset/flowers/daisy/14330343061_99478302d4_m.jpg  \n",
            "  inflating: /content/flowers_dataset/flowers/daisy/33874126263_3f6f965784_n.jpg  \n",
            "  inflating: /content/flowers_dataset/flowers/rose/2535466393_6556afeb2f_m.jpg  \n",
            "  inflating: /content/flowers_dataset/flowers/dandelion/2569516382_9fd7097b9b.jpg  \n",
            "  inflating: /content/flowers_dataset/flowers/daisy/14167543177_cd36b54ac6_n.jpg  \n",
            "  inflating: /content/flowers_dataset/flowers/daisy/5561775629_a2b709b3a4_n.jpg  \n",
            "  inflating: /content/flowers_dataset/flowers/dandelion/7267547016_c8903920bf.jpg  \n",
            "  inflating: /content/flowers_dataset/flowers/daisy/9161647994_e39b65cb9c_n.jpg  \n",
            "  inflating: /content/flowers_dataset/flowers/dandelion/4708723476_a1b476a373.jpg  \n",
            "  inflating: /content/flowers_dataset/flowers/rose/4558025386_2c47314528.jpg  \n",
            "  inflating: /content/flowers_dataset/flowers/dandelion/10777398353_5a20bb218c.jpg  \n",
            "  inflating: /content/flowers_dataset/flowers/rose/4360743371_6238b36d8c_m.jpg  \n",
            "  inflating: /content/flowers_dataset/flowers/daisy/54377391_15648e8d18.jpg  \n",
            "  inflating: /content/flowers_dataset/flowers/daisy/107592979_aaa9cdfe78_m.jpg  \n",
            "  inflating: /content/flowers_dataset/flowers/dandelion/3465599902_14729e2b1b_n.jpg  \n",
            "  inflating: /content/flowers_dataset/flowers/daisy/34293312980_5f6c492c52_n.jpg  \n",
            "  inflating: /content/flowers_dataset/flowers/rose/3554620445_082dd0bec4_n.jpg  \n",
            "  inflating: /content/flowers_dataset/flowers/daisy/1299501272_59d9da5510_n.jpg  \n",
            "  inflating: /content/flowers_dataset/flowers/dandelion/16691236594_4287cea9d6_n.jpg  \n",
            "  inflating: /content/flowers_dataset/flowers/dandelion/33071081032_a6a1e4b311_n.jpg  \n",
            "  inflating: /content/flowers_dataset/flowers/rose/4396642388_3081a38875_n.jpg  \n",
            "  inflating: /content/flowers_dataset/flowers/rose/4951581805_b049304f1b_n.jpg  \n",
            "  inflating: /content/flowers_dataset/flowers/rose/5181899042_0a6ffe0c8a_n.jpg  \n",
            "  inflating: /content/flowers_dataset/flowers/dandelion/5608832856_f5d49de778.jpg  \n",
            "  inflating: /content/flowers_dataset/flowers/rose/4754734410_94d98463a5.jpg  \n",
            "  inflating: /content/flowers_dataset/flowers/dandelion/3501368412_358e144d1f.jpg  \n",
            "  inflating: /content/flowers_dataset/flowers/dandelion/16656127943_2f70926b6c.jpg  \n",
            "  inflating: /content/flowers_dataset/flowers/daisy/5740004086_690a1eef85_n.jpg  \n",
            "  inflating: /content/flowers_dataset/flowers/daisy/9054268881_19792c5203_n.jpg  \n",
            "  inflating: /content/flowers_dataset/flowers/rose/5001856549_7e0a640488_n.jpg  \n",
            "  inflating: /content/flowers_dataset/flowers/daisy/3750771898_cfd50090ba_n.jpg  \n",
            "  inflating: /content/flowers_dataset/flowers/dandelion/34584449441_576a1336b1_n.jpg  \n",
            "  inflating: /content/flowers_dataset/flowers/rose/3751835302_d5a03f55e8_n.jpg  \n",
            "  inflating: /content/flowers_dataset/flowers/daisy/34637394046_f85541735d_n.jpg  \n",
            "  inflating: /content/flowers_dataset/flowers/daisy/367020749_3c9a652d75.jpg  \n",
            "  inflating: /content/flowers_dataset/flowers/daisy/5874818796_3efbb8769d.jpg  \n",
            "  inflating: /content/flowers_dataset/flowers/rose/2949945463_366bc63079_n.jpg  \n",
            "  inflating: /content/flowers_dataset/flowers/rose/99383371_37a5ac12a3_n.jpg  \n",
            "  inflating: /content/flowers_dataset/flowers/rose/2331651885_619653a5d3.jpg  \n",
            "  inflating: /content/flowers_dataset/flowers/dandelion/34719559905_46ba779d79_n.jpg  \n",
            "  inflating: /content/flowers_dataset/flowers/dandelion/129019877_8eea2978ca_m.jpg  \n",
            "  inflating: /content/flowers_dataset/flowers/dandelion/33875742534_31b85d1b05_n.jpg  \n",
            "  inflating: /content/flowers_dataset/flowers/dandelion/2938040169_eb38581359.jpg  \n",
            "  inflating: /content/flowers_dataset/flowers/daisy/33822751084_c83a7abffd_n.jpg  \n",
            "  inflating: /content/flowers_dataset/flowers/daisy/34540176411_a35a19a8ef_n.jpg  \n",
            "  inflating: /content/flowers_dataset/flowers/rose/515121050_dcb99890be.jpg  \n",
            "  inflating: /content/flowers_dataset/flowers/daisy/11834945233_a53b7a92ac_m.jpg  \n",
            "  inflating: /content/flowers_dataset/flowers/daisy/2579018590_74359dcf1a_m.jpg  \n",
            "  inflating: /content/flowers_dataset/flowers/dandelion/2453532367_fc373df4de.jpg  \n",
            "  inflating: /content/flowers_dataset/flowers/rose/2392457180_f02dab5c65.jpg  \n",
            "  inflating: /content/flowers_dataset/flowers/dandelion/5670543216_8c4cb0caa8_m.jpg  \n",
            "  inflating: /content/flowers_dataset/flowers/rose/2888138918_402096c7fb.jpg  \n",
            "  inflating: /content/flowers_dataset/flowers/dandelion/13910677675_4900fa3dbf_n.jpg  \n",
            "  inflating: /content/flowers_dataset/flowers/dandelion/3499837275_5f24d2f8bf_n.jpg  \n",
            "  inflating: /content/flowers_dataset/flowers/daisy/2877860110_a842f8b14a_m.jpg  \n",
            "  inflating: /content/flowers_dataset/flowers/daisy/9496209717_25a6ebdab6_m.jpg  \n",
            "  inflating: /content/flowers_dataset/flowers/dandelion/8719032054_9a3ce4f0ff.jpg  \n",
            "  inflating: /content/flowers_dataset/flowers/dandelion/7998106328_c3953f70e9_n.jpg  \n",
            "  inflating: /content/flowers_dataset/flowers/daisy/9529916092_de70623523_n.jpg  \n",
            "  inflating: /content/flowers_dataset/flowers/rose/2053476785_c162a3e358.jpg  \n",
            "  inflating: /content/flowers_dataset/flowers/daisy/14221848160_7f0a37c395.jpg  \n",
            "  inflating: /content/flowers_dataset/flowers/daisy/5665834973_76bd6c6523_m.jpg  \n",
            "  inflating: /content/flowers_dataset/flowers/dandelion/4953240903_a121fba81f_m.jpg  \n",
            "  inflating: /content/flowers_dataset/flowers/rose/4644336779_acd973528c.jpg  \n",
            "  inflating: /content/flowers_dataset/flowers/daisy/4584890753_14ea24a619_n.jpg  \n",
            "  inflating: /content/flowers_dataset/flowers/dandelion/144040769_c5b805f868.jpg  \n",
            "  inflating: /content/flowers_dataset/flowers/dandelion/163702807_e508544acd_n.jpg  \n",
            "  inflating: /content/flowers_dataset/flowers/dandelion/14914603395_b271ffab56_n.jpg  \n",
            "  inflating: /content/flowers_dataset/flowers/rose/4703837996_d3c1df77cc_n.jpg  \n",
            "  inflating: /content/flowers_dataset/flowers/dandelion/7141019507_4a44c6e888_m.jpg  \n",
            "  inflating: /content/flowers_dataset/flowers/dandelion/9726260379_4e8ee66875_m.jpg  \n",
            "  inflating: /content/flowers_dataset/flowers/daisy/534547364_3f6b7279d2_n.jpg  \n",
            "  inflating: /content/flowers_dataset/flowers/rose/5206847130_ee4bf0e4de_n.jpg  \n",
            "  inflating: /content/flowers_dataset/flowers/daisy/34310869690_56cdc84a17_n.jpg  \n",
            "  inflating: /content/flowers_dataset/flowers/dandelion/6994931380_a7588c1192_m.jpg  \n",
            "  inflating: /content/flowers_dataset/flowers/rose/4279990882_031482f8b6_n.jpg  \n",
            "  inflating: /content/flowers_dataset/flowers/rose/4495885281_fe2a3b671d.jpg  \n",
            "  inflating: /content/flowers_dataset/flowers/daisy/4613992315_143ccc2a10_m.jpg  \n",
            "  inflating: /content/flowers_dataset/flowers/dandelion/8966818334_483f4489be_n.jpg  \n",
            "  inflating: /content/flowers_dataset/flowers/rose/110472418_87b6a3aa98_m.jpg  \n",
            "  inflating: /content/flowers_dataset/flowers/rose/921984328_a60076f070_m.jpg  \n",
            "  inflating: /content/flowers_dataset/flowers/rose/5002446614_bb2a5b4bc1_n.jpg  \n",
            "  inflating: /content/flowers_dataset/flowers/daisy/5794839_200acd910c_n.jpg  \n",
            "  inflating: /content/flowers_dataset/flowers/daisy/3456403987_5bd5fa6ece_n.jpg  \n",
            "  inflating: /content/flowers_dataset/flowers/daisy/33879354664_615c72773d_n.jpg  \n",
            "  inflating: /content/flowers_dataset/flowers/dandelion/1128626197_3f52424215_n.jpg  \n",
            "  inflating: /content/flowers_dataset/flowers/rose/898102603_2d5152f09a.jpg  \n",
            "  inflating: /content/flowers_dataset/flowers/daisy/2590291468_2635d3e4e0_n.jpg  \n",
            "  inflating: /content/flowers_dataset/flowers/dandelion/14614655810_9910e6dbd6_n.jpg  \n",
            "  inflating: /content/flowers_dataset/flowers/rose/488849503_63a290a8c2_m.jpg  \n",
            "  inflating: /content/flowers_dataset/flowers/daisy/13977181862_f8237b6b52.jpg  \n",
            "  inflating: /content/flowers_dataset/flowers/daisy/33814092924_b23d019011_n.jpg  \n",
            "  inflating: /content/flowers_dataset/flowers/daisy/34342014230_4230ae8e08_n.jpg  \n",
            "  inflating: /content/flowers_dataset/flowers/dandelion/5628515159_6b437ff1e5_n.jpg  \n",
            "  inflating: /content/flowers_dataset/flowers/daisy/19019544592_b64469bf84_n.jpg  \n",
            "  inflating: /content/flowers_dataset/flowers/dandelion/19437710780_c5f2156438.jpg  \n",
            "  inflating: /content/flowers_dataset/flowers/rose/5002452394_22896fb9df_n.jpg  \n",
            "  inflating: /content/flowers_dataset/flowers/daisy/10994032453_ac7f8d9e2e.jpg  \n",
            "  inflating: /content/flowers_dataset/flowers/daisy/25360380_1a881a5648.jpg  \n",
            "  inflating: /content/flowers_dataset/flowers/dandelion/7315832212_b0ceeb8de8_n.jpg  \n",
            "  inflating: /content/flowers_dataset/flowers/daisy/6208851904_9d916ebb32_n.jpg  \n",
            "  inflating: /content/flowers_dataset/flowers/dandelion/9719816995_8f211abf02_n.jpg  \n",
            "  inflating: /content/flowers_dataset/flowers/daisy/3764116502_f394428ee0_n.jpg  \n",
            "  inflating: /content/flowers_dataset/flowers/daisy/2561352120_7961d8263f.jpg  \n",
            "  inflating: /content/flowers_dataset/flowers/daisy/12585131704_0f64b17059_m.jpg  \n",
            "  inflating: /content/flowers_dataset/flowers/dandelion/34592557281_5f254b3a46_n.jpg  \n",
            "  inflating: /content/flowers_dataset/flowers/dandelion/7808545612_546cfca610_m.jpg  \n",
            "  inflating: /content/flowers_dataset/flowers/rose/512694812_48ba9c0b49_n.jpg  \n",
            "  inflating: /content/flowers_dataset/flowers/rose/2423565102_2f1a00bb1b_n.jpg  \n",
            "  inflating: /content/flowers_dataset/flowers/dandelion/9262004825_710346cde9_n.jpg  \n",
            "  inflating: /content/flowers_dataset/flowers/daisy/14866200659_6462c723cb_m.jpg  \n",
            "  inflating: /content/flowers_dataset/flowers/dandelion/8989067485_aab399460b_n.jpg  \n",
            "  inflating: /content/flowers_dataset/flowers/rose/4860145119_b1c3cbaa4e_n.jpg  \n",
            "  inflating: /content/flowers_dataset/flowers/dandelion/8684108_a85764b22d_n.jpg  \n",
            "  inflating: /content/flowers_dataset/flowers/dandelion/16713229021_bea2533981_n.jpg  \n",
            "  inflating: /content/flowers_dataset/flowers/daisy/154332674_453cea64f4.jpg  \n",
            "  inflating: /content/flowers_dataset/flowers/daisy/5623010186_796ca8d29a.jpg  \n",
            "  inflating: /content/flowers_dataset/flowers/dandelion/19626311985_58f1a79da3.jpg  \n",
            "  inflating: /content/flowers_dataset/flowers/rose/3052753519_d087aaeacb_n.jpg  \n",
            "  inflating: /content/flowers_dataset/flowers/daisy/18474740346_ffdaa18032.jpg  \n",
            "  inflating: /content/flowers_dataset/flowers/daisy/450128527_fd35742d44.jpg  \n",
            "  inflating: /content/flowers_dataset/flowers/dandelion/33199895303_9858f0a258_n.jpg  \n",
            "  inflating: /content/flowers_dataset/flowers/dandelion/34719957845_c929f480a3_n.jpg  \n",
            "  inflating: /content/flowers_dataset/flowers/dandelion/8929523512_c87897b84e.jpg  \n",
            "  inflating: /content/flowers_dataset/flowers/dandelion/2502627784_4486978bcf.jpg  \n",
            "  inflating: /content/flowers_dataset/flowers/rose/3705716290_cb7d803130_n.jpg  \n",
            "  inflating: /content/flowers_dataset/flowers/daisy/6596277835_9f86da54bb.jpg  \n",
            "  inflating: /content/flowers_dataset/flowers/daisy/20580471306_ab5a011b15_n.jpg  \n",
            "  inflating: /content/flowers_dataset/flowers/daisy/33806101464_5eca772954_n.jpg  \n",
            "  inflating: /content/flowers_dataset/flowers/daisy/10300722094_28fa978807_n.jpg  \n",
            "  inflating: /content/flowers_dataset/flowers/daisy/4413849849_b8d2f3bcf1_n.jpg  \n",
            "  inflating: /content/flowers_dataset/flowers/dandelion/6901435398_b3192ff7f8_m.jpg  \n",
            "  inflating: /content/flowers_dataset/flowers/dandelion/34334194690_0dfe3d8701_n.jpg  \n",
            "  inflating: /content/flowers_dataset/flowers/daisy/5981645737_29eceac291_m.jpg  \n",
            "  inflating: /content/flowers_dataset/flowers/dandelion/7226987694_34552c3115_n.jpg  \n",
            "  inflating: /content/flowers_dataset/flowers/dandelion/18204150090_fb418bbddb.jpg  \n",
            "  inflating: /content/flowers_dataset/flowers/daisy/5884807222_22f5326ba8_m.jpg  \n",
            "  inflating: /content/flowers_dataset/flowers/daisy/8322526877_95d1c0f8bc_n.jpg  \n",
            "  inflating: /content/flowers_dataset/flowers/daisy/34518374242_310e7abd54_n.jpg  \n",
            "  inflating: /content/flowers_dataset/flowers/dandelion/3530500952_9f94fb8b9c_m.jpg  \n",
            "  inflating: /content/flowers_dataset/flowers/rose/505517255_cfbb6f6394.jpg  \n",
            "  inflating: /content/flowers_dataset/flowers/rose/4553266758_09d4dbdac9_n.jpg  \n",
            "  inflating: /content/flowers_dataset/flowers/dandelion/4632761610_768360d425.jpg  \n",
            "  inflating: /content/flowers_dataset/flowers/daisy/2538504987_fe524b92a8_n.jpg  \n",
            "  inflating: /content/flowers_dataset/flowers/daisy/4697206799_19dd2a3193_m.jpg  \n",
            "  inflating: /content/flowers_dataset/flowers/rose/4505921907_21c8002fde.jpg  \n",
            "  inflating: /content/flowers_dataset/flowers/rose/4504220673_af754fcb40_n.jpg  \n",
            "  inflating: /content/flowers_dataset/flowers/dandelion/2670304799_a3f2eef516_m.jpg  \n",
            "  inflating: /content/flowers_dataset/flowers/dandelion/2512148749_261fa9d156.jpg  \n",
            "  inflating: /content/flowers_dataset/flowers/daisy/4858518329_7563eb0baa_m.jpg  \n",
            "  inflating: /content/flowers_dataset/flowers/daisy/10437770546_8bb6f7bdd3_m.jpg  \n",
            "  inflating: /content/flowers_dataset/flowers/dandelion/4601270210_60136f2b87_n.jpg  \n",
            "  inflating: /content/flowers_dataset/flowers/dandelion/7162551630_3647eb9254.jpg  \n",
            "  inflating: /content/flowers_dataset/flowers/daisy/14372713423_61e2daae88.jpg  \n",
            "  inflating: /content/flowers_dataset/flowers/daisy/5434742166_35773eba57_m.jpg  \n",
            "  inflating: /content/flowers_dataset/flowers/daisy/13901930939_a7733c03f0_n.jpg  \n",
            "  inflating: /content/flowers_dataset/flowers/dandelion/4606893762_c2f26c7e91_n.jpg  \n",
            "  inflating: /content/flowers_dataset/flowers/dandelion/15644450971_6a28298454_n.jpg  \n",
            "  inflating: /content/flowers_dataset/flowers/dandelion/22190242684_8c3300d4e6.jpg  \n",
            "  inflating: /content/flowers_dataset/flowers/dandelion/14373114081_7922bcf765_n.jpg  \n",
            "  inflating: /content/flowers_dataset/flowers/dandelion/16953818045_fea21c8bf8.jpg  \n",
            "  inflating: /content/flowers_dataset/flowers/dandelion/4164845062_1fd9b3f3b4.jpg  \n",
            "  inflating: /content/flowers_dataset/flowers/daisy/6864242336_0d12713fe5_n.jpg  \n",
            "  inflating: /content/flowers_dataset/flowers/daisy/4785888250_b661eac225_n.jpg  \n",
            "  inflating: /content/flowers_dataset/flowers/rose/3654988152_b11178bbcb.jpg  \n",
            "  inflating: /content/flowers_dataset/flowers/dandelion/9818247_e2eac18894.jpg  \n",
            "  inflating: /content/flowers_dataset/flowers/daisy/33918001783_06a692e371_n.jpg  \n",
            "  inflating: /content/flowers_dataset/flowers/dandelion/2330339852_fbbdeb7306_n.jpg  \n",
            "  inflating: /content/flowers_dataset/flowers/daisy/695778683_890c46ebac.jpg  \n",
            "  inflating: /content/flowers_dataset/flowers/daisy/22873310415_3a5674ec10_m.jpg  \n",
            "  inflating: /content/flowers_dataset/flowers/daisy/14354051035_1037b30421_n.jpg  \n",
            "  inflating: /content/flowers_dataset/flowers/rose/5002456992_4da0df247a_n.jpg  \n",
            "  inflating: /content/flowers_dataset/flowers/rose/1756973583_4aac7df00d_m.jpg  \n",
            "  inflating: /content/flowers_dataset/flowers/daisy/3639009391_0f910681b7.jpg  \n",
            "  inflating: /content/flowers_dataset/flowers/dandelion/34583574661_8010a1fdf4_n.jpg  \n",
            "  inflating: /content/flowers_dataset/flowers/dandelion/3998927705_af499a4f29.jpg  \n",
            "  inflating: /content/flowers_dataset/flowers/dandelion/17029965300_8e755c2214_n.jpg  \n",
            "  inflating: /content/flowers_dataset/flowers/daisy/2567033807_8e918c53d8_n.jpg  \n",
            "  inflating: /content/flowers_dataset/flowers/dandelion/2683330456_0f7bbce110_m.jpg  \n",
            "  inflating: /content/flowers_dataset/flowers/daisy/14163875973_467224aaf5_m.jpg  \n",
            "  inflating: /content/flowers_dataset/flowers/daisy/2001380507_19488ff96a_n.jpg  \n",
            "  inflating: /content/flowers_dataset/flowers/daisy/3773181799_5def396456.jpg  \n",
            "  inflating: /content/flowers_dataset/flowers/dandelion/7368449232_c99f49b2e6_n.jpg  \n",
            "  inflating: /content/flowers_dataset/flowers/dandelion/3584414925_1e6c4b61db_n.jpg  \n",
            "  inflating: /content/flowers_dataset/flowers/rose/1813435848_7852708394_n.jpg  \n",
            "  inflating: /content/flowers_dataset/flowers/dandelion/8935477500_89f22cca03_n.jpg  \n",
            "  inflating: /content/flowers_dataset/flowers/dandelion/141935731_d26d600f4f_m.jpg  \n",
            "  inflating: /content/flowers_dataset/flowers/daisy/3310644753_5607eb96a4_m.jpg  \n",
            "  inflating: /content/flowers_dataset/flowers/rose/5001847255_34ff6146ec_n.jpg  \n",
            "  inflating: /content/flowers_dataset/flowers/dandelion/5651310874_c8be336c2b.jpg  \n",
            "  inflating: /content/flowers_dataset/flowers/daisy/14332947164_9b13513c71_m.jpg  \n",
            "  inflating: /content/flowers_dataset/flowers/dandelion/8952484062_31d1d97e45.jpg  \n",
            "  inflating: /content/flowers_dataset/flowers/daisy/158869618_f1a6704236_n.jpg  \n",
            "  inflating: /content/flowers_dataset/flowers/daisy/2521408074_e6f86daf21_n.jpg  \n",
            "  inflating: /content/flowers_dataset/flowers/daisy/8446495985_f72d851482.jpg  \n",
            "  inflating: /content/flowers_dataset/flowers/daisy/34613530216_26cf037012_n.jpg  \n",
            "  inflating: /content/flowers_dataset/flowers/dandelion/3688128868_031e7b53e1_n.jpg  \n",
            "  inflating: /content/flowers_dataset/flowers/rose/1793211631_68c31a74dc.jpg  \n",
            "  inflating: /content/flowers_dataset/flowers/daisy/495098110_3a4bb30042_n.jpg  \n",
            "  inflating: /content/flowers_dataset/flowers/rose/3661675690_ed2d05fa5f_n.jpg  \n",
            "  inflating: /content/flowers_dataset/flowers/dandelion/6983105424_f33cc9b08d_m.jpg  \n",
            "  inflating: /content/flowers_dataset/flowers/dandelion/5110103388_78dc02558e_n.jpg  \n",
            "  inflating: /content/flowers_dataset/flowers/daisy/3637428148_a1dcccafa9_n.jpg  \n",
            "  inflating: /content/flowers_dataset/flowers/dandelion/10200780773_c6051a7d71_n.jpg  \n",
            "  inflating: /content/flowers_dataset/flowers/dandelion/4258272073_f616d1e575_m.jpg  \n",
            "  inflating: /content/flowers_dataset/flowers/dandelion/2963905796_227d37ff12.jpg  \n",
            "  inflating: /content/flowers_dataset/flowers/rose/2347579838_dd6d2aaefc_n.jpg  \n",
            "  inflating: /content/flowers_dataset/flowers/daisy/8127252886_96558c23d1.jpg  \n",
            "  inflating: /content/flowers_dataset/flowers/daisy/14114116486_0bb6649bc1_m.jpg  \n",
            "  inflating: /content/flowers_dataset/flowers/dandelion/8327657321_2cbceec396_n.jpg  \n",
            "  inflating: /content/flowers_dataset/flowers/daisy/14399435971_ea5868c792.jpg  \n",
            "  inflating: /content/flowers_dataset/flowers/dandelion/5726984343_ae124aed97.jpg  \n",
            "  inflating: /content/flowers_dataset/flowers/dandelion/3554992110_81d8c9b0bd_m.jpg  \n",
            "  inflating: /content/flowers_dataset/flowers/daisy/34520690871_8fe693bc71_n.jpg  \n",
            "  inflating: /content/flowers_dataset/flowers/daisy/33849854704_d2a2415e4d_n.jpg  \n",
            "  inflating: /content/flowers_dataset/flowers/rose/3997609936_8db20b7141_n.jpg  \n",
            "  inflating: /content/flowers_dataset/flowers/dandelion/13652698934_d258a6ee8c.jpg  \n",
            "  inflating: /content/flowers_dataset/flowers/daisy/10172567486_2748826a8b.jpg  \n",
            "  inflating: /content/flowers_dataset/flowers/dandelion/8747223572_dcd9601e99.jpg  \n",
            "  inflating: /content/flowers_dataset/flowers/daisy/6776075110_1ea7a09dd4_n.jpg  \n",
            "  inflating: /content/flowers_dataset/flowers/dandelion/19617425002_b914c1e2ab.jpg  \n",
            "  inflating: /content/flowers_dataset/flowers/dandelion/2477231067_3aecef1bf8_n.jpg  \n",
            "  inflating: /content/flowers_dataset/flowers/dandelion/34591866681_ff35af51df_n.jpg  \n",
            "  inflating: /content/flowers_dataset/flowers/rose/5002448396_7ca4d44086_n.jpg  \n",
            "  inflating: /content/flowers_dataset/flowers/rose/4900231976_f8ced2b42a_n.jpg  \n",
            "  inflating: /content/flowers_dataset/flowers/rose/145862135_ab710de93c_n.jpg  \n",
            "  inflating: /content/flowers_dataset/flowers/rose/563847503_89e9756c80.jpg  \n",
            "  inflating: /content/flowers_dataset/flowers/dandelion/19613308325_a67792d889.jpg  \n",
            "  inflating: /content/flowers_dataset/flowers/dandelion/4669006062_6b3d260037_n.jpg  \n",
            "  inflating: /content/flowers_dataset/flowers/rose/22679076_bdb4c24401_m.jpg  \n",
            "  inflating: /content/flowers_dataset/flowers/daisy/3780380240_ef9ec1b737_m.jpg  \n",
            "  inflating: /content/flowers_dataset/flowers/dandelion/510897767_918260db93.jpg  \n",
            "  inflating: /content/flowers_dataset/flowers/daisy/6095817094_3a5b1d793d.jpg  \n",
            "  inflating: /content/flowers_dataset/flowers/rose/3556123230_936bf084a5_n.jpg  \n",
            "  inflating: /content/flowers_dataset/flowers/rose/5088766459_f81f50e57d_n.jpg  \n",
            "  inflating: /content/flowers_dataset/flowers/rose/459042023_6273adc312_n.jpg  \n",
            "  inflating: /content/flowers_dataset/flowers/rose/5002452576_f61a48b2e3_n.jpg  \n",
            "  inflating: /content/flowers_dataset/flowers/dandelion/8805314187_1aed702082_n.jpg  \n",
            "  inflating: /content/flowers_dataset/flowers/daisy/754248840_95092de274.jpg  \n",
            "  inflating: /content/flowers_dataset/flowers/dandelion/33857437664_f2ddb77592_n.jpg  \n",
            "  inflating: /content/flowers_dataset/flowers/dandelion/14469481104_d0e29f7ffd.jpg  \n",
            "  inflating: /content/flowers_dataset/flowers/daisy/3475870145_685a19116d.jpg  \n",
            "  inflating: /content/flowers_dataset/flowers/daisy/5997702776_c7bc37aa6b_n.jpg  \n",
            "  inflating: /content/flowers_dataset/flowers/daisy/14674743211_f68b13f6d9.jpg  \n",
            "  inflating: /content/flowers_dataset/flowers/daisy/9225336602_e6c392f941_n.jpg  \n",
            "  inflating: /content/flowers_dataset/flowers/daisy/3356112863_75da8bca2c_m.jpg  \n",
            "  inflating: /content/flowers_dataset/flowers/dandelion/4696437766_85952d0196.jpg  \n",
            "  inflating: /content/flowers_dataset/flowers/dandelion/4265711814_9a006ee5b8.jpg  \n",
            "  inflating: /content/flowers_dataset/flowers/daisy/3611577717_f3a7a8c416_n.jpg  \n",
            "  inflating: /content/flowers_dataset/flowers/dandelion/34694280496_d457f0d7b7_n.jpg  \n",
            "  inflating: /content/flowers_dataset/flowers/rose/1562198683_8cd8cb5876_n.jpg  \n",
            "  inflating: /content/flowers_dataset/flowers/rose/3948347096_42261f047a_m.jpg  \n",
            "  inflating: /content/flowers_dataset/flowers/daisy/9467543719_c4800becbb_m.jpg  \n",
            "  inflating: /content/flowers_dataset/flowers/dandelion/5772194932_60b833091f.jpg  \n",
            "  inflating: /content/flowers_dataset/flowers/daisy/34326606950_41ff8997d7_n.jpg  \n",
            "  inflating: /content/flowers_dataset/flowers/dandelion/16970837587_4a9d8500d7.jpg  \n",
            "  inflating: /content/flowers_dataset/flowers/dandelion/5003160931_cf8cbb846f.jpg  \n",
            "  inflating: /content/flowers_dataset/flowers/rose/5002458392_f465ed905e_n.jpg  \n",
            "  inflating: /content/flowers_dataset/flowers/dandelion/34694292346_83b4d97809_n.jpg  \n",
            "  inflating: /content/flowers_dataset/flowers/rose/5001843683_ac3e5f2c87_n.jpg  \n",
            "  inflating: /content/flowers_dataset/flowers/daisy/5602738326_97121e007d_n.jpg  \n",
            "  inflating: /content/flowers_dataset/flowers/daisy/4654579740_6671a53627_m.jpg  \n",
            "  inflating: /content/flowers_dataset/flowers/rose/921138131_9e1393eb2b_m.jpg  \n",
            "  inflating: /content/flowers_dataset/flowers/dandelion/2335702923_decb9a860b_m.jpg  \n",
            "  inflating: /content/flowers_dataset/flowers/daisy/3338077096_3a8ed0e2bc_m.jpg  \n",
            "  inflating: /content/flowers_dataset/flowers/dandelion/2480853696_aacdbb5324.jpg  \n",
            "  inflating: /content/flowers_dataset/flowers/daisy/1285423653_18926dc2c8_n.jpg  \n",
            "  inflating: /content/flowers_dataset/flowers/daisy/34602180741_cf2f671ba5_n.jpg  \n",
            "  inflating: /content/flowers_dataset/flowers/dandelion/15123503538_8ee984abc6.jpg  \n",
            "  inflating: /content/flowers_dataset/flowers/daisy/6210664514_f1d211217a.jpg  \n",
            "  inflating: /content/flowers_dataset/flowers/daisy/100080576_f52e8ee070_n.jpg  \n",
            "  inflating: /content/flowers_dataset/flowers/daisy/8094774544_35465c1c64.jpg  \n",
            "  inflating: /content/flowers_dataset/flowers/daisy/33901756843_94e198d40e_n.jpg  \n",
            "  inflating: /content/flowers_dataset/flowers/daisy/34510103621_250ee7ae64_n.jpg  \n",
            "  inflating: /content/flowers_dataset/flowers/dandelion/9029297232_de50698e2f_n.jpg  \n",
            "  inflating: /content/flowers_dataset/flowers/dandelion/18183515403_13a9ca6d86_n.jpg  \n",
            "  inflating: /content/flowers_dataset/flowers/dandelion/8739657154_6db14796c9.jpg  \n",
            "  inflating: /content/flowers_dataset/flowers/dandelion/33869330174_b259025135_n.jpg  \n",
            "  inflating: /content/flowers_dataset/flowers/daisy/27400851831_fe08fbcb66_n.jpg  \n",
            "  inflating: /content/flowers_dataset/flowers/rose/1540738662_7b4152e344_m.jpg  \n",
            "  inflating: /content/flowers_dataset/flowers/daisy/4897587985_f9293ea1ed.jpg  \n",
            "  inflating: /content/flowers_dataset/flowers/dandelion/4155914848_3d57f50fc7.jpg  \n",
            "  inflating: /content/flowers_dataset/flowers/daisy/10770585085_4742b9dac3_n.jpg  \n",
            "  inflating: /content/flowers_dataset/flowers/dandelion/7141013005_d2f168c373.jpg  \n",
            "  inflating: /content/flowers_dataset/flowers/dandelion/2449852402_45d12b9875_n.jpg  \n",
            "  inflating: /content/flowers_dataset/flowers/dandelion/5607256228_2294c201b3.jpg  \n",
            "  inflating: /content/flowers_dataset/flowers/dandelion/2465442759_d4532a57a3.jpg  \n",
            "  inflating: /content/flowers_dataset/flowers/dandelion/5629940298_634f35125c.jpg  \n",
            "  inflating: /content/flowers_dataset/flowers/daisy/34664107325_701d5c6f08_n.jpg  \n",
            "  inflating: /content/flowers_dataset/flowers/daisy/34546994701_a000b283f1_n.jpg  \n",
            "  inflating: /content/flowers_dataset/flowers/dandelion/14554897292_b3e30e52f2.jpg  \n",
            "  inflating: /content/flowers_dataset/flowers/daisy/34665595995_13f76d5b60_n.jpg  \n",
            "  inflating: /content/flowers_dataset/flowers/daisy/5722473541_ffac1ae67e_n.jpg  \n",
            "  inflating: /content/flowers_dataset/flowers/daisy/5574421625_61b1f49b3f_m.jpg  \n",
            "  inflating: /content/flowers_dataset/flowers/daisy/162362897_1d21b70621_m.jpg  \n",
            "  inflating: /content/flowers_dataset/flowers/dandelion/8757650550_113d7af3bd.jpg  \n",
            "  inflating: /content/flowers_dataset/flowers/daisy/2573240560_ff7ffdd449.jpg  \n",
            "  inflating: /content/flowers_dataset/flowers/dandelion/5110102140_787d325757_n.jpg  \n",
            "  inflating: /content/flowers_dataset/flowers/daisy/4851353993_2cbbbd1040_n.jpg  \n",
            "  inflating: /content/flowers_dataset/flowers/rose/5001858821_731d128f20_n.jpg  \n",
            "  inflating: /content/flowers_dataset/flowers/rose/5001844777_d9e1968119_n.jpg  \n",
            "  inflating: /content/flowers_dataset/flowers/daisy/33802431204_7c58f4e21b_n.jpg  \n",
            "  inflating: /content/flowers_dataset/flowers/daisy/8616684075_71923bb771_n.jpg  \n",
            "  inflating: /content/flowers_dataset/flowers/rose/466486216_ab13b55763.jpg  \n",
            "  inflating: /content/flowers_dataset/flowers/rose/1446097778_97149b8362.jpg  \n",
            "  inflating: /content/flowers_dataset/flowers/rose/4243078361_7b92a932cd_n.jpg  \n",
            "  inflating: /content/flowers_dataset/flowers/dandelion/14065420729_9b388bf7cb_m.jpg  \n",
            "  inflating: /content/flowers_dataset/flowers/dandelion/15782158700_3b9bf7d33e_m.jpg  \n",
            "  inflating: /content/flowers_dataset/flowers/dandelion/11545123_50a340b473_m.jpg  \n",
            "  inflating: /content/flowers_dataset/flowers/daisy/20948886919_cac7844f34_n.jpg  \n",
            "  inflating: /content/flowers_dataset/flowers/daisy/9180706736_092d43088c.jpg  \n",
            "  inflating: /content/flowers_dataset/flowers/rose/1469726748_f359f4a8c5.jpg  \n",
            "  inflating: /content/flowers_dataset/flowers/daisy/18442919723_d1251d3e14_n.jpg  \n",
            "  inflating: /content/flowers_dataset/flowers/rose/1667199972_7ba7d999c1_m.jpg  \n",
            "  inflating: /content/flowers_dataset/flowers/daisy/33887503434_a2762228f4_n.jpg  \n",
            "  inflating: /content/flowers_dataset/flowers/rose/3407482427_49d5c75291_m.jpg  \n",
            "  inflating: /content/flowers_dataset/flowers/daisy/10841136265_af473efc60.jpg  \n",
            "  inflating: /content/flowers_dataset/flowers/daisy/8694909523_3ca25d449d_n.jpg  \n",
            "  inflating: /content/flowers_dataset/flowers/dandelion/4510938552_6f7bae172a_n.jpg  \n",
            "  inflating: /content/flowers_dataset/flowers/daisy/11891885265_ccefec7284_n.jpg  \n",
            "  inflating: /content/flowers_dataset/flowers/rose/3742168238_d961937e68_n.jpg  \n",
            "  inflating: /content/flowers_dataset/flowers/dandelion/2470874500_43d8011e75.jpg  \n",
            "  inflating: /content/flowers_dataset/flowers/daisy/4694734757_5c563d38dd_n.jpg  \n",
            "  inflating: /content/flowers_dataset/flowers/dandelion/34310456510_a4ceda64da_n.jpg  \n",
            "  inflating: /content/flowers_dataset/flowers/rose/2536282942_b5ca27577e.jpg  \n",
            "  inflating: /content/flowers_dataset/flowers/dandelion/5646743865_a8f20b60f7_n.jpg  \n",
            "  inflating: /content/flowers_dataset/flowers/rose/4575042086_7674b76297_n.jpg  \n",
            "  inflating: /content/flowers_dataset/flowers/dandelion/29138994986_267e0e36c9_n.jpg  \n",
            "  inflating: /content/flowers_dataset/flowers/rose/3630246240_4fee9a33db.jpg  \n",
            "  inflating: /content/flowers_dataset/flowers/rose/527513005_41497ca4dc.jpg  \n",
            "  inflating: /content/flowers_dataset/flowers/dandelion/136011860_44ca0b2835_n.jpg  \n",
            "  inflating: /content/flowers_dataset/flowers/daisy/1150395827_6f94a5c6e4_n.jpg  \n",
            "  inflating: /content/flowers_dataset/flowers/rose/2141413229_3f0425f972_n.jpg  \n",
            "  inflating: /content/flowers_dataset/flowers/daisy/2482982436_a2145359e0_n.jpg  \n",
            "  inflating: /content/flowers_dataset/flowers/rose/3475572132_01ae28e834_n.jpg  \n",
            "  inflating: /content/flowers_dataset/flowers/daisy/33880234094_2541c9c83d_n.jpg  \n",
            "  inflating: /content/flowers_dataset/flowers/dandelion/9617087594_ec2a9b16f6.jpg  \n",
            "  inflating: /content/flowers_dataset/flowers/rose/5212877807_a3ddf06a7c_n.jpg  \n",
            "  inflating: /content/flowers_dataset/flowers/dandelion/8915661673_9a1cdc3755_m.jpg  \n",
            "  inflating: /content/flowers_dataset/flowers/daisy/2641979584_2b21c3fe29_m.jpg  \n",
            "  inflating: /content/flowers_dataset/flowers/rose/3621011057_0d03bd171b_n.jpg  \n",
            "  inflating: /content/flowers_dataset/flowers/dandelion/9010116368_2f51f1e086_n.jpg  \n",
            "  inflating: /content/flowers_dataset/flowers/dandelion/14003401241_543535b385.jpg  \n",
            "  inflating: /content/flowers_dataset/flowers/daisy/3196066025_d187108070_n.jpg  \n",
            "  inflating: /content/flowers_dataset/flowers/daisy/754296579_30a9ae018c_n.jpg  \n",
            "  inflating: /content/flowers_dataset/flowers/dandelion/14202166370_e989588332.jpg  \n",
            "  inflating: /content/flowers_dataset/flowers/dandelion/3458770076_17ed3a1225.jpg  \n",
            "  inflating: /content/flowers_dataset/flowers/dandelion/13967344688_aa629dcdee_n.jpg  \n",
            "  inflating: /content/flowers_dataset/flowers/dandelion/4944731313_023a0508fd_n.jpg  \n",
            "  inflating: /content/flowers_dataset/flowers/dandelion/33881120324_552f677c1a_n.jpg  \n",
            "  inflating: /content/flowers_dataset/flowers/dandelion/33859759654_be0be6f876_n.jpg  \n",
            "  inflating: /content/flowers_dataset/flowers/rose/3253243865_435c1f2c2b_m.jpg  \n",
            "  inflating: /content/flowers_dataset/flowers/dandelion/34335240590_41e4a393db_n.jpg  \n",
            "  inflating: /content/flowers_dataset/flowers/dandelion/8684925862_d736e153bf_n.jpg  \n",
            "  inflating: /content/flowers_dataset/flowers/dandelion/19691175559_ef12b8b354_n.jpg  \n",
            "  inflating: /content/flowers_dataset/flowers/rose/5073473370_bdbb5a99fc.jpg  \n",
            "  inflating: /content/flowers_dataset/flowers/daisy/34476770012_38fba290f3_n.jpg  \n",
            "  inflating: /content/flowers_dataset/flowers/daisy/17027891179_3edc08f4f6.jpg  \n",
            "  inflating: /content/flowers_dataset/flowers/dandelion/146242691_44d9c9d6ce_n.jpg  \n",
            "  inflating: /content/flowers_dataset/flowers/dandelion/34692530906_fe2470a5e5_n.jpg  \n",
            "  inflating: /content/flowers_dataset/flowers/rose/4588034197_e300b0872a_n.jpg  \n",
            "  inflating: /content/flowers_dataset/flowers/daisy/9221345475_67735dbf4f_n.jpg  \n",
            "  inflating: /content/flowers_dataset/flowers/dandelion/8701999625_8d83138124.jpg  \n",
            "  inflating: /content/flowers_dataset/flowers/dandelion/13560152823_9da5e48c87_m.jpg  \n",
            "  inflating: /content/flowers_dataset/flowers/daisy/14307766919_fac3c37a6b_m.jpg  \n",
            "  inflating: /content/flowers_dataset/flowers/daisy/14485782498_fb342ec301.jpg  \n",
            "  inflating: /content/flowers_dataset/flowers/dandelion/19602790836_912d38aaa8.jpg  \n",
            "  inflating: /content/flowers_dataset/flowers/daisy/5714327423_50af0cffe9.jpg  \n",
            "  inflating: /content/flowers_dataset/flowers/daisy/16291797949_a1b1b7c2bd_n.jpg  \n",
            "  inflating: /content/flowers_dataset/flowers/dandelion/1080179756_5f05350a59.jpg  \n",
            "  inflating: /content/flowers_dataset/flowers/rose/4612826243_7d86870a1b_n.jpg  \n",
            "  inflating: /content/flowers_dataset/flowers/daisy/14272874304_47c0a46f5a.jpg  \n",
            "  inflating: /content/flowers_dataset/flowers/dandelion/2517777524_e871ec5291_m.jpg  \n",
            "  inflating: /content/flowers_dataset/flowers/daisy/2057816617_18448093d0_n.jpg  \n",
            "  inflating: /content/flowers_dataset/flowers/dandelion/2443192475_c64c66d9c2.jpg  \n",
            "  inflating: /content/flowers_dataset/flowers/daisy/4993492878_11fd4f5d12.jpg  \n",
            "  inflating: /content/flowers_dataset/flowers/dandelion/17322195031_c2680809dc_m.jpg  \n",
            "  inflating: /content/flowers_dataset/flowers/dandelion/2512977446_ac498955ee.jpg  \n",
            "  inflating: /content/flowers_dataset/flowers/daisy/14087947408_9779257411_n.jpg  \n",
            "  inflating: /content/flowers_dataset/flowers/dandelion/34700475225_fbc12d0834_n.jpg  \n",
            "  inflating: /content/flowers_dataset/flowers/dandelion/33875520194_09bff6f262_n.jpg  \n",
            "  inflating: /content/flowers_dataset/flowers/dandelion/11296320473_1d9261ddcb.jpg  \n",
            "  inflating: /content/flowers_dataset/flowers/dandelion/7165651120_2279ebf6d1.jpg  \n",
            "  inflating: /content/flowers_dataset/flowers/daisy/8085329197_41d53a21e2_n.jpg  \n",
            "  inflating: /content/flowers_dataset/flowers/rose/5001847439_83e02981e8_n.jpg  \n",
            "  inflating: /content/flowers_dataset/flowers/rose/3450344423_63ba3190e3.jpg  \n",
            "  inflating: /content/flowers_dataset/flowers/dandelion/8749577087_dc2521615f_n.jpg  \n",
            "  inflating: /content/flowers_dataset/flowers/dandelion/27299697786_75340698c5_n.jpg  \n",
            "  inflating: /content/flowers_dataset/flowers/dandelion/23659122395_3467d88c02_n.jpg  \n",
            "  inflating: /content/flowers_dataset/flowers/dandelion/15358221063_2c6e548e84.jpg  \n",
            "  inflating: /content/flowers_dataset/flowers/rose/5001847693_77a9fb4f3c_n.jpg  \n",
            "  inflating: /content/flowers_dataset/flowers/dandelion/921252114_91e334b950.jpg  \n",
            "  inflating: /content/flowers_dataset/flowers/daisy/2617111535_54c2ac8462.jpg  \n",
            "  inflating: /content/flowers_dataset/flowers/dandelion/5749815755_12f9214649_n.jpg  \n",
            "  inflating: /content/flowers_dataset/flowers/dandelion/4151883194_e45505934d_n.jpg  \n",
            "  inflating: /content/flowers_dataset/flowers/dandelion/3512879565_88dd8fc269_n.jpg  \n",
            "  inflating: /content/flowers_dataset/flowers/daisy/5869147563_66fb88119d.jpg  \n",
            "  inflating: /content/flowers_dataset/flowers/daisy/34701078235_4a770d14a1_n.jpg  \n",
            "  inflating: /content/flowers_dataset/flowers/daisy/102841525_bd6628ae3c.jpg  \n",
            "  inflating: /content/flowers_dataset/flowers/daisy/33871813063_d7b6bedafe_n.jpg  \n",
            "  inflating: /content/flowers_dataset/flowers/daisy/4432271543_01c56ca3a9.jpg  \n",
            "  inflating: /content/flowers_dataset/flowers/dandelion/3589816063_50f8de7b64_m.jpg  \n",
            "  inflating: /content/flowers_dataset/flowers/daisy/3552074420_2a0a7166db_m.jpg  \n",
            "  inflating: /content/flowers_dataset/flowers/dandelion/8270191872_61e47ae3b8_m.jpg  \n",
            "  inflating: /content/flowers_dataset/flowers/daisy/5626784099_b36dd3fb11_n.jpg  \n",
            "  inflating: /content/flowers_dataset/flowers/dandelion/14093789753_f0f1acdb57.jpg  \n",
            "  inflating: /content/flowers_dataset/flowers/rose/4065283966_9504b98269.jpg  \n",
            "  inflating: /content/flowers_dataset/flowers/daisy/9146733107_98b15d3892_m.jpg  \n",
            "  inflating: /content/flowers_dataset/flowers/daisy/7288989324_c25d9febbf.jpg  \n",
            "  inflating: /content/flowers_dataset/flowers/daisy/2454280135_ac3aa75cdc_n.jpg  \n",
            "  inflating: /content/flowers_dataset/flowers/dandelion/34686041416_e50c8028f9_n.jpg  \n",
            "  inflating: /content/flowers_dataset/flowers/rose/2471103806_87ba53d997_n.jpg  \n",
            "  inflating: /content/flowers_dataset/flowers/dandelion/19438516548_bbaf350664.jpg  \n",
            "  inflating: /content/flowers_dataset/flowers/daisy/2213954589_c7da4b1486.jpg  \n",
            "  inflating: /content/flowers_dataset/flowers/dandelion/501987276_744448580c_m.jpg  \n",
            "  inflating: /content/flowers_dataset/flowers/dandelion/8842482175_92a14b4934_m.jpg  \n",
            "  inflating: /content/flowers_dataset/flowers/dandelion/10617191174_9a01753241_n.jpg  \n",
            "  inflating: /content/flowers_dataset/flowers/rose/5001846495_56068de2da_n.jpg  \n",
            "  inflating: /content/flowers_dataset/flowers/daisy/2828733818_1c1ed0089d_n.jpg  \n",
            "  inflating: /content/flowers_dataset/flowers/dandelion/2489438981_4eb60ef98f_m.jpg  \n",
            "  inflating: /content/flowers_dataset/flowers/daisy/14921511479_7b0a647795.jpg  \n",
            "  inflating: /content/flowers_dataset/flowers/dandelion/33886917763_2db539f182_n.jpg  \n",
            "  inflating: /content/flowers_dataset/flowers/dandelion/34587934371_1a0429111e_n.jpg  \n",
            "  inflating: /content/flowers_dataset/flowers/dandelion/18803577858_fd0036e1f5_m.jpg  \n",
            "  inflating: /content/flowers_dataset/flowers/dandelion/2518321294_dde5aa7c20_m.jpg  \n",
            "  inflating: /content/flowers_dataset/flowers/dandelion/33925191623_d355f976ef_n.jpg  \n",
            "  inflating: /content/flowers_dataset/flowers/rose/909277823_e6fb8cb5c8_n.jpg  \n",
            "  inflating: /content/flowers_dataset/flowers/daisy/12193032636_b50ae7db35_n.jpg  \n",
            "  inflating: /content/flowers_dataset/flowers/rose/5180896559_b8cfefc21e.jpg  \n",
            "  inflating: /content/flowers_dataset/flowers/rose/5001854143_d868390640_n.jpg  \n",
            "  inflating: /content/flowers_dataset/flowers/dandelion/19064700925_b93d474e37.jpg  \n",
            "  inflating: /content/flowers_dataset/flowers/rose/4612774939_e26ec1c34d_n.jpg  \n",
            "  inflating: /content/flowers_dataset/flowers/daisy/909609509_a05ccb8127.jpg  \n",
            "  inflating: /content/flowers_dataset/flowers/dandelion/2535769822_513be6bbe9.jpg  \n",
            "  inflating: /content/flowers_dataset/flowers/daisy/2642408410_61545fdc83_n.jpg  \n",
            "  inflating: /content/flowers_dataset/flowers/daisy/8983779970_9d3a6a3bf2_n.jpg  \n",
            "  inflating: /content/flowers_dataset/flowers/dandelion/4290112545_3528055993_m.jpg  \n",
            "  inflating: /content/flowers_dataset/flowers/daisy/19834392829_7d697871f6.jpg  \n",
            "  inflating: /content/flowers_dataset/flowers/dandelion/2392273474_a64cef0eaf_n.jpg  \n",
            "  inflating: /content/flowers_dataset/flowers/rose/2197754124_5c8a146761_n.jpg  \n",
            "  inflating: /content/flowers_dataset/flowers/daisy/19653086178_28156b7ce4_m.jpg  \n",
            "  inflating: /content/flowers_dataset/flowers/rose/4325834819_ab56661dcc_m.jpg  \n",
            "  inflating: /content/flowers_dataset/flowers/rose/4612833069_8e48b47aa4_n.jpg  \n",
            "  inflating: /content/flowers_dataset/flowers/daisy/105806915_a9c13e2106_n.jpg  \n",
            "  inflating: /content/flowers_dataset/flowers/dandelion/17020815734_81e8db8008_m.jpg  \n",
            "  inflating: /content/flowers_dataset/flowers/daisy/4561871220_47f420ca59_m.jpg  \n",
            "  inflating: /content/flowers_dataset/flowers/rose/4765063233_f64440c20b.jpg  \n",
            "  inflating: /content/flowers_dataset/flowers/daisy/9094631844_1a6abca29e.jpg  \n",
            "  inflating: /content/flowers_dataset/flowers/rose/2535466143_5823e48b63.jpg  \n",
            "  inflating: /content/flowers_dataset/flowers/dandelion/515143813_b3afb08bf9.jpg  \n",
            "  inflating: /content/flowers_dataset/flowers/daisy/13953307149_f8de6a768c_m.jpg  \n",
            "  inflating: /content/flowers_dataset/flowers/dandelion/9853885425_4a82356f1d_m.jpg  \n",
            "  inflating: /content/flowers_dataset/flowers/daisy/4581199679_867652c3f1_n.jpg  \n",
            "  inflating: /content/flowers_dataset/flowers/daisy/33872893913_72d64a9b85_n.jpg  \n",
            "  inflating: /content/flowers_dataset/flowers/dandelion/19622465055_2a62ebd504_m.jpg  \n",
            "  inflating: /content/flowers_dataset/flowers/dandelion/2625836599_03e192266f.jpg  \n",
            "  inflating: /content/flowers_dataset/flowers/dandelion/8969938579_4c2032dd96_n.jpg  \n",
            "  inflating: /content/flowers_dataset/flowers/dandelion/8707349105_6d06b543b0.jpg  \n",
            "  inflating: /content/flowers_dataset/flowers/rose/1445228333_59a07e0801.jpg  \n",
            "  inflating: /content/flowers_dataset/flowers/daisy/5459481183_18d2d49e44_m.jpg  \n",
            "  inflating: /content/flowers_dataset/flowers/dandelion/479115838_0771a6cdff.jpg  \n",
            "  inflating: /content/flowers_dataset/flowers/dandelion/1776290427_9d8d5be6ac.jpg  \n",
            "  inflating: /content/flowers_dataset/flowers/dandelion/16716172029_2166d8717f_m.jpg  \n",
            "  inflating: /content/flowers_dataset/flowers/dandelion/17243540220_65b98eb926_n.jpg  \n",
            "  inflating: /content/flowers_dataset/flowers/daisy/34261196280_aa99186136_n.jpg  \n",
            "  inflating: /content/flowers_dataset/flowers/rose/5002449706_647ffe5249_n.jpg  \n",
            "  inflating: /content/flowers_dataset/flowers/rose/5002456302_e3d2600c17_n.jpg  \n",
            "  inflating: /content/flowers_dataset/flowers/daisy/6884975451_c74f445d69_m.jpg  \n",
            "  inflating: /content/flowers_dataset/flowers/dandelion/2503875867_2075a9225d_m.jpg  \n",
            "  inflating: /content/flowers_dataset/flowers/dandelion/3823142577_dd5acd5ac6_n.jpg  \n",
            "  inflating: /content/flowers_dataset/flowers/daisy/33911247013_82a1acfcea_n.jpg  \n",
            "  inflating: /content/flowers_dataset/flowers/daisy/8645839873_0151fb92bf_n.jpg  \n",
            "  inflating: /content/flowers_dataset/flowers/dandelion/10919961_0af657c4e8.jpg  \n",
            "  inflating: /content/flowers_dataset/flowers/dandelion/13887066460_64156a9021.jpg  \n",
            "  inflating: /content/flowers_dataset/flowers/daisy/18622672908_eab6dc9140_n.jpg  \n",
            "  inflating: /content/flowers_dataset/flowers/daisy/4861391074_c3e122dab0_m.jpg  \n",
            "  inflating: /content/flowers_dataset/flowers/rose/1485142251_ca89254442.jpg  \n",
            "  inflating: /content/flowers_dataset/flowers/dandelion/16837594326_1056d875a4_m.jpg  \n",
            "  inflating: /content/flowers_dataset/flowers/dandelion/33913495873_b582be4fdf_n.jpg  \n",
            "  inflating: /content/flowers_dataset/flowers/rose/3465443774_6b0c75a3b1_n.jpg  \n",
            "  inflating: /content/flowers_dataset/flowers/rose/3576488381_611f3446e0_n.jpg  \n",
            "  inflating: /content/flowers_dataset/flowers/dandelion/3398195641_456872b48b_n.jpg  \n",
            "  inflating: /content/flowers_dataset/flowers/daisy/5673728_71b8cb57eb.jpg  \n",
            "  inflating: /content/flowers_dataset/flowers/daisy/34293871550_71d1e4d482_n.jpg  \n",
            "  inflating: /content/flowers_dataset/flowers/rose/4609168052_3d4e1d3804_n.jpg  \n",
            "  inflating: /content/flowers_dataset/flowers/dandelion/2039797043_d5b709f275_n.jpg  \n",
            "  inflating: /content/flowers_dataset/flowers/daisy/14421389519_d5fd353eb4.jpg  \n",
            "  inflating: /content/flowers_dataset/flowers/dandelion/34206776142_941d75c2ed_n.jpg  \n",
            "  inflating: /content/flowers_dataset/flowers/dandelion/4082856478_741a411ebb.jpg  \n",
            "  inflating: /content/flowers_dataset/flowers/daisy/3720632920_93cf1cc7f3_m.jpg  \n",
            "  inflating: /content/flowers_dataset/flowers/rose/3422228549_f147d6e642.jpg  \n",
            "  inflating: /content/flowers_dataset/flowers/daisy/34524074031_e42b9b1acd_n.jpg  \n",
            "  inflating: /content/flowers_dataset/flowers/daisy/5547758_eea9edfd54_n.jpg  \n",
            "  inflating: /content/flowers_dataset/flowers/dandelion/16241101274_334b54731e.jpg  \n",
            "  inflating: /content/flowers_dataset/flowers/daisy/8008629838_c62bb2b016_n.jpg  \n",
            "  inflating: /content/flowers_dataset/flowers/dandelion/2473862606_291ae74885.jpg  \n",
            "  inflating: /content/flowers_dataset/flowers/dandelion/1413979148_b40d63db90_m.jpg  \n",
            "  inflating: /content/flowers_dataset/flowers/dandelion/33881308394_738a121eb3_n.jpg  \n",
            "  inflating: /content/flowers_dataset/flowers/daisy/3713290261_8a66de23ab.jpg  \n",
            "  inflating: /content/flowers_dataset/flowers/dandelion/3021333497_b927cd8596.jpg  \n",
            "  inflating: /content/flowers_dataset/flowers/daisy/18635898912_eb8e058ef0.jpg  \n",
            "  inflating: /content/flowers_dataset/flowers/daisy/18354545086_693ea7bc2a.jpg  \n",
            "  inflating: /content/flowers_dataset/flowers/dandelion/14128835667_b6a916222c.jpg  \n",
            "  inflating: /content/flowers_dataset/flowers/daisy/4727955343_0bb23ac4ae.jpg  \n",
            "  inflating: /content/flowers_dataset/flowers/daisy/19813618946_93818db7aa_m.jpg  \n",
            "  inflating: /content/flowers_dataset/flowers/rose/3655527028_0fab2b547d_n.jpg  \n",
            "  inflating: /content/flowers_dataset/flowers/dandelion/2995221296_a6ddaccc39.jpg  \n",
            "  inflating: /content/flowers_dataset/flowers/daisy/721595842_bacd80a6ac.jpg  \n",
            "  inflating: /content/flowers_dataset/flowers/daisy/15853110333_229c439e7f.jpg  \n",
            "  inflating: /content/flowers_dataset/flowers/daisy/16577886423_9b23622f1d_n.jpg  \n",
            "  inflating: /content/flowers_dataset/flowers/daisy/5773652803_574b51414f_n.jpg  \n",
            "  inflating: /content/flowers_dataset/flowers/rose/5001852101_877cb2ae9b_n.jpg  \n",
            "  inflating: /content/flowers_dataset/flowers/daisy/34076975155_1faeedec90_n.jpg  \n",
            "  inflating: /content/flowers_dataset/flowers/dandelion/17457028309_95514c8d02_n.jpg  \n",
            "  inflating: /content/flowers_dataset/flowers/daisy/521762040_f26f2e08dd.jpg  \n",
            "  inflating: /content/flowers_dataset/flowers/daisy/2635314490_e12d3b0f36_m.jpg  \n",
            "  inflating: /content/flowers_dataset/flowers/rose/5002462640_5bf92142bf_n.jpg  \n",
            "  inflating: /content/flowers_dataset/flowers/dandelion/3357432116_b3dce6fed3_n.jpg  \n",
            "  inflating: /content/flowers_dataset/flowers/dandelion/340190928_d77bf4d615.jpg  \n",
            "  inflating: /content/flowers_dataset/flowers/rose/4921988677_e2eb0c9a24_m.jpg  \n",
            "  inflating: /content/flowers_dataset/flowers/daisy/34547261352_d39bf4073a_n.jpg  \n",
            "  inflating: /content/flowers_dataset/flowers/daisy/5135131051_102d4878ca_n.jpg  \n",
            "  inflating: /content/flowers_dataset/flowers/dandelion/2661585172_94707236be_m.jpg  \n",
            "  inflating: /content/flowers_dataset/flowers/daisy/34585995071_13e07140d8_n.jpg  \n",
            "  inflating: /content/flowers_dataset/flowers/dandelion/3539077354_c67aa7168d_m.jpg  \n",
            "  inflating: /content/flowers_dataset/flowers/dandelion/6035460327_4bbb708eab_n.jpg  \n",
            "  inflating: /content/flowers_dataset/flowers/daisy/16161045294_70c76ce846_n.jpg  \n",
            "  inflating: /content/flowers_dataset/flowers/daisy/10993710036_2033222c91.jpg  \n",
            "  inflating: /content/flowers_dataset/flowers/daisy/538920244_59899a78f8_n.jpg  \n",
            "  inflating: /content/flowers_dataset/flowers/daisy/33836936163_2dce95ee4d_n.jpg  \n",
            "  inflating: /content/flowers_dataset/flowers/daisy/7538403124_f2fc48750a.jpg  \n",
            "  inflating: /content/flowers_dataset/flowers/daisy/14600779226_7bbc288d40_m.jpg  \n",
            "  inflating: /content/flowers_dataset/flowers/rose/5002458616_b1719ccc40_n.jpg  \n",
            "  inflating: /content/flowers_dataset/flowers/dandelion/8980266062_8387f6cc89.jpg  \n",
            "  inflating: /content/flowers_dataset/flowers/daisy/5883162120_dc7274af76_n.jpg  \n",
            "  inflating: /content/flowers_dataset/flowers/daisy/33809956124_b49dcddf8f_n.jpg  \n",
            "  inflating: /content/flowers_dataset/flowers/daisy/3450822975_7e77d67636_n.jpg  \n",
            "  inflating: /content/flowers_dataset/flowers/daisy/34543119581_1fb7e0bd7f_n.jpg  \n",
            "  inflating: /content/flowers_dataset/flowers/dandelion/14278605962_d3cce5522f.jpg  \n",
            "  inflating: /content/flowers_dataset/flowers/dandelion/3844111216_742ea491a0.jpg  \n",
            "  inflating: /content/flowers_dataset/flowers/daisy/34300874850_923cc2881c_n.jpg  \n",
            "  inflating: /content/flowers_dataset/flowers/daisy/422094774_28acc69a8b_n.jpg  \n",
            "  inflating: /content/flowers_dataset/flowers/rose/4414135084_1ac7e6cd54.jpg  \n",
            "  inflating: /content/flowers_dataset/flowers/dandelion/8780964418_7a01a7f48a_n.jpg  \n",
            "  inflating: /content/flowers_dataset/flowers/dandelion/7465850028_cdfaae235a_n.jpg  \n",
            "  inflating: /content/flowers_dataset/flowers/rose/4998708839_c53ee536a8_n.jpg  \n",
            "  inflating: /content/flowers_dataset/flowers/dandelion/14093744313_b66bc95072.jpg  \n",
            "  inflating: /content/flowers_dataset/flowers/dandelion/149782934_21adaf4a21.jpg  \n",
            "  inflating: /content/flowers_dataset/flowers/daisy/8021540573_c56cf9070d_n.jpg  \n",
            "  inflating: /content/flowers_dataset/flowers/dandelion/8011324555_375b7b5b0a.jpg  \n",
            "  inflating: /content/flowers_dataset/flowers/dandelion/22785985545_95464115b0_m.jpg  \n",
            "  inflating: /content/flowers_dataset/flowers/daisy/799952628_bf836677fa_n.jpg  \n",
            "  inflating: /content/flowers_dataset/flowers/daisy/5434914569_e9b982fde0_n.jpg  \n",
            "  inflating: /content/flowers_dataset/flowers/daisy/8382667241_0f046cecdb_n.jpg  \n",
            "  inflating: /content/flowers_dataset/flowers/daisy/2454280137_e1637536ae_n.jpg  \n",
            "  inflating: /content/flowers_dataset/flowers/dandelion/17244252705_328e0bcda6.jpg  \n",
            "  inflating: /content/flowers_dataset/flowers/dandelion/34536491752_dd130e7b79_n.jpg  \n",
            "  inflating: /content/flowers_dataset/flowers/daisy/2901376034_cdb4bac26b_m.jpg  \n",
            "  inflating: /content/flowers_dataset/flowers/daisy/34546791291_eb8e15e18a_n.jpg  \n",
            "  inflating: /content/flowers_dataset/flowers/daisy/506018088_4f7a15a7c5_n.jpg  \n",
            "  inflating: /content/flowers_dataset/flowers/daisy/5512287917_9f5d3f0f98_n.jpg  \n",
            "  inflating: /content/flowers_dataset/flowers/daisy/9244082319_b1f7e2d8b0_n.jpg  \n",
            "  inflating: /content/flowers_dataset/flowers/daisy/6323721068_3d3394af6d_n.jpg  \n",
            "  inflating: /content/flowers_dataset/flowers/rose/172311368_49412f881b.jpg  \n",
            "  inflating: /content/flowers_dataset/flowers/dandelion/34549305152_15f407a771_n.jpg  \n",
            "  inflating: /content/flowers_dataset/flowers/daisy/510844526_858b8fe4db.jpg  \n",
            "  inflating: /content/flowers_dataset/flowers/daisy/4281102584_c548a69b81_m.jpg  \n",
            "  inflating: /content/flowers_dataset/flowers/daisy/7630520686_e3a61ac763.jpg  \n",
            "  inflating: /content/flowers_dataset/flowers/daisy/2481823240_eab0d86921.jpg  \n",
            "  inflating: /content/flowers_dataset/flowers/daisy/33843400403_db00aa16b8_n.jpg  \n",
            "  inflating: /content/flowers_dataset/flowers/dandelion/34587720941_ccbbc420ec_n.jpg  \n",
            "  inflating: /content/flowers_dataset/flowers/dandelion/6897671808_57230e04c5_n.jpg  \n",
            "  inflating: /content/flowers_dataset/flowers/daisy/4511693548_20f9bd2b9c_m.jpg  \n",
            "  inflating: /content/flowers_dataset/flowers/dandelion/3419172904_7708414ae9_n.jpg  \n",
            "  inflating: /content/flowers_dataset/flowers/daisy/15813862117_dedcd1c56f_m.jpg  \n",
            "  inflating: /content/flowers_dataset/flowers/daisy/4278442064_a5a598524b_m.jpg  \n",
            "  inflating: /content/flowers_dataset/flowers/rose/2677417735_a697052d2d_n.jpg  \n",
            "  inflating: /content/flowers_dataset/flowers/dandelion/17862580326_293070978d_m.jpg  \n",
            "  inflating: /content/flowers_dataset/flowers/daisy/14707111433_cce08ee007.jpg  \n",
            "  inflating: /content/flowers_dataset/flowers/daisy/34718882165_68cdc9def9_n.jpg  \n",
            "  inflating: /content/flowers_dataset/flowers/dandelion/34311470786_5b2b5bea1d_n.jpg  \n",
            "  inflating: /content/flowers_dataset/flowers/daisy/4258408909_b7cc92741c_m.jpg  \n",
            "  inflating: /content/flowers_dataset/flowers/dandelion/2596413098_7ef69b7e1d_m.jpg  \n",
            "  inflating: /content/flowers_dataset/flowers/rose/4504731519_9a260b6607_n.jpg  \n",
            "  inflating: /content/flowers_dataset/flowers/dandelion/34351608230_f95038a5a4_n.jpg  \n",
            "  inflating: /content/flowers_dataset/flowers/daisy/3695826945_9f374e8a00_m.jpg  \n",
            "  inflating: /content/flowers_dataset/flowers/dandelion/6994938270_bf51d0fe63.jpg  \n",
            "  inflating: /content/flowers_dataset/flowers/dandelion/5140791232_52f2c5b41d_n.jpg  \n",
            "  inflating: /content/flowers_dataset/flowers/daisy/2480569557_f4e1f0dcb8_n.jpg  \n",
            "  inflating: /content/flowers_dataset/flowers/rose/5002454522_300a419273_n.jpg  \n",
            "  inflating: /content/flowers_dataset/flowers/dandelion/17122969189_0ec37cb6c9.jpg  \n",
            "  inflating: /content/flowers_dataset/flowers/daisy/33891703033_822f7810ce_n.jpg  \n",
            "  inflating: /content/flowers_dataset/flowers/daisy/4333085242_bbeb3e2841_m.jpg  \n",
            "  inflating: /content/flowers_dataset/flowers/dandelion/17747738311_5014b1f77f.jpg  \n",
            "  inflating: /content/flowers_dataset/flowers/daisy/34682895116_88ef018e83_n.jpg  \n",
            "  inflating: /content/flowers_dataset/flowers/dandelion/34343228430_8df9f1c03a_n.jpg  \n",
            "  inflating: /content/flowers_dataset/flowers/dandelion/10683189_bd6e371b97.jpg  \n",
            "  inflating: /content/flowers_dataset/flowers/daisy/5632774792_0fa33d17eb_n.jpg  \n",
            "  inflating: /content/flowers_dataset/flowers/dandelion/3464015936_6845f46f64.jpg  \n",
            "  inflating: /content/flowers_dataset/flowers/daisy/5586977262_6b24412805_n.jpg  \n",
            "  inflating: /content/flowers_dataset/flowers/daisy/7669550908_bc5a11276f_n.jpg  \n",
            "  inflating: /content/flowers_dataset/flowers/dandelion/7280221020_98b473b20d_n.jpg  \n",
            "  inflating: /content/flowers_dataset/flowers/daisy/5853276960_d08f90fff6.jpg  \n",
            "  inflating: /content/flowers_dataset/flowers/daisy/519880292_7a3a6c6b69.jpg  \n",
            "  inflating: /content/flowers_dataset/flowers/daisy/6978826370_7b9aa7c7d5.jpg  \n",
            "  inflating: /content/flowers_dataset/flowers/rose/5002453148_5a7bbcce64_n.jpg  \n",
            "  inflating: /content/flowers_dataset/flowers/dandelion/10443973_aeb97513fc_m.jpg  \n",
            "  inflating: /content/flowers_dataset/flowers/daisy/5739768868_9f982684f9_n.jpg  \n",
            "  inflating: /content/flowers_dataset/flowers/daisy/4610018126_21f438d2dc_m.jpg  \n",
            "  inflating: /content/flowers_dataset/flowers/daisy/22244161124_53e457bb66_n.jpg  \n",
            "  inflating: /content/flowers_dataset/flowers/daisy/34530932101_957fab3650_n.jpg  \n",
            "  inflating: /content/flowers_dataset/flowers/daisy/7191221492_610035de7c_m.jpg  \n",
            "  inflating: /content/flowers_dataset/flowers/dandelion/17220096449_0e535989f0_n.jpg  \n",
            "  inflating: /content/flowers_dataset/flowers/daisy/4434592930_6610d51fca_m.jpg  \n",
            "  inflating: /content/flowers_dataset/flowers/dandelion/10486992895_20b344ce2d_n.jpg  \n",
            "  inflating: /content/flowers_dataset/flowers/daisy/14591326135_930703dbed_m.jpg  \n",
            "  inflating: /content/flowers_dataset/flowers/rose/4702438868_278b9cf41c_n.jpg  \n",
            "  inflating: /content/flowers_dataset/flowers/daisy/16737503507_431768a927.jpg  \n",
            "  inflating: /content/flowers_dataset/flowers/daisy/5110110938_9da91455c4_m.jpg  \n",
            "  inflating: /content/flowers_dataset/flowers/dandelion/284497199_93a01f48f6.jpg  \n",
            "  inflating: /content/flowers_dataset/flowers/rose/5001845055_69f04d9779_n.jpg  \n",
            "  inflating: /content/flowers_dataset/flowers/rose/4809566219_88f9a1aea3.jpg  \n",
            "  inflating: /content/flowers_dataset/flowers/daisy/512177035_70afc925c8.jpg  \n",
            "  inflating: /content/flowers_dataset/flowers/dandelion/1297972485_33266a18d9.jpg  \n",
            "  inflating: /content/flowers_dataset/flowers/dandelion/33876197394_c7a9487a9f_n.jpg  \n",
            "  inflating: /content/flowers_dataset/flowers/daisy/9346508462_f0af3163f4.jpg  \n",
            "  inflating: /content/flowers_dataset/flowers/daisy/16020253176_60f2a6a5ca_n.jpg  \n",
            "  inflating: /content/flowers_dataset/flowers/daisy/8071646795_2fdc89ab7a_n.jpg  \n",
            "  inflating: /content/flowers_dataset/flowers/daisy/14350958832_29bdd3a254.jpg  \n",
            "  inflating: /content/flowers_dataset/flowers/dandelion/151385302_f8980a257f_n.jpg  \n",
            "  inflating: /content/flowers_dataset/flowers/dandelion/34352075020_61ac834f5a_n.jpg  \n",
            "  inflating: /content/flowers_dataset/flowers/daisy/16360180712_b72695928c_n.jpg  \n",
            "  inflating: /content/flowers_dataset/flowers/rose/5002451854_9cf0096db0_n.jpg  \n",
            "  inflating: /content/flowers_dataset/flowers/rose/3909587261_f8cd3e7fe7.jpg  \n",
            "  inflating: /content/flowers_dataset/flowers/daisy/34476821002_b6ab77189c_n.jpg  \n",
            "  inflating: /content/flowers_dataset/flowers/daisy/14621687774_ec52811acd_n.jpg  \n",
            "  inflating: /content/flowers_dataset/flowers/rose/5001855689_e07486c44d_n.jpg  \n",
            "  inflating: /content/flowers_dataset/flowers/daisy/8681746439_d6beeefbf9.jpg  \n",
            "  inflating: /content/flowers_dataset/flowers/rose/5001853739_e293f7b268_n.jpg  \n",
            "  inflating: /content/flowers_dataset/flowers/dandelion/19435491090_7af558e17e.jpg  \n",
            "  inflating: /content/flowers_dataset/flowers/rose/5002452834_167883dbcf_n.jpg  \n",
            "  inflating: /content/flowers_dataset/flowers/dandelion/17147436650_c94ae24004_n.jpg  \n",
            "  inflating: /content/flowers_dataset/flowers/daisy/9595857626_979c45e5bf_n.jpg  \n",
            "  inflating: /content/flowers_dataset/flowers/daisy/33810542134_a493f19a71_n.jpg  \n",
            "  inflating: /content/flowers_dataset/flowers/dandelion/18996957833_0bd71fbbd4_m.jpg  \n",
            "  inflating: /content/flowers_dataset/flowers/daisy/15100730728_a450c5f422_n.jpg  \n",
            "  inflating: /content/flowers_dataset/flowers/daisy/10712722853_5632165b04.jpg  \n",
            "  inflating: /content/flowers_dataset/flowers/dandelion/5797606814_ccac615312_m.jpg  \n",
            "  inflating: /content/flowers_dataset/flowers/dandelion/8963359346_65ca69c59d_n.jpg  \n",
            "  inflating: /content/flowers_dataset/flowers/dandelion/6250363717_17732e992e_n.jpg  \n",
            "  inflating: /content/flowers_dataset/flowers/daisy/5809489674_5659b3ae5d_n.jpg  \n",
            "  inflating: /content/flowers_dataset/flowers/daisy/2087343668_ef4fb95787_n.jpg  \n",
            "  inflating: /content/flowers_dataset/flowers/daisy/4534460263_8e9611db3c_n.jpg  \n",
            "  inflating: /content/flowers_dataset/flowers/daisy/4669117051_ce61e91b76.jpg  \n",
            "  inflating: /content/flowers_dataset/flowers/rose/3074406590_91c697c805_n.jpg  \n",
            "  inflating: /content/flowers_dataset/flowers/daisy/5973491805_556bba93cc.jpg  \n",
            "  inflating: /content/flowers_dataset/flowers/daisy/10555826524_423eb8bf71_n.jpg  \n",
            "  inflating: /content/flowers_dataset/flowers/rose/2501297526_cbd66a3f7e_m.jpg  \n",
            "  inflating: /content/flowers_dataset/flowers/dandelion/4574737576_044403a997_n.jpg  \n",
            "  inflating: /content/flowers_dataset/flowers/daisy/9242705328_eee8402a8d.jpg  \n",
            "  inflating: /content/flowers_dataset/flowers/rose/5001846725_7bb1b9fedf_n.jpg  \n",
            "  inflating: /content/flowers_dataset/flowers/rose/3072908271_08764c732a_m.jpg  \n",
            "  inflating: /content/flowers_dataset/flowers/rose/1788484468_f73afa6c32_n.jpg  \n",
            "  inflating: /content/flowers_dataset/flowers/daisy/8710109684_e2c5ef6aeb_n.jpg  \n",
            "  inflating: /content/flowers_dataset/flowers/daisy/5673551_01d1ea993e_n.jpg  \n",
            "  inflating: /content/flowers_dataset/flowers/daisy/16527403771_2391f137c4_n.jpg  \n",
            "  inflating: /content/flowers_dataset/flowers/dandelion/1386449001_5d6da6bde6.jpg  \n",
            "  inflating: /content/flowers_dataset/flowers/daisy/4598422221_b37313a3e3_n.jpg  \n",
            "  inflating: /content/flowers_dataset/flowers/daisy/20685027271_0e7306e7c1_n.jpg  \n",
            "  inflating: /content/flowers_dataset/flowers/dandelion/34571582172_efa4946a45_n.jpg  \n",
            "  inflating: /content/flowers_dataset/flowers/rose/3634244527_e72c47842c_n.jpg  \n",
            "  inflating: /content/flowers_dataset/flowers/rose/5002450022_33337e895b_n.jpg  \n",
            "  inflating: /content/flowers_dataset/flowers/daisy/476857510_d2b30175de_n.jpg  \n",
            "  inflating: /content/flowers_dataset/flowers/dandelion/5572197407_a0047238a6.jpg  \n",
            "  inflating: /content/flowers_dataset/flowers/rose/1757822526_fe30b9b3ca_m.jpg  \n",
            "  inflating: /content/flowers_dataset/flowers/daisy/4117918318_3c8935289b_m.jpg  \n",
            "  inflating: /content/flowers_dataset/flowers/rose/4713533500_fcc295de70_n.jpg  \n",
            "  inflating: /content/flowers_dataset/flowers/daisy/16025261368_911703a536_n.jpg  \n",
            "  inflating: /content/flowers_dataset/flowers/daisy/10391248763_1d16681106_n.jpg  \n",
            "  inflating: /content/flowers_dataset/flowers/dandelion/17420983523_2e32d70359.jpg  \n",
            "  inflating: /content/flowers_dataset/flowers/daisy/7189043225_2fe781439a_n.jpg  \n",
            "  inflating: /content/flowers_dataset/flowers/dandelion/7401173270_ebaf04c9b0_n.jpg  \n",
            "  inflating: /content/flowers_dataset/flowers/daisy/3939135368_0af5c4982a_n.jpg  \n",
            "  inflating: /content/flowers_dataset/flowers/rose/685724528_6cd5cbe203.jpg  \n",
            "  inflating: /content/flowers_dataset/flowers/daisy/5795159787_ebb51a5e75.jpg  \n",
            "  inflating: /content/flowers_dataset/flowers/daisy/2476937534_21b285aa46_n.jpg  \n",
            "  inflating: /content/flowers_dataset/flowers/daisy/5434901893_4550be3f84_m.jpg  \n",
            "  inflating: /content/flowers_dataset/flowers/rose/2682566502_967e7eaa2a.jpg  \n",
            "  inflating: /content/flowers_dataset/flowers/daisy/4440480869_632ce6aff3_n.jpg  \n",
            "  inflating: /content/flowers_dataset/flowers/daisy/16121105382_b96251e506_m.jpg  \n",
            "  inflating: /content/flowers_dataset/flowers/dandelion/14455605089_8bbfb41cd7_n.jpg  \n",
            "  inflating: /content/flowers_dataset/flowers/dandelion/31530587330_ba31bd196e_n.jpg  \n",
            "  inflating: /content/flowers_dataset/flowers/daisy/9204730092_a7f2182347.jpg  \n",
            "  inflating: /content/flowers_dataset/flowers/daisy/10437929963_bc13eebe0c.jpg  \n",
            "  inflating: /content/flowers_dataset/flowers/rose/2850381271_d2f9a470b1_n.jpg  \n",
            "  inflating: /content/flowers_dataset/flowers/dandelion/13897156242_dca5d93075_m.jpg  \n",
            "  inflating: /content/flowers_dataset/flowers/daisy/33884228533_91b75ff4d4_n.jpg  \n",
            "  inflating: /content/flowers_dataset/flowers/daisy/7133935763_82b17c8e1b_n.jpg  \n",
            "  inflating: /content/flowers_dataset/flowers/daisy/15760153042_a2a90e9da5_m.jpg  \n",
            "  inflating: /content/flowers_dataset/flowers/dandelion/5642429835_a0cbf1bab7_n.jpg  \n",
            "  inflating: /content/flowers_dataset/flowers/rose/160954292_6c2b4fda65_n.jpg  \n",
            "  inflating: /content/flowers_dataset/flowers/rose/4267024012_295e7141a3_n.jpg  \n",
            "  inflating: /content/flowers_dataset/flowers/daisy/34554334542_7d8f68a75c_n.jpg  \n",
            "  inflating: /content/flowers_dataset/flowers/dandelion/19551343814_48f764535f_m.jpg  \n",
            "  inflating: /content/flowers_dataset/flowers/dandelion/34338412180_a1f4faa1e7_n.jpg  \n",
            "  inflating: /content/flowers_dataset/flowers/daisy/2077865117_9ed85191ae_n.jpg  \n",
            "  inflating: /content/flowers_dataset/flowers/dandelion/4275776457_d04b597cfa_n.jpg  \n",
            "  inflating: /content/flowers_dataset/flowers/dandelion/14368895004_c486a29c1e_n.jpg  \n",
            "  inflating: /content/flowers_dataset/flowers/rose/3664842094_5fd60ee26b.jpg  \n",
            "  inflating: /content/flowers_dataset/flowers/dandelion/23414449869_ee849a80d4.jpg  \n",
            "  inflating: /content/flowers_dataset/flowers/daisy/16056178001_bebc2153fe_n.jpg  \n",
            "  inflating: /content/flowers_dataset/flowers/rose/537207677_f96a0507bb.jpg  \n",
            "  inflating: /content/flowers_dataset/flowers/daisy/21652746_cc379e0eea_m.jpg  \n",
            "  inflating: /content/flowers_dataset/flowers/dandelion/7015947703_11b30c20c9_n.jpg  \n",
            "  inflating: /content/flowers_dataset/flowers/daisy/4268817944_cdbdb226ae.jpg  \n",
            "  inflating: /content/flowers_dataset/flowers/daisy/10172636503_21bededa75_n.jpg  \n",
            "  inflating: /content/flowers_dataset/flowers/daisy/2498632196_e47a472d5a.jpg  \n",
            "  inflating: /content/flowers_dataset/flowers/daisy/4222584034_8964cbd3de.jpg  \n",
            "  inflating: /content/flowers_dataset/flowers/dandelion/19397467530_1e8131a7cf.jpg  \n",
            "  inflating: /content/flowers_dataset/flowers/rose/5182167964_9d1a0be0b8_n.jpg  \n",
            "  inflating: /content/flowers_dataset/flowers/daisy/169371301_d9b91a2a42.jpg  \n",
            "  inflating: /content/flowers_dataset/flowers/dandelion/34527583252_79aafda601_n.jpg  \n",
            "  inflating: /content/flowers_dataset/flowers/daisy/34275152390_44e7262261_n.jpg  \n",
            "  inflating: /content/flowers_dataset/flowers/daisy/15029936576_8d6f96c72c_n.jpg  \n",
            "  inflating: /content/flowers_dataset/flowers/dandelion/6983120596_8b9f084ac2_n.jpg  \n",
            "  inflating: /content/flowers_dataset/flowers/dandelion/8691437509_9ac8441db7_n.jpg  \n",
            "  inflating: /content/flowers_dataset/flowers/dandelion/2516714633_87f28f0314.jpg  \n",
            "  inflating: /content/flowers_dataset/flowers/daisy/20289938802_e16fa9f23d.jpg  \n",
            "  inflating: /content/flowers_dataset/flowers/dandelion/5873232330_59818dee03_n.jpg  \n",
            "  inflating: /content/flowers_dataset/flowers/rose/2065522422_cfdd80044a_n.jpg  \n",
            "  inflating: /content/flowers_dataset/flowers/daisy/33843240613_0b736f9896_n.jpg  \n",
            "  inflating: /content/flowers_dataset/flowers/daisy/23095658544_7226386954_n.jpg  \n",
            "  inflating: /content/flowers_dataset/flowers/daisy/5434913005_409c1e8b56_n.jpg  \n",
            "  inflating: /content/flowers_dataset/flowers/rose/5001853887_0623dd2111_n.jpg  \n",
            "  inflating: /content/flowers_dataset/flowers/dandelion/34339792440_8224ca420d_n.jpg  \n",
            "  inflating: /content/flowers_dataset/flowers/dandelion/11775820493_10fedf4bff_n.jpg  \n",
            "  inflating: /content/flowers_dataset/flowers/dandelion/854593001_c57939125f_n.jpg  \n",
            "  inflating: /content/flowers_dataset/flowers/dandelion/7280217714_fb9ffccf2d_n.jpg  \n",
            "  inflating: /content/flowers_dataset/flowers/daisy/28056118836_77a6847d94_n.jpg  \n",
            "  inflating: /content/flowers_dataset/flowers/dandelion/17047231499_bd66c23641.jpg  \n",
            "  inflating: /content/flowers_dataset/flowers/rose/5086249859_d066b37b8a_m.jpg  \n",
            "  inflating: /content/flowers_dataset/flowers/rose/4612766755_7d3f047db0_n.jpg  \n",
            "  inflating: /content/flowers_dataset/flowers/dandelion/3461986955_29a1abc621.jpg  \n",
            "  inflating: /content/flowers_dataset/flowers/daisy/4837182901_69a6cc782b_n.jpg  \n",
            "  inflating: /content/flowers_dataset/flowers/daisy/9286947622_4822f4fc21.jpg  \n",
            "  inflating: /content/flowers_dataset/flowers/dandelion/2472641499_cbe617a93d.jpg  \n",
            "  inflating: /content/flowers_dataset/flowers/dandelion/16863587471_cc3a6ffb29_m.jpg  \n",
            "  inflating: /content/flowers_dataset/flowers/dandelion/32558425090_d6b6e86d85_n.jpg  \n",
            "  inflating: /content/flowers_dataset/flowers/dandelion/34588967411_84b348245b_n.jpg  \n",
            "  inflating: /content/flowers_dataset/flowers/dandelion/4675287055_5938ed62c4.jpg  \n",
            "  inflating: /content/flowers_dataset/flowers/daisy/16401288243_36112bd52f_m.jpg  \n",
            "  inflating: /content/flowers_dataset/flowers/daisy/34312496620_bc01a98aeb_n.jpg  \n",
            "  inflating: /content/flowers_dataset/flowers/daisy/5109508979_68e3530791_m.jpg  \n",
            "  inflating: /content/flowers_dataset/flowers/daisy/9489270024_1b05f08492_m.jpg  \n",
            "  inflating: /content/flowers_dataset/flowers/rose/4979895172_ca06eba616.jpg  \n",
            "  inflating: /content/flowers_dataset/flowers/dandelion/1353279846_7e6b87606d.jpg  \n",
            "  inflating: /content/flowers_dataset/flowers/dandelion/2622697182_ea4aff29dd_n.jpg  \n",
            "  inflating: /content/flowers_dataset/flowers/dandelion/11768468623_9399b5111b_n.jpg  \n",
            "  inflating: /content/flowers_dataset/flowers/daisy/34283602490_b61f3da99d_n.jpg  \n",
            "  inflating: /content/flowers_dataset/flowers/rose/4279989256_9a48c0d194_n.jpg  \n",
            "  inflating: /content/flowers_dataset/flowers/daisy/11124324295_503f3a0804.jpg  \n",
            "  inflating: /content/flowers_dataset/flowers/dandelion/2395009660_295c8ffd67_m.jpg  \n",
            "  inflating: /content/flowers_dataset/flowers/rose/3268459296_a7346c6b2c.jpg  \n",
            "  inflating: /content/flowers_dataset/flowers/dandelion/3418355347_2bdcca592a.jpg  \n",
            "  inflating: /content/flowers_dataset/flowers/rose/512578026_f6e6f2ad26.jpg  \n",
            "  inflating: /content/flowers_dataset/flowers/dandelion/2831102668_eb65cd40b9_n.jpg  \n",
            "  inflating: /content/flowers_dataset/flowers/rose/3742155164_14b557a51c_n.jpg  \n",
            "  inflating: /content/flowers_dataset/flowers/daisy/8719756744_34a5a83976_n.jpg  \n",
            "  inflating: /content/flowers_dataset/flowers/dandelion/2535727910_769c020c0d_n.jpg  \n",
            "  inflating: /content/flowers_dataset/flowers/dandelion/14362539701_cf19e588ca.jpg  \n",
            "  inflating: /content/flowers_dataset/flowers/daisy/305160642_53cde0f44f.jpg  \n",
            "  inflating: /content/flowers_dataset/flowers/dandelion/4862011506_4faf6d127e_n.jpg  \n",
            "  inflating: /content/flowers_dataset/flowers/dandelion/34550871222_a9d795a2c0_n.jpg  \n",
            "  inflating: /content/flowers_dataset/flowers/dandelion/315645471_dda66c6338_m.jpg  \n",
            "  inflating: /content/flowers_dataset/flowers/daisy/7454630692_ab2d67dd18_m.jpg  \n",
            "  inflating: /content/flowers_dataset/flowers/dandelion/3991962484_085ba2da94.jpg  \n",
            "  inflating: /content/flowers_dataset/flowers/dandelion/19961979110_fcd8092388_m.jpg  \n",
            "  inflating: /content/flowers_dataset/flowers/daisy/4694730335_2553e77aa5_z.jpg  \n",
            "  inflating: /content/flowers_dataset/flowers/rose/3500121696_5b6a69effb_n.jpg  \n",
            "  inflating: /content/flowers_dataset/flowers/dandelion/3580437733_9ef51f2981_n.jpg  \n",
            "  inflating: /content/flowers_dataset/flowers/dandelion/5446666484_365f3be83a_n.jpg  \n",
            "  inflating: /content/flowers_dataset/flowers/dandelion/8223949_2928d3f6f6_n.jpg  \n",
            "  inflating: /content/flowers_dataset/flowers/dandelion/2608937632_cfd93bc7cd.jpg  \n",
            "  inflating: /content/flowers_dataset/flowers/dandelion/9533964635_f38e6fa3c3.jpg  \n",
            "  inflating: /content/flowers_dataset/flowers/dandelion/3533167406_e9f4cf10bb_m.jpg  \n",
            "  inflating: /content/flowers_dataset/flowers/dandelion/7469617666_0e1a014917.jpg  \n",
            "  inflating: /content/flowers_dataset/flowers/dandelion/19593576916_f5a083d7fe_n.jpg  \n",
            "  inflating: /content/flowers_dataset/flowers/rose/118974357_0faa23cce9_n.jpg  \n",
            "  inflating: /content/flowers_dataset/flowers/dandelion/145173479_7d04346c20.jpg  \n",
            "  inflating: /content/flowers_dataset/flowers/dandelion/15549402199_2890918ddb.jpg  \n",
            "  inflating: /content/flowers_dataset/flowers/daisy/1286274236_1d7ac84efb_n.jpg  \n",
            "  inflating: /content/flowers_dataset/flowers/dandelion/29556932571_f124d8ac5d_n.jpg  \n",
            "  inflating: /content/flowers_dataset/flowers/dandelion/8181477_8cb77d2e0f_n.jpg  \n",
            "  inflating: /content/flowers_dataset/flowers/rose/5001852517_6a8713ffe2_n.jpg  \n",
            "  inflating: /content/flowers_dataset/flowers/dandelion/4489359360_09db62f825.jpg  \n",
            "  inflating: /content/flowers_dataset/flowers/dandelion/5733004219_a0ba411bfa_n.jpg  \n",
            "  inflating: /content/flowers_dataset/flowers/dandelion/3451079245_2139200d66_n.jpg  \n",
            "  inflating: /content/flowers_dataset/flowers/daisy/7630511450_02d3292e90.jpg  \n",
            "  inflating: /content/flowers_dataset/flowers/dandelion/34551666432_c5b5f9684e_n.jpg  \n",
            "  inflating: /content/flowers_dataset/flowers/rose/1775233884_12ff5a124f.jpg  \n",
            "  inflating: /content/flowers_dataset/flowers/dandelion/14058811536_f29cd7bd58_n.jpg  \n",
            "  inflating: /content/flowers_dataset/flowers/dandelion/15381511376_fd743b7330_n.jpg  \n",
            "  inflating: /content/flowers_dataset/flowers/dandelion/139124974_9e3ba69f6c.jpg  \n",
            "  inflating: /content/flowers_dataset/flowers/dandelion/19440660848_c789227129_m.jpg  \n",
            "  inflating: /content/flowers_dataset/flowers/dandelion/18970601002_d70bc883a9.jpg  \n",
            "  inflating: /content/flowers_dataset/flowers/dandelion/7843447416_847e6ba7f4_m.jpg  \n",
            "  inflating: /content/flowers_dataset/flowers/dandelion/459633569_5ddf6bc116_m.jpg  \n",
            "  inflating: /content/flowers_dataset/flowers/dandelion/29157239893_f43793c697_n.jpg  \n",
            "  inflating: /content/flowers_dataset/flowers/dandelion/34575269471_fe82b32aa9_n.jpg  \n",
            "  inflating: /content/flowers_dataset/flowers/daisy/2649404904_b7a91991bb_n.jpg  \n",
            "  inflating: /content/flowers_dataset/flowers/dandelion/4552571121_2677bcdec3.jpg  \n",
            "  inflating: /content/flowers_dataset/flowers/dandelion/15819121091_26a5243340_n.jpg  \n",
            "  inflating: /content/flowers_dataset/flowers/dandelion/20456824132_b1c8fbfa41_m.jpg  \n",
            "  inflating: /content/flowers_dataset/flowers/dandelion/33841565863_7ab8c1e23c_n.jpg  \n",
            "  inflating: /content/flowers_dataset/flowers/dandelion/14728922673_99086a3818_n.jpg  \n",
            "  inflating: /content/flowers_dataset/flowers/dandelion/13734221225_0e04edc6b6.jpg  \n",
            "  inflating: /content/flowers_dataset/flowers/dandelion/8194560480_bfc1fb5801.jpg  \n",
            "  inflating: /content/flowers_dataset/flowers/dandelion/2490828907_5094017933_m.jpg  \n",
            "  inflating: /content/flowers_dataset/flowers/dandelion/3365850019_8158a161a8_n.jpg  \n",
            "  inflating: /content/flowers_dataset/flowers/dandelion/8533312924_ee09412645_n.jpg  \n",
            "  inflating: /content/flowers_dataset/flowers/rose/3264570182_c7ded528ba_m.jpg  \n",
            "  inflating: /content/flowers_dataset/flowers/daisy/6950173662_5e9473003e_n.jpg  \n",
            "  inflating: /content/flowers_dataset/flowers/dandelion/33892172244_684e99b6fc_n.jpg  \n",
            "  inflating: /content/flowers_dataset/flowers/rose/1801614110_bb9fa46830.jpg  \n",
            "  inflating: /content/flowers_dataset/flowers/daisy/33923454163_9cabcaa733_n.jpg  \n",
            "  inflating: /content/flowers_dataset/flowers/daisy/4923279674_e7f8e70794_n.jpg  \n",
            "  inflating: /content/flowers_dataset/flowers/daisy/2349640101_212c275aa7.jpg  \n",
            "  inflating: /content/flowers_dataset/flowers/dandelion/8681420404_6ae114f036_n.jpg  \n",
            "  inflating: /content/flowers_dataset/flowers/dandelion/14805304536_c321a7b061_n.jpg  \n",
            "  inflating: /content/flowers_dataset/flowers/dandelion/2467980325_237b14c737_m.jpg  \n",
            "  inflating: /content/flowers_dataset/flowers/dandelion/9517326597_5d116a0166.jpg  \n",
            "  inflating: /content/flowers_dataset/flowers/dandelion/6132275522_ce46b33c33_m.jpg  \n",
            "  inflating: /content/flowers_dataset/flowers/dandelion/33877749474_1fb8111daf_n.jpg  \n",
            "  inflating: /content/flowers_dataset/flowers/dandelion/2494436687_775402e0aa.jpg  \n",
            "  inflating: /content/flowers_dataset/flowers/daisy/3750250718_eb61146c5f.jpg  \n",
            "  inflating: /content/flowers_dataset/flowers/dandelion/33878218914_452600b869_n.jpg  \n",
            "  inflating: /content/flowers_dataset/flowers/dandelion/13881700933_69a750d418_n.jpg  \n",
            "  inflating: /content/flowers_dataset/flowers/dandelion/3591588855_b4fd53b000.jpg  \n",
            "  inflating: /content/flowers_dataset/flowers/daisy/2019064575_7656b9340f_m.jpg  \n",
            "  inflating: /content/flowers_dataset/flowers/dandelion/2495749544_679dc7ccef.jpg  \n",
            "  inflating: /content/flowers_dataset/flowers/dandelion/16510864164_3afa8ac37f.jpg  \n",
            "  inflating: /content/flowers_dataset/flowers/daisy/5058708968_8bdcd29e63_n.jpg  \n",
            "  inflating: /content/flowers_dataset/flowers/dandelion/1426682852_e62169221f_m.jpg  \n",
            "  inflating: /content/flowers_dataset/flowers/dandelion/7184780734_3baab127c2_m.jpg  \n",
            "  inflating: /content/flowers_dataset/flowers/dandelion/7368435774_0045b9dc4e.jpg  \n",
            "  inflating: /content/flowers_dataset/flowers/daisy/2611119198_9d46b94392.jpg  \n",
            "  inflating: /content/flowers_dataset/flowers/dandelion/8376558865_19c5cd6fd6_n.jpg  \n",
            "  inflating: /content/flowers_dataset/flowers/dandelion/3459346147_faffff51c7_n.jpg  \n",
            "  inflating: /content/flowers_dataset/flowers/daisy/5794835_d15905c7c8_n.jpg  \n",
            "  inflating: /content/flowers_dataset/flowers/dandelion/16159487_3a6615a565_n.jpg  \n",
            "  inflating: /content/flowers_dataset/flowers/dandelion/7196683612_6c4cf05b24.jpg  \n",
            "  inflating: /content/flowers_dataset/flowers/daisy/18195689904_46619b7e16_n.jpg  \n",
            "  inflating: /content/flowers_dataset/flowers/dandelion/15821571649_06c4b9a868_n.jpg  \n",
            "  inflating: /content/flowers_dataset/flowers/daisy/17101762155_2577a28395.jpg  \n",
            "  inflating: /content/flowers_dataset/flowers/dandelion/34728513735_ebb4b179eb_n.jpg  \n",
            "  inflating: /content/flowers_dataset/flowers/daisy/134409839_71069a95d1_m.jpg  \n",
            "  inflating: /content/flowers_dataset/flowers/dandelion/3584415133_a4122ab7b9.jpg  \n",
            "  inflating: /content/flowers_dataset/flowers/dandelion/33850973214_c1b4000d9c_n.jpg  \n",
            "  inflating: /content/flowers_dataset/flowers/daisy/3504430338_77d6a7fab4_n.jpg  \n",
            "  inflating: /content/flowers_dataset/flowers/dandelion/8905148527_ba9f55cd78.jpg  \n",
            "  inflating: /content/flowers_dataset/flowers/dandelion/17570530696_6a497298ee_n.jpg  \n",
            "  inflating: /content/flowers_dataset/flowers/dandelion/8980164828_04fbf64f79_n.jpg  \n",
            "  inflating: /content/flowers_dataset/flowers/daisy/4563059851_45a9d21a75.jpg  \n",
            "  inflating: /content/flowers_dataset/flowers/dandelion/14070457521_8eb41f65fa.jpg  \n",
            "  inflating: /content/flowers_dataset/flowers/dandelion/4588529727_4a79c61577.jpg  \n",
            "  inflating: /content/flowers_dataset/flowers/dandelion/14740350060_a489d9fa06.jpg  \n",
            "  inflating: /content/flowers_dataset/flowers/dandelion/18342918441_b1bb69a2fd_n.jpg  \n",
            "  inflating: /content/flowers_dataset/flowers/dandelion/2229906591_e953785d13.jpg  \n",
            "  inflating: /content/flowers_dataset/flowers/daisy/8489463746_a9839bf7e4.jpg  \n",
            "  inflating: /content/flowers_dataset/flowers/dandelion/34540904752_ae86e5f6ce_n.jpg  \n",
            "  inflating: /content/flowers_dataset/flowers/daisy/4792826628_aa5e5a9804_n.jpg  \n",
            "  inflating: /content/flowers_dataset/flowers/daisy/6207492986_0ff91f3296.jpg  \n",
            "  inflating: /content/flowers_dataset/flowers/dandelion/2693136371_dde2570813.jpg  \n",
            "  inflating: /content/flowers_dataset/flowers/dandelion/126012913_edf771c564_n.jpg  \n",
            "  inflating: /content/flowers_dataset/flowers/dandelion/2637883118_cf6ce37be4_n.jpg  \n",
            "  inflating: /content/flowers_dataset/flowers/dandelion/9595369280_dd88b61814.jpg  \n",
            "  inflating: /content/flowers_dataset/flowers/rose/180613732_3a7aba0b80_n.jpg  \n",
            "  inflating: /content/flowers_dataset/flowers/daisy/517054463_036db655a1_m.jpg  \n",
            "  inflating: /content/flowers_dataset/flowers/dandelion/4676527148_d701b9202f_n.jpg  \n",
            "  inflating: /content/flowers_dataset/flowers/rose/3026375835_a20ecdd140_m.jpg  \n",
            "  inflating: /content/flowers_dataset/flowers/daisy/3627678863_557552c879_m.jpg  \n",
            "  inflating: /content/flowers_dataset/flowers/daisy/33830843653_ee6d7989fa_n.jpg  \n",
            "  inflating: /content/flowers_dataset/flowers/daisy/6148728633_27afc47b0c_m.jpg  \n",
            "  inflating: /content/flowers_dataset/flowers/dandelion/18271576032_d7e2296de4_n.jpg  \n",
            "  inflating: /content/flowers_dataset/flowers/dandelion/17135145776_4c2ec21b05_m.jpg  \n",
            "  inflating: /content/flowers_dataset/flowers/dandelion/2319777940_0cc5476b0d_n.jpg  \n",
            "  inflating: /content/flowers_dataset/flowers/dandelion/6412422565_ce61ca48a9_n.jpg  \n",
            "  inflating: /content/flowers_dataset/flowers/daisy/34540113401_b81594e92a_n.jpg  \n",
            "  inflating: /content/flowers_dataset/flowers/daisy/2862944799_45bc8e7302.jpg  \n",
            "  inflating: /content/flowers_dataset/flowers/dandelion/8756906129_b05a1b26f2.jpg  \n",
            "  inflating: /content/flowers_dataset/flowers/dandelion/34603214751_8b42379b53_n.jpg  \n",
            "  inflating: /content/flowers_dataset/flowers/dandelion/5109501167_2d9bbb0f27_m.jpg  \n",
            "  inflating: /content/flowers_dataset/flowers/daisy/8706810197_17b6c1f1e7.jpg  \n",
            "  inflating: /content/flowers_dataset/flowers/dandelion/19506262462_d0945c14a6.jpg  \n",
            "  inflating: /content/flowers_dataset/flowers/dandelion/10477378514_9ffbcec4cf_m.jpg  \n",
            "  inflating: /content/flowers_dataset/flowers/dandelion/32701230112_a33f8003a5_n.jpg  \n",
            "  inflating: /content/flowers_dataset/flowers/daisy/5110105726_53eb7a93be_m.jpg  \n",
            "  inflating: /content/flowers_dataset/flowers/rose/3494252600_29f26e3ff0_n.jpg  \n",
            "  inflating: /content/flowers_dataset/flowers/dandelion/11595255065_d9550012fc.jpg  \n",
            "  inflating: /content/flowers_dataset/flowers/daisy/5896679822_5f60d35c33_n.jpg  \n",
            "  inflating: /content/flowers_dataset/flowers/dandelion/15547944931_c1e095b185.jpg  \n",
            "  inflating: /content/flowers_dataset/flowers/daisy/8742143296_fed9fa007c.jpg  \n",
            "  inflating: /content/flowers_dataset/flowers/dandelion/8497389500_45636fdd14.jpg  \n",
            "  inflating: /content/flowers_dataset/flowers/dandelion/20983660733_06b35b9eb8.jpg  \n",
            "  inflating: /content/flowers_dataset/flowers/daisy/13826249325_f61cb15f86_n.jpg  \n",
            "  inflating: /content/flowers_dataset/flowers/dandelion/8740218495_23858355d8_n.jpg  \n",
            "  inflating: /content/flowers_dataset/flowers/daisy/34518066912_0e432507bc_n.jpg  \n",
            "  inflating: /content/flowers_dataset/flowers/dandelion/17688233756_21879104c1_n.jpg  \n",
            "  inflating: /content/flowers_dataset/flowers/dandelion/34709307795_994ddf0eb5_n.jpg  \n",
            "  inflating: /content/flowers_dataset/flowers/dandelion/6900157914_c3387c11d8.jpg  \n",
            "  inflating: /content/flowers_dataset/flowers/dandelion/18385846351_3a2bf60427_n.jpg  \n",
            "  inflating: /content/flowers_dataset/flowers/dandelion/2257649769_deaf97e2c9_n.jpg  \n",
            "  inflating: /content/flowers_dataset/flowers/dandelion/16766166609_ccb8344c9f_m.jpg  \n",
            "  inflating: /content/flowers_dataset/flowers/dandelion/4573204385_9b71e96b35_m.jpg  \n",
            "  inflating: /content/flowers_dataset/flowers/daisy/33819069114_6ecc240b54_n.jpg  \n",
            "  inflating: /content/flowers_dataset/flowers/dandelion/34604803411_99956ac67a_n.jpg  \n",
            "  inflating: /content/flowers_dataset/flowers/daisy/147068564_32bb4350cc.jpg  \n",
            "  inflating: /content/flowers_dataset/flowers/dandelion/5757012454_c37f305b73.jpg  \n",
            "  inflating: /content/flowers_dataset/flowers/dandelion/6208857436_14a65fe4af_n.jpg  \n",
            "  inflating: /content/flowers_dataset/flowers/dandelion/9301891790_971dcfb35d_m.jpg  \n",
            "  inflating: /content/flowers_dataset/flowers/dandelion/136999986_e410a68efb_n.jpg  \n",
            "  inflating: /content/flowers_dataset/flowers/dandelion/34365073265_246c5c0561_n.jpg  \n",
            "  inflating: /content/flowers_dataset/flowers/dandelion/4514343281_26781484df.jpg  \n",
            "  inflating: /content/flowers_dataset/flowers/dandelion/5862288632_1df5eb6dd0.jpg  \n",
            "  inflating: /content/flowers_dataset/flowers/daisy/2619413565_61a6cd3ac9_m.jpg  \n",
            "  inflating: /content/flowers_dataset/flowers/daisy/5896105367_fa08a65869_n.jpg  \n",
            "  inflating: /content/flowers_dataset/flowers/daisy/8671824531_64b816949e_m.jpg  \n",
            "  inflating: /content/flowers_dataset/flowers/daisy/15207766_fc2f1d692c_n.jpg  \n",
            "  inflating: /content/flowers_dataset/flowers/daisy/33839388103_79cb79f7bc_n.jpg  \n",
            "  inflating: /content/flowers_dataset/flowers/rose/4910094611_8c7170fc95_n.jpg  \n",
            "  inflating: /content/flowers_dataset/flowers/rose/5002447434_9b06760f63_n.jpg  \n",
            "  inflating: /content/flowers_dataset/flowers/dandelion/506660896_c903cca1f0.jpg  \n",
            "  inflating: /content/flowers_dataset/flowers/dandelion/2634665077_597910235f_m.jpg  \n",
            "  inflating: /content/flowers_dataset/flowers/daisy/9299302012_958c70564c_n.jpg  \n",
            "  inflating: /content/flowers_dataset/flowers/dandelion/33914172633_592a6eb74f_n.jpg  \n",
            "  inflating: /content/flowers_dataset/flowers/dandelion/2502613166_2c231b47cb_n.jpg  \n",
            "  inflating: /content/flowers_dataset/flowers/dandelion/11465213433_847c4fa261.jpg  \n",
            "  inflating: /content/flowers_dataset/flowers/dandelion/458011386_ec89115a19.jpg  \n",
            "  inflating: /content/flowers_dataset/flowers/dandelion/18282528206_7fb3166041.jpg  \n",
            "  inflating: /content/flowers_dataset/flowers/dandelion/16699732794_5bfd639cf8_n.jpg  \n",
            "  inflating: /content/flowers_dataset/flowers/daisy/5811226952_4650ed70ae_n.jpg  \n",
            "  inflating: /content/flowers_dataset/flowers/rose/5001846963_595da3a5a3_n.jpg  \n",
            "  inflating: /content/flowers_dataset/flowers/dandelion/14128839257_23def53028.jpg  \n",
            "  inflating: /content/flowers_dataset/flowers/dandelion/8681169825_19a21c6bf5_m.jpg  \n",
            "  inflating: /content/flowers_dataset/flowers/daisy/34590677231_0ed33ccd55_n.jpg  \n",
            "  inflating: /content/flowers_dataset/flowers/dandelion/7099259755_1c66420206_n.jpg  \n",
            "  inflating: /content/flowers_dataset/flowers/daisy/9611923744_013b29e4da_n.jpg  \n",
            "  inflating: /content/flowers_dataset/flowers/daisy/20703737132_179560d0fb.jpg  \n",
            "  inflating: /content/flowers_dataset/flowers/rose/102501987_3cdb8e5394_n.jpg  \n",
            "  inflating: /content/flowers_dataset/flowers/dandelion/5676682203_70d797f760.jpg  \n",
            "  inflating: /content/flowers_dataset/flowers/dandelion/19586799286_beb9d684b5.jpg  \n",
            "  inflating: /content/flowers_dataset/flowers/dandelion/34568232012_2e771f16f8_n.jpg  \n",
            "  inflating: /content/flowers_dataset/flowers/dandelion/6495802659_98b57e0cca_m.jpg  \n",
            "  inflating: /content/flowers_dataset/flowers/dandelion/9472854850_fc9e1db673.jpg  \n",
            "  inflating: /content/flowers_dataset/flowers/daisy/286875003_f7c0e1882d.jpg  \n",
            "  inflating: /content/flowers_dataset/flowers/dandelion/17047385027_8fd510e164_n.jpg  \n",
            "  inflating: /content/flowers_dataset/flowers/dandelion/33924521963_48cdc4f455_n.jpg  \n",
            "  inflating: /content/flowers_dataset/flowers/daisy/7377004908_5bc0cde347_n.jpg  \n",
            "  inflating: /content/flowers_dataset/flowers/dandelion/21523597492_39b6765cd7_m.jpg  \n",
            "  inflating: /content/flowers_dataset/flowers/rose/123128873_546b8b7355_n.jpg  \n",
            "  inflating: /content/flowers_dataset/flowers/daisy/530738000_4df7e4786b.jpg  \n",
            "  inflating: /content/flowers_dataset/flowers/rose/2265390547_2409007cef_n.jpg  \n",
            "  inflating: /content/flowers_dataset/flowers/dandelion/7188112181_571434b058_n.jpg  \n",
            "  inflating: /content/flowers_dataset/flowers/dandelion/14292205986_da230467ef.jpg  \n",
            "  inflating: /content/flowers_dataset/flowers/rose/3753920123_c7ebc18ee3.jpg  \n",
            "  inflating: /content/flowers_dataset/flowers/daisy/14147016029_8d3cf2414e.jpg  \n",
            "  inflating: /content/flowers_dataset/flowers/dandelion/7193058132_36fd883048_m.jpg  \n",
            "  inflating: /content/flowers_dataset/flowers/dandelion/14375349004_68d893254a_n.jpg  \n",
            "  inflating: /content/flowers_dataset/flowers/daisy/5014137563_d03eb0ed75_n.jpg  \n",
            "  inflating: /content/flowers_dataset/flowers/dandelion/18999743619_cec3f39bee.jpg  \n",
            "  inflating: /content/flowers_dataset/flowers/daisy/34643914016_2e659d6e82_n.jpg  \n",
            "  inflating: /content/flowers_dataset/flowers/daisy/20329326505_a777c71cc2.jpg  \n",
            "  inflating: /content/flowers_dataset/flowers/daisy/2514748602_343d4727c0_n.jpg  \n",
            "  inflating: /content/flowers_dataset/flowers/daisy/17821980772_35164ae1e8_n.jpg  \n",
            "  inflating: /content/flowers_dataset/flowers/dandelion/14084345111_8a4cb05a31.jpg  \n",
            "  inflating: /content/flowers_dataset/flowers/dandelion/14576445793_582aa6446b_m.jpg  \n",
            "  inflating: /content/flowers_dataset/flowers/daisy/9158041313_7a6a102f7a_n.jpg  \n",
            "  inflating: /content/flowers_dataset/flowers/rose/2414954629_3708a1a04d.jpg  \n",
            "  inflating: /content/flowers_dataset/flowers/rose/5001857501_f8b1e3e987_n.jpg  \n",
            "  inflating: /content/flowers_dataset/flowers/dandelion/4632863567_5f9af7de97_n.jpg  \n",
            "  inflating: /content/flowers_dataset/flowers/dandelion/5628296138_9031791fab.jpg  \n",
            "  inflating: /content/flowers_dataset/flowers/dandelion/3530495617_fd84fb321a_m.jpg  \n",
            "  inflating: /content/flowers_dataset/flowers/daisy/2331133004_582772d58f_m.jpg  \n",
            "  inflating: /content/flowers_dataset/flowers/dandelion/4650752466_ed088e0d85_n.jpg  \n",
            "  inflating: /content/flowers_dataset/flowers/dandelion/7196409186_a59957ce0b_m.jpg  \n",
            "  inflating: /content/flowers_dataset/flowers/daisy/10172379554_b296050f82_n.jpg  \n",
            "  inflating: /content/flowers_dataset/flowers/dandelion/8759118120_9eac064e38_n.jpg  \n",
            "  inflating: /content/flowers_dataset/flowers/dandelion/12998979765_3de89e7195_n.jpg  \n",
            "  inflating: /content/flowers_dataset/flowers/dandelion/4571681134_b605a61547_n.jpg  \n",
            "  inflating: /content/flowers_dataset/flowers/dandelion/2465573725_d78caca9d4_n.jpg  \n",
            "  inflating: /content/flowers_dataset/flowers/dandelion/480621885_4c8b50fa11_m.jpg  \n",
            "  inflating: /content/flowers_dataset/flowers/dandelion/7448453384_fb9caaa9af_n.jpg  \n",
            "  inflating: /content/flowers_dataset/flowers/daisy/5896680664_641de2de5a_n.jpg  \n",
            "  inflating: /content/flowers_dataset/flowers/daisy/34517409722_829ec7e152_n.jpg  \n",
            "  inflating: /content/flowers_dataset/flowers/dandelion/8980460785_b5e6842e59_n.jpg  \n",
            "  inflating: /content/flowers_dataset/flowers/dandelion/176284193_8fa1710431_m.jpg  \n",
            "  inflating: /content/flowers_dataset/flowers/dandelion/17831860736_3e44667bbb_n.jpg  \n",
            "  inflating: /content/flowers_dataset/flowers/dandelion/5045509402_6e052ce443.jpg  \n",
            "  inflating: /content/flowers_dataset/flowers/daisy/34638378196_216d5bbc2e_n.jpg  \n",
            "  inflating: /content/flowers_dataset/flowers/daisy/5110107234_12ddc0206b_m.jpg  \n",
            "  inflating: /content/flowers_dataset/flowers/rose/5001850247_33681cc95c_n.jpg  \n",
            "  inflating: /content/flowers_dataset/flowers/dandelion/7148085703_b9e8bcd6ca_n.jpg  \n",
            "  inflating: /content/flowers_dataset/flowers/rose/394990940_7af082cf8d_n.jpg  \n",
            "  inflating: /content/flowers_dataset/flowers/daisy/34326847400_f4de801005_n.jpg  \n",
            "  inflating: /content/flowers_dataset/flowers/daisy/2612704455_efce1c2144_m.jpg  \n",
            "  inflating: /content/flowers_dataset/flowers/dandelion/34699848885_a832ee03ab_n.jpg  \n",
            "  inflating: /content/flowers_dataset/flowers/daisy/34729724865_787c98299d_n.jpg  \n",
            "  inflating: /content/flowers_dataset/flowers/dandelion/138166590_47c6cb9dd0.jpg  \n",
            "  inflating: /content/flowers_dataset/flowers/dandelion/510874382_f7e3435043.jpg  \n",
            "  inflating: /content/flowers_dataset/flowers/dandelion/8754822932_948afc7cef.jpg  \n",
            "  inflating: /content/flowers_dataset/flowers/daisy/2365428551_39f83f10bf_n.jpg  \n",
            "  inflating: /content/flowers_dataset/flowers/dandelion/34717754295_cbb0185a36_n.jpg  \n",
            "  inflating: /content/flowers_dataset/flowers/dandelion/4893356345_24d67eff9f_m.jpg  \n",
            "  inflating: /content/flowers_dataset/flowers/daisy/34720703615_bdf1335d8b_n.jpg  \n",
            "  inflating: /content/flowers_dataset/flowers/dandelion/2481428401_bed64dd043.jpg  \n",
            "  inflating: /content/flowers_dataset/flowers/dandelion/5725836812_a7d1c5540d_m.jpg  \n",
            "  inflating: /content/flowers_dataset/flowers/dandelion/15002906952_cab2cb29cf.jpg  \n",
            "  inflating: /content/flowers_dataset/flowers/rose/509239741_28e2cfe492_m.jpg  \n",
            "  inflating: /content/flowers_dataset/flowers/dandelion/3998275481_651205e02d.jpg  \n",
            "  inflating: /content/flowers_dataset/flowers/dandelion/34323484476_6406ee1e37_n.jpg  \n",
            "  inflating: /content/flowers_dataset/flowers/dandelion/3612582808_4503fa1f8b_m.jpg  \n",
            "  inflating: /content/flowers_dataset/flowers/dandelion/5110104894_a52c685516_n.jpg  \n",
            "  inflating: /content/flowers_dataset/flowers/dandelion/6060576850_984176cf4f_n.jpg  \n",
            "  inflating: /content/flowers_dataset/flowers/daisy/2539552964_921cf645ba_n.jpg  \n",
            "  inflating: /content/flowers_dataset/flowers/daisy/4753134939_8e87649db6.jpg  \n",
            "  inflating: /content/flowers_dataset/flowers/dandelion/33885269993_3968e1aacc_n.jpg  \n",
            "  inflating: /content/flowers_dataset/flowers/daisy/99306615_739eb94b9e_m.jpg  \n",
            "  inflating: /content/flowers_dataset/flowers/dandelion/17619402434_15b2ec2d79.jpg  \n",
            "  inflating: /content/flowers_dataset/flowers/daisy/14073784469_ffb12f3387_n.jpg  \n",
            "  inflating: /content/flowers_dataset/flowers/dandelion/10779476016_9130714dc0.jpg  \n",
            "  inflating: /content/flowers_dataset/flowers/dandelion/6400843175_ef07053f8f_m.jpg  \n",
            "  inflating: /content/flowers_dataset/flowers/daisy/3337536080_1db19964fe.jpg  \n",
            "  inflating: /content/flowers_dataset/flowers/daisy/34508227161_a9ff840f71_n.jpg  \n",
            "  inflating: /content/flowers_dataset/flowers/dandelion/5129135346_3fa8e804d8_n.jpg  \n",
            "  inflating: /content/flowers_dataset/flowers/rose/5001857777_440e725f2f_n.jpg  \n",
            "  inflating: /content/flowers_dataset/flowers/daisy/29821115270_eccd3866e1_n.jpg  \n",
            "  inflating: /content/flowers_dataset/flowers/daisy/34566613262_fefbcc279a_n.jpg  \n",
            "  inflating: /content/flowers_dataset/flowers/dandelion/9646730031_f3d5014416_n.jpg  \n",
            "  inflating: /content/flowers_dataset/flowers/dandelion/3696596109_4c4419128a_m.jpg  \n",
            "  inflating: /content/flowers_dataset/flowers/dandelion/2444241718_3ca53ce921.jpg  \n",
            "  inflating: /content/flowers_dataset/flowers/dandelion/5613466853_e476bb080e.jpg  \n",
            "  inflating: /content/flowers_dataset/flowers/daisy/4482623536_b9fb5ae41f_n.jpg  \n",
            "  inflating: /content/flowers_dataset/flowers/daisy/3415180846_d7b5cced14_m.jpg  \n",
            "  inflating: /content/flowers_dataset/flowers/rose/2325232198_751645d0bb_n.jpg  \n",
            "  inflating: /content/flowers_dataset/flowers/dandelion/19600096066_67dc941042.jpg  \n",
            "  inflating: /content/flowers_dataset/flowers/dandelion/4645161319_c308fc31ef_n.jpg  \n",
            "  inflating: /content/flowers_dataset/flowers/daisy/174131220_c853df1287.jpg  \n",
            "  inflating: /content/flowers_dataset/flowers/daisy/33858238653_6549e21f53_n.jpg  \n",
            "  inflating: /content/flowers_dataset/flowers/dandelion/5654859907_c2be3b0f1e_n.jpg  \n",
            "  inflating: /content/flowers_dataset/flowers/dandelion/6994931102_4667c0352e.jpg  \n",
            "  inflating: /content/flowers_dataset/flowers/dandelion/4558536575_d43a611bd4_n.jpg  \n",
            "  inflating: /content/flowers_dataset/flowers/rose/850416050_31b3ff7086.jpg  \n",
            "  inflating: /content/flowers_dataset/flowers/dandelion/7132677385_bcbdcc6001.jpg  \n",
            "  inflating: /content/flowers_dataset/flowers/daisy/11439894966_dca877f0cd.jpg  \n",
            "  inflating: /content/flowers_dataset/flowers/dandelion/151385301_153eacf6b5_n.jpg  \n",
            "  inflating: /content/flowers_dataset/flowers/dandelion/19621170705_30bf8bf0ba.jpg  \n",
            "  inflating: /content/flowers_dataset/flowers/dandelion/3505026222_c760df0035_n.jpg  \n",
            "  inflating: /content/flowers_dataset/flowers/dandelion/8981828144_4b66b4edb6_n.jpg  \n",
            "  inflating: /content/flowers_dataset/flowers/rose/3872230296_6c477309f3_n.jpg  \n",
            "  inflating: /content/flowers_dataset/flowers/dandelion/8717157979_05cbc10cc1.jpg  \n",
            "  inflating: /content/flowers_dataset/flowers/daisy/302782756_d35cb3e468.jpg  \n",
            "  inflating: /content/flowers_dataset/flowers/dandelion/33877161494_05686b7f7a_n.jpg  \n",
            "  inflating: /content/flowers_dataset/flowers/dandelion/7249354462_21925f7d95_n.jpg  \n",
            "  inflating: /content/flowers_dataset/flowers/daisy/7633425046_8293e3d0e9_m.jpg  \n",
            "  inflating: /content/flowers_dataset/flowers/daisy/14021430525_e06baf93a9.jpg  \n",
            "  inflating: /content/flowers_dataset/flowers/dandelion/4512569988_2b3f802cc6.jpg  \n",
            "  inflating: /content/flowers_dataset/flowers/daisy/11642632_1e7627a2cc.jpg  \n",
            "  inflating: /content/flowers_dataset/flowers/dandelion/17367866236_61abd4d243_n.jpg  \n",
            "  inflating: /content/flowers_dataset/flowers/dandelion/4552591312_02fe1dcc04_n.jpg  \n",
            "  inflating: /content/flowers_dataset/flowers/dandelion/3730618647_5725c692c3_m.jpg  \n",
            "  inflating: /content/flowers_dataset/flowers/dandelion/2462476884_58c617b26a.jpg  \n",
            "  inflating: /content/flowers_dataset/flowers/daisy/512477177_d9004cbcf1_n.jpg  \n",
            "  inflating: /content/flowers_dataset/flowers/dandelion/7179487220_56e4725195_m.jpg  \n",
            "  inflating: /content/flowers_dataset/flowers/daisy/3628485766_4ff937954a_n.jpg  \n",
            "  inflating: /content/flowers_dataset/flowers/daisy/4733590002_f6a70b4f48_n.jpg  \n",
            "  inflating: /content/flowers_dataset/flowers/daisy/7416083788_fcb4c4f27e_n.jpg  \n",
            "  inflating: /content/flowers_dataset/flowers/dandelion/16462263826_2555edeb74_n.jpg  \n",
            "  inflating: /content/flowers_dataset/flowers/dandelion/2620243133_e801981efe_n.jpg  \n",
            "  inflating: /content/flowers_dataset/flowers/dandelion/33852722314_e8907d51f1_n.jpg  \n",
            "  inflating: /content/flowers_dataset/flowers/dandelion/4632235020_d00ce1e497.jpg  \n",
            "  inflating: /content/flowers_dataset/flowers/rose/5083072098_81587295d5.jpg  \n",
            "  inflating: /content/flowers_dataset/flowers/dandelion/4254850910_0610224342_n.jpg  \n",
            "  inflating: /content/flowers_dataset/flowers/daisy/5087720485_c0914fb623.jpg  \n",
            "  inflating: /content/flowers_dataset/flowers/dandelion/33849982914_0f017c8e3c_n.jpg  \n",
            "  inflating: /content/flowers_dataset/flowers/daisy/153210866_03cc9f2f36.jpg  \n",
            "  inflating: /content/flowers_dataset/flowers/dandelion/2753166154_0cb51a127b.jpg  \n",
            "  inflating: /content/flowers_dataset/flowers/daisy/34287492780_6dab677857_n.jpg  \n",
            "  inflating: /content/flowers_dataset/flowers/dandelion/4557781241_0060cbe723_n.jpg  \n",
            "  inflating: /content/flowers_dataset/flowers/dandelion/7355522_b66e5d3078_m.jpg  \n",
            "  inflating: /content/flowers_dataset/flowers/daisy/5905502226_bb23bd8fa0_n.jpg  \n",
            "  inflating: /content/flowers_dataset/flowers/dandelion/7243478942_30bf542a2d_m.jpg  \n",
            "  inflating: /content/flowers_dataset/flowers/daisy/34562146951_cf3d2a627c_n.jpg  \n",
            "  inflating: /content/flowers_dataset/flowers/daisy/3025866885_22fb0b61c6_n.jpg  \n",
            "  inflating: /content/flowers_dataset/flowers/rose/494803274_f84f21d53a.jpg  \n",
            "  inflating: /content/flowers_dataset/flowers/daisy/3506866918_61dd5fc53b_n.jpg  \n",
            "  inflating: /content/flowers_dataset/flowers/daisy/19544831049_0d738d4872_m.jpg  \n",
            "  inflating: /content/flowers_dataset/flowers/dandelion/16237158409_01913cf918_n.jpg  \n",
            "  inflating: /content/flowers_dataset/flowers/dandelion/9965757055_ff01b5ee6f_n.jpg  \n",
            "  inflating: /content/flowers_dataset/flowers/dandelion/34605411661_4e735bd995_n.jpg  \n",
            "  inflating: /content/flowers_dataset/flowers/daisy/34727863665_b00ac77266_n.jpg  \n",
            "  inflating: /content/flowers_dataset/flowers/daisy/3491933306_43cfe2cfbe.jpg  \n",
            "  inflating: /content/flowers_dataset/flowers/dandelion/146023167_f905574d97_m.jpg  \n",
            "  inflating: /content/flowers_dataset/flowers/daisy/19280272025_57de24e940_m.jpg  \n",
            "  inflating: /content/flowers_dataset/flowers/dandelion/19443674130_08db1d9578_m.jpg  \n",
            "  inflating: /content/flowers_dataset/flowers/dandelion/3857059749_fe8ca621a9.jpg  \n",
            "  inflating: /content/flowers_dataset/flowers/dandelion/33890085903_0e10553b27_n.jpg  \n",
            "  inflating: /content/flowers_dataset/flowers/dandelion/5607983792_f8b8766ff7.jpg  \n",
            "  inflating: /content/flowers_dataset/flowers/rose/3276552939_8c31b22d3e.jpg  \n",
            "  inflating: /content/flowers_dataset/flowers/daisy/8348621545_8f02b82662_n.jpg  \n",
            "  inflating: /content/flowers_dataset/flowers/daisy/506348009_9ecff8b6ef.jpg  \n",
            "  inflating: /content/flowers_dataset/flowers/rose/326541992_d542103ca8_n.jpg  \n",
            "  inflating: /content/flowers_dataset/flowers/dandelion/14053397367_75cba846eb_n.jpg  \n",
            "  inflating: /content/flowers_dataset/flowers/dandelion/344318990_7be3fb0a7d.jpg  \n",
            "  inflating: /content/flowers_dataset/flowers/rose/5001848317_b33d17ab7a_n.jpg  \n",
            "  inflating: /content/flowers_dataset/flowers/dandelion/8083321316_f62ea76f72_n.jpg  \n",
            "  inflating: /content/flowers_dataset/flowers/dandelion/2294126841_e478564e77_n.jpg  \n",
            "  inflating: /content/flowers_dataset/flowers/dandelion/18876985840_7531dc8e6a.jpg  \n",
            "  inflating: /content/flowers_dataset/flowers/rose/410421672_563550467c.jpg  \n",
            "  inflating: /content/flowers_dataset/flowers/rose/5060519573_c628547e20_n.jpg  \n",
            "  inflating: /content/flowers_dataset/flowers/dandelion/34537877932_f9a3476a4d_n.jpg  \n",
            "  inflating: /content/flowers_dataset/flowers/dandelion/14648777167_1d92d403c9_n.jpg  \n",
            "  inflating: /content/flowers_dataset/flowers/dandelion/19617643201_9922eec796.jpg  \n",
            "  inflating: /content/flowers_dataset/flowers/dandelion/17388697431_0d84c427d1_n.jpg  \n",
            "  inflating: /content/flowers_dataset/flowers/daisy/14167534527_781ceb1b7a_n.jpg  \n",
            "  inflating: /content/flowers_dataset/flowers/daisy/19177263840_6a316ea639.jpg  \n",
            "  inflating: /content/flowers_dataset/flowers/dandelion/4571923094_b9cefa9438_n.jpg  \n",
            "  inflating: /content/flowers_dataset/flowers/daisy/1355787476_32e9f2a30b.jpg  \n",
            "  inflating: /content/flowers_dataset/flowers/dandelion/10043234166_e6dd915111_n.jpg  \n",
            "  inflating: /content/flowers_dataset/flowers/rose/12240303_80d87f77a3_n.jpg  \n",
            "  inflating: /content/flowers_dataset/flowers/dandelion/1193386857_3ae53574f2_m.jpg  \n",
            "  inflating: /content/flowers_dataset/flowers/daisy/34652819496_0b6f758986_n.jpg  \n",
            "  inflating: /content/flowers_dataset/flowers/dandelion/3476759348_a0d34a4b59_n.jpg  \n",
            "  inflating: /content/flowers_dataset/flowers/dandelion/5605093210_5fecb71c61.jpg  \n",
            "  inflating: /content/flowers_dataset/flowers/dandelion/5716633491_55e6f02645_n.jpg  \n",
            "  inflating: /content/flowers_dataset/flowers/daisy/8696022686_1f8d62c5cb_m.jpg  \n",
            "  inflating: /content/flowers_dataset/flowers/dandelion/33907694863_f7c0f23ef3_n.jpg  \n",
            "  inflating: /content/flowers_dataset/flowers/daisy/5608389827_a42a46f760.jpg  \n",
            "  inflating: /content/flowers_dataset/flowers/daisy/5693459303_e61d9a9533.jpg  \n",
            "  inflating: /content/flowers_dataset/flowers/rose/4713531680_1110a2fa07_n.jpg  \n",
            "  inflating: /content/flowers_dataset/flowers/dandelion/2019520447_48b2354a20_m.jpg  \n",
            "  inflating: /content/flowers_dataset/flowers/rose/4363734507_5cc4ed6e01.jpg  \n",
            "  inflating: /content/flowers_dataset/flowers/dandelion/3585220976_5acac92d1c.jpg  \n",
            "  inflating: /content/flowers_dataset/flowers/dandelion/8168031302_6e36f39d87.jpg  \n",
            "  inflating: /content/flowers_dataset/flowers/daisy/34289553800_606f1f2954_n.jpg  \n",
            "  inflating: /content/flowers_dataset/flowers/rose/4231745228_ece86330d9.jpg  \n",
            "  inflating: /content/flowers_dataset/flowers/dandelion/5909154147_9da14d1730_n.jpg  \n",
            "  inflating: /content/flowers_dataset/flowers/dandelion/15378782362_4161b23af7_m.jpg  \n",
            "  inflating: /content/flowers_dataset/flowers/daisy/299129811_d6ebda9970.jpg  \n",
            "  inflating: /content/flowers_dataset/flowers/dandelion/8880158802_6e10a452c7_m.jpg  \n",
            "  inflating: /content/flowers_dataset/flowers/dandelion/5655177340_78fc36ce59_m.jpg  \n",
            "  inflating: /content/flowers_dataset/flowers/daisy/16833748795_b681b2839f_n.jpg  \n",
            "  inflating: /content/flowers_dataset/flowers/dandelion/16495282564_d8c34d6a2e_m.jpg  \n",
            "  inflating: /content/flowers_dataset/flowers/dandelion/2457473644_5242844e52_m.jpg  \n",
            "  inflating: /content/flowers_dataset/flowers/dandelion/6968202872_cfcb5b77fb.jpg  \n",
            "  inflating: /content/flowers_dataset/flowers/dandelion/34346200780_c3a783a3ec_n.jpg  \n",
            "  inflating: /content/flowers_dataset/flowers/daisy/18023717391_e2c9089e10.jpg  \n",
            "  inflating: /content/flowers_dataset/flowers/dandelion/7218569994_de7045c0c0.jpg  \n",
            "  inflating: /content/flowers_dataset/flowers/dandelion/14376454225_a1de336c5b.jpg  \n",
            "  inflating: /content/flowers_dataset/flowers/rose/4061451210_1650590c6a.jpg  \n",
            "  inflating: /content/flowers_dataset/flowers/daisy/34658035045_7782e95b50_n.jpg  \n",
            "  inflating: /content/flowers_dataset/flowers/daisy/3900172983_9312fdf39c_n.jpg  \n",
            "  inflating: /content/flowers_dataset/flowers/dandelion/34591174681_483f7cb82a_n.jpg  \n",
            "  inflating: /content/flowers_dataset/flowers/daisy/14402451388_56545a374a_n.jpg  \n",
            "  inflating: /content/flowers_dataset/flowers/dandelion/7950901292_2dea05f9a2_n.jpg  \n",
            "  inflating: /content/flowers_dataset/flowers/dandelion/5760890854_c3e009bc8a_n.jpg  \n",
            "  inflating: /content/flowers_dataset/flowers/rose/1666341535_99c6f7509f_n.jpg  \n",
            "  inflating: /content/flowers_dataset/flowers/daisy/525780443_bba812c26a_m.jpg  \n",
            "  inflating: /content/flowers_dataset/flowers/dandelion/17821459748_873101edd0_m.jpg  \n",
            "  inflating: /content/flowers_dataset/flowers/rose/2059172936_032ffc12aa.jpg  \n",
            "  inflating: /content/flowers_dataset/flowers/dandelion/14019781123_ea0f8722d4_n.jpg  \n",
            "  inflating: /content/flowers_dataset/flowers/dandelion/4574736702_b15ecf97d0_m.jpg  \n",
            "  inflating: /content/flowers_dataset/flowers/daisy/7630517248_98fb8bee1f_n.jpg  \n",
            "  inflating: /content/flowers_dataset/flowers/daisy/10555749515_13a12a026e.jpg  \n",
            "  inflating: /content/flowers_dataset/flowers/dandelion/14048849371_ec9dbafaeb_m.jpg  \n",
            "  inflating: /content/flowers_dataset/flowers/dandelion/4496277750_8c34256e28.jpg  \n",
            "  inflating: /content/flowers_dataset/flowers/dandelion/18995294384_77543e96b6_n.jpg  \n",
            "  inflating: /content/flowers_dataset/flowers/daisy/144076848_57e1d662e3_m.jpg  \n",
            "  inflating: /content/flowers_dataset/flowers/dandelion/29535628436_2e79a9628d_n.jpg  \n",
            "  inflating: /content/flowers_dataset/flowers/daisy/14816364517_2423021484_m.jpg  \n",
            "  inflating: /content/flowers_dataset/flowers/dandelion/34697163155_5dc2571f23_n.jpg  \n",
            "  inflating: /content/flowers_dataset/flowers/dandelion/17276354745_2e312a72b5_n.jpg  \n",
            "  inflating: /content/flowers_dataset/flowers/dandelion/14076873230_d0bd53b220.jpg  \n",
            "  inflating: /content/flowers_dataset/flowers/dandelion/19440910519_cb1162470e.jpg  \n",
            "  inflating: /content/flowers_dataset/flowers/dandelion/19617501581_606be5f716_n.jpg  \n",
            "  inflating: /content/flowers_dataset/flowers/dandelion/8980145452_efbd6e3b04.jpg  \n",
            "  inflating: /content/flowers_dataset/flowers/daisy/19178753159_a471bf4b6b.jpg  \n",
            "  inflating: /content/flowers_dataset/flowers/dandelion/8687729737_a7fbeded2c_m.jpg  \n",
            "  inflating: /content/flowers_dataset/flowers/dandelion/5109496141_8dcf673d43_n.jpg  \n",
            "  inflating: /content/flowers_dataset/flowers/rose/5001855107_71351ce785_n.jpg  \n",
            "  inflating: /content/flowers_dataset/flowers/dandelion/29687446176_096b86f44c_n.jpg  \n",
            "  inflating: /content/flowers_dataset/flowers/dandelion/151861297_55b10a03a6_n.jpg  \n",
            "  inflating: /content/flowers_dataset/flowers/dandelion/1195255751_d58b3d3076.jpg  \n",
            "  inflating: /content/flowers_dataset/flowers/dandelion/14886963928_d4856f1eb6_n.jpg  \n",
            "  inflating: /content/flowers_dataset/flowers/daisy/3483303007_42e3f90da7.jpg  \n",
            "  inflating: /content/flowers_dataset/flowers/dandelion/1443259657_2704fab26e_n.jpg  \n",
            "  inflating: /content/flowers_dataset/flowers/dandelion/17095758258_a33642946f_n.jpg  \n",
            "  inflating: /content/flowers_dataset/flowers/daisy/9593034725_0062f0d24e_n.jpg  \n",
            "  inflating: /content/flowers_dataset/flowers/daisy/2479956481_8d1a9699be_n.jpg  \n",
            "  inflating: /content/flowers_dataset/flowers/dandelion/14185089716_2a48298d17.jpg  \n",
            "  inflating: /content/flowers_dataset/flowers/daisy/19527362416_8bdcbefb8b_n.jpg  \n",
            "  inflating: /content/flowers_dataset/flowers/dandelion/8724252904_db9a5104df_m.jpg  \n",
            "  inflating: /content/flowers_dataset/flowers/dandelion/5745882709_fb6fc8f02a_n.jpg  \n",
            "  inflating: /content/flowers_dataset/flowers/rose/272481307_1eb47ba3e0_n.jpg  \n",
            "  inflating: /content/flowers_dataset/flowers/dandelion/33892886253_7c74efdd7a_n.jpg  \n",
            "  inflating: /content/flowers_dataset/flowers/daisy/8708143485_38d084ac8c_n.jpg  \n",
            "  inflating: /content/flowers_dataset/flowers/dandelion/4632251871_9f324a7bb5.jpg  \n",
            "  inflating: /content/flowers_dataset/flowers/dandelion/1798082733_b8080b1173_m.jpg  \n",
            "  inflating: /content/flowers_dataset/flowers/dandelion/17161833794_e1d92259d2_m.jpg  \n",
            "  inflating: /content/flowers_dataset/flowers/rose/4503599544_3822e7d1be.jpg  \n",
            "  inflating: /content/flowers_dataset/flowers/dandelion/61242541_a04395e6bc.jpg  \n",
            "  inflating: /content/flowers_dataset/flowers/dandelion/19551343954_83bb52f310_m.jpg  \n",
            "  inflating: /content/flowers_dataset/flowers/dandelion/8737699225_19e0c9f0fa_m.jpg  \n",
            "  inflating: /content/flowers_dataset/flowers/dandelion/8223968_6b51555d2f_n.jpg  \n",
            "  inflating: /content/flowers_dataset/flowers/dandelion/2462379970_6bd5560f4c_m.jpg  \n",
            "  inflating: /content/flowers_dataset/flowers/rose/4797595918_79887b1229_n.jpg  \n",
            "  inflating: /content/flowers_dataset/flowers/daisy/1344985627_c3115e2d71_n.jpg  \n",
            "  inflating: /content/flowers_dataset/flowers/dandelion/2600382379_5791b0b35a_m.jpg  \n",
            "  inflating: /content/flowers_dataset/flowers/dandelion/13887031789_97437f246b.jpg  \n",
            "  inflating: /content/flowers_dataset/flowers/dandelion/34571238031_7eff74ca43_n.jpg  \n",
            "  inflating: /content/flowers_dataset/flowers/rose/4356781875_92c5cd93c0.jpg  \n",
            "  inflating: /content/flowers_dataset/flowers/dandelion/3856725141_0db85f466d_n.jpg  \n",
            "  inflating: /content/flowers_dataset/flowers/daisy/5665838969_fe217988b9_m.jpg  \n",
            "  inflating: /content/flowers_dataset/flowers/daisy/2488902131_3417698611_n.jpg  \n",
            "  inflating: /content/flowers_dataset/flowers/daisy/3326037909_b5ae370722_n.jpg  \n",
            "  inflating: /content/flowers_dataset/flowers/dandelion/13942846777_5571a6b0a1_n.jpg  \n",
            "  inflating: /content/flowers_dataset/flowers/dandelion/8719388716_1a392c4c0e_n.jpg  \n",
            "  inflating: /content/flowers_dataset/flowers/daisy/34696730346_5f0c131e59_n.jpg  \n",
            "  inflating: /content/flowers_dataset/flowers/dandelion/14335561523_f847f2f4f1.jpg  \n",
            "  inflating: /content/flowers_dataset/flowers/dandelion/1273326361_b90ea56d0d_m.jpg  \n",
            "  inflating: /content/flowers_dataset/flowers/dandelion/34571561452_07ec474366_n.jpg  \n",
            "  inflating: /content/flowers_dataset/flowers/dandelion/2476098674_e6f39536f5_n.jpg  \n",
            "  inflating: /content/flowers_dataset/flowers/dandelion/17574213074_f5416afd84.jpg  \n",
            "  inflating: /content/flowers_dataset/flowers/dandelion/15005530987_e13b328047_n.jpg  \n",
            "  inflating: /content/flowers_dataset/flowers/dandelion/19437578578_6ab1b3c984.jpg  \n",
            "  inflating: /content/flowers_dataset/flowers/dandelion/8935456132_8dc4d3b679_n.jpg  \n",
            "  inflating: /content/flowers_dataset/flowers/dandelion/17075803866_aeeded2637.jpg  \n",
            "  inflating: /content/flowers_dataset/flowers/daisy/3706420943_66f3214862_n.jpg  \n",
            "  inflating: /content/flowers_dataset/flowers/rose/3065719996_c16ecd5551.jpg  \n",
            "  inflating: /content/flowers_dataset/flowers/daisy/3625257860_33efeef614_m.jpg  \n",
            "  inflating: /content/flowers_dataset/flowers/dandelion/483097906_2c35054346.jpg  \n",
            "  inflating: /content/flowers_dataset/flowers/dandelion/7270523166_b62fc9e5f1_m.jpg  \n",
            "  inflating: /content/flowers_dataset/flowers/dandelion/15987457_49dc11bf4b.jpg  \n",
            "  inflating: /content/flowers_dataset/flowers/dandelion/7247192002_39b79998f0_n.jpg  \n",
            "  inflating: /content/flowers_dataset/flowers/daisy/5973488341_50bdf6cee3_n.jpg  \n",
            "  inflating: /content/flowers_dataset/flowers/dandelion/14085038920_2ee4ce8a8d.jpg  \n",
            "  inflating: /content/flowers_dataset/flowers/dandelion/17482158576_86c5ebc2f8.jpg  \n",
            "  inflating: /content/flowers_dataset/flowers/rose/1949195327_75f76c12b1.jpg  \n",
            "  inflating: /content/flowers_dataset/flowers/dandelion/17346385582_7ba433dbbe.jpg  \n",
            "  inflating: /content/flowers_dataset/flowers/dandelion/20179380768_7a2990d4e3_n.jpg  \n",
            "  inflating: /content/flowers_dataset/flowers/rose/4918137796_21f0922b0c_n.jpg  \n",
            "  inflating: /content/flowers_dataset/flowers/daisy/8383753520_8391dd80ee_m.jpg  \n",
            "  inflating: /content/flowers_dataset/flowers/dandelion/17466568484_9128287148.jpg  \n",
            "  inflating: /content/flowers_dataset/flowers/daisy/5435522104_1d6a61b431_n.jpg  \n",
            "  inflating: /content/flowers_dataset/flowers/dandelion/468749497_951c571eff_n.jpg  \n",
            "  inflating: /content/flowers_dataset/flowers/daisy/34591991761_16fc5c9c00_n.jpg  \n",
            "  inflating: /content/flowers_dataset/flowers/dandelion/34351602790_37234e2dae_n.jpg  \n",
            "  inflating: /content/flowers_dataset/flowers/dandelion/2553703483_558d12668c_n.jpg  \n",
            "  inflating: /content/flowers_dataset/flowers/dandelion/23891393761_155af6402c.jpg  \n",
            "  inflating: /content/flowers_dataset/flowers/daisy/1955336401_fbb206d6ef_n.jpg  \n",
            "  inflating: /content/flowers_dataset/flowers/daisy/13491959645_2cd9df44d6_n.jpg  \n",
            "  inflating: /content/flowers_dataset/flowers/rose/3451177763_729a4d54af_n.jpg  \n",
            "  inflating: /content/flowers_dataset/flowers/dandelion/34724303275_b9494837aa_n.jpg  \n",
            "  inflating: /content/flowers_dataset/flowers/dandelion/2502610598_b9f1b55ebd_n.jpg  \n",
            "  inflating: /content/flowers_dataset/flowers/rose/3415176946_248afe9f32.jpg  \n",
            "  inflating: /content/flowers_dataset/flowers/dandelion/34678209886_9005f29b47_n.jpg  \n",
            "  inflating: /content/flowers_dataset/flowers/dandelion/16041975_2f6c1596e5.jpg  \n",
            "  inflating: /content/flowers_dataset/flowers/dandelion/16911008669_ea21fd8915_n.jpg  \n",
            "  inflating: /content/flowers_dataset/flowers/daisy/33837577463_1ae52a3726_n.jpg  \n",
            "  inflating: /content/flowers_dataset/flowers/daisy/525271784_013ddccd1b_m.jpg  \n",
            "  inflating: /content/flowers_dataset/flowers/dandelion/14200639491_2a4611916d_n.jpg  \n",
            "  inflating: /content/flowers_dataset/flowers/dandelion/8720503800_cab5c62a34.jpg  \n",
            "  inflating: /content/flowers_dataset/flowers/dandelion/4624036600_11a4744254_n.jpg  \n",
            "  inflating: /content/flowers_dataset/flowers/dandelion/148698493_5710e5f472.jpg  \n",
            "  inflating: /content/flowers_dataset/flowers/dandelion/4336536446_e635f48f2e.jpg  \n",
            "  inflating: /content/flowers_dataset/flowers/dandelion/4589787911_851cb80157_n.jpg  \n",
            "  inflating: /content/flowers_dataset/flowers/dandelion/4573886524_5161482ca7_n.jpg  \n",
            "  inflating: /content/flowers_dataset/flowers/dandelion/23192507093_2e6ec77bef_n.jpg  \n",
            "  inflating: /content/flowers_dataset/flowers/daisy/7320089276_87b544e341.jpg  \n",
            "  inflating: /content/flowers_dataset/flowers/daisy/10437754174_22ec990b77_m.jpg  \n",
            "  inflating: /content/flowers_dataset/flowers/daisy/2621723097_736febb4a4_n.jpg  \n",
            "  inflating: /content/flowers_dataset/flowers/dandelion/486234138_688e01aa9b_n.jpg  \n",
            "  inflating: /content/flowers_dataset/flowers/daisy/33855966243_01b2486428_n.jpg  \n",
            "  inflating: /content/flowers_dataset/flowers/dandelion/33980437760_60f3ceaf03_n.jpg  \n",
            "  inflating: /content/flowers_dataset/flowers/dandelion/14439618952_470224b89b_n.jpg  \n",
            "  inflating: /content/flowers_dataset/flowers/dandelion/5776879272_95008399c3.jpg  \n",
            "  inflating: /content/flowers_dataset/flowers/dandelion/10617162044_8740d4dd9f_n.jpg  \n",
            "  inflating: /content/flowers_dataset/flowers/dandelion/33851560384_d2e7d933db_n.jpg  \n",
            "  inflating: /content/flowers_dataset/flowers/dandelion/5598014250_684c28bd5c_n.jpg  \n",
            "  inflating: /content/flowers_dataset/flowers/daisy/4746633946_23933c0810.jpg  \n",
            "  inflating: /content/flowers_dataset/flowers/dandelion/4556178143_e0d32c0a86_n.jpg  \n",
            "  inflating: /content/flowers_dataset/flowers/daisy/14221836990_90374e6b34.jpg  \n",
            "  inflating: /content/flowers_dataset/flowers/dandelion/4560613196_91a04f8dcf_m.jpg  \n",
            "  inflating: /content/flowers_dataset/flowers/daisy/10993818044_4c19b86c82.jpg  \n",
            "  inflating: /content/flowers_dataset/flowers/dandelion/17903104293_9138439e76.jpg  \n",
            "  inflating: /content/flowers_dataset/flowers/dandelion/3664916269_29f07c7c7b.jpg  \n",
            "  inflating: /content/flowers_dataset/flowers/daisy/33846706663_5f4695ffa4_n.jpg  \n",
            "  inflating: /content/flowers_dataset/flowers/dandelion/9759608055_9ab623d193.jpg  \n",
            "  inflating: /content/flowers_dataset/flowers/daisy/3117644024_1cbb59a509_n.jpg  \n",
            "  inflating: /content/flowers_dataset/flowers/dandelion/141340262_ca2e576490.jpg  \n",
            "  inflating: /content/flowers_dataset/flowers/dandelion/5623855601_ecaebdb8fe.jpg  \n",
            "  inflating: /content/flowers_dataset/flowers/dandelion/4568317687_3f89622f76.jpg  \n",
            "  inflating: /content/flowers_dataset/flowers/daisy/12348343085_d4c396e5b5_m.jpg  \n",
            "  inflating: /content/flowers_dataset/flowers/daisy/1265350143_6e2b276ec9.jpg  \n",
            "  inflating: /content/flowers_dataset/flowers/daisy/8887005939_b19e8305ee.jpg  \n",
            "  inflating: /content/flowers_dataset/flowers/daisy/3957488431_52a447c0e8_m.jpg  \n",
            "  inflating: /content/flowers_dataset/flowers/dandelion/3005677730_2662753d3f_m.jpg  \n",
            "  inflating: /content/flowers_dataset/flowers/daisy/2536529152_33ef3ee078_n.jpg  \n",
            "  inflating: /content/flowers_dataset/flowers/dandelion/3469112805_6cc8640236.jpg  \n",
            "  inflating: /content/flowers_dataset/flowers/dandelion/3476980444_c276bea402_m.jpg  \n",
            "  inflating: /content/flowers_dataset/flowers/dandelion/14886860069_b84665a073.jpg  \n",
            "  inflating: /content/flowers_dataset/flowers/dandelion/493696003_f93ffb3abd_n.jpg  \n",
            "  inflating: /content/flowers_dataset/flowers/daisy/18400014056_2e4c601ed5.jpg  \n",
            "  inflating: /content/flowers_dataset/flowers/dandelion/3419176626_512811d3ff.jpg  \n",
            "  inflating: /content/flowers_dataset/flowers/dandelion/34552250422_320900fd8e_n.jpg  \n",
            "  inflating: /content/flowers_dataset/flowers/dandelion/17344936845_fec4d626b7.jpg  \n",
            "  inflating: /content/flowers_dataset/flowers/daisy/3285641623_da0e47f49a.jpg  \n",
            "  inflating: /content/flowers_dataset/flowers/dandelion/17080000869_a80e767f4a_m.jpg  \n",
            "  inflating: /content/flowers_dataset/flowers/dandelion/17175932454_c052e205c1_n.jpg  \n",
            "  inflating: /content/flowers_dataset/flowers/daisy/515112668_a49c69455a.jpg  \n",
            "  inflating: /content/flowers_dataset/flowers/dandelion/4562516418_8ccb8c103f.jpg  \n",
            "  inflating: /content/flowers_dataset/flowers/daisy/11023277956_8980d53169_m.jpg  \n",
            "  inflating: /content/flowers_dataset/flowers/dandelion/34582964591_dc9f160fce_n.jpg  \n",
            "  inflating: /content/flowers_dataset/flowers/dandelion/7040710179_7f86a17a3c_n.jpg  \n",
            "  inflating: /content/flowers_dataset/flowers/dandelion/2497301920_91490c42c0.jpg  \n",
            "  inflating: /content/flowers_dataset/flowers/dandelion/2674176237_e265ea64cc_n.jpg  \n",
            "  inflating: /content/flowers_dataset/flowers/dandelion/148180650_19a4b410db.jpg  \n",
            "  inflating: /content/flowers_dataset/flowers/dandelion/6918170172_3215766bf4_m.jpg  \n",
            "  inflating: /content/flowers_dataset/flowers/dandelion/5605502523_05acb00ae7_n.jpg  \n",
            "  inflating: /content/flowers_dataset/flowers/dandelion/16817037661_2980d823e1_n.jpg  \n",
            "  inflating: /content/flowers_dataset/flowers/dandelion/8727612532_6f3d0904aa_n.jpg  \n",
            "  inflating: /content/flowers_dataset/flowers/rose/5148639829_781eb7d346.jpg  \n",
            "  inflating: /content/flowers_dataset/flowers/daisy/4131565290_0585c4dd5a_n.jpg  \n",
            "  inflating: /content/flowers_dataset/flowers/dandelion/3533075436_0954145b9f_m.jpg  \n",
            "  inflating: /content/flowers_dataset/flowers/daisy/144603918_b9de002f60_m.jpg  \n",
            "  inflating: /content/flowers_dataset/flowers/dandelion/15139657325_74031c44fc.jpg  \n",
            "  inflating: /content/flowers_dataset/flowers/dandelion/8717161615_4c1e403083.jpg  \n",
            "  inflating: /content/flowers_dataset/flowers/dandelion/6146107825_45f708ecd7_n.jpg  \n",
            "  inflating: /content/flowers_dataset/flowers/daisy/34295444880_b4376b3a8b_n.jpg  \n",
            "  inflating: /content/flowers_dataset/flowers/dandelion/4669815582_0a994fb4fd_m.jpg  \n",
            "  inflating: /content/flowers_dataset/flowers/dandelion/463736819_f779800165.jpg  \n",
            "  inflating: /content/flowers_dataset/flowers/daisy/7335886184_d06a83f640.jpg  \n",
            "  inflating: /content/flowers_dataset/flowers/dandelion/17077940105_d2cd7b9ec4_n.jpg  \n",
            "  inflating: /content/flowers_dataset/flowers/dandelion/2634666217_d5ef87c9f7_m.jpg  \n",
            "  inflating: /content/flowers_dataset/flowers/dandelion/33882910234_dd8f1479e3_n.jpg  \n",
            "  inflating: /content/flowers_dataset/flowers/dandelion/34654530326_6dcda41377_n.jpg  \n",
            "  inflating: /content/flowers_dataset/flowers/dandelion/5217892384_3edce91761_m.jpg  \n",
            "  inflating: /content/flowers_dataset/flowers/dandelion/4713958242_fbcfe9a61b_m.jpg  \n",
            "  inflating: /content/flowers_dataset/flowers/dandelion/4844697927_c70d644f40_n.jpg  \n",
            "  inflating: /content/flowers_dataset/flowers/daisy/6054952060_c88612f3c5_n.jpg  \n",
            "  inflating: /content/flowers_dataset/flowers/daisy/8008258043_5457dd254b_n.jpg  \n",
            "  inflating: /content/flowers_dataset/flowers/dandelion/18889216716_cd67aec890_n.jpg  \n",
            "  inflating: /content/flowers_dataset/flowers/dandelion/34662979916_0479576f5e_n.jpg  \n",
            "  inflating: /content/flowers_dataset/flowers/daisy/21626652132_97e1318bb8_m.jpg  \n",
            "  inflating: /content/flowers_dataset/flowers/dandelion/8689302980_9bd2f7b9fe_n.jpg  \n",
            "  inflating: /content/flowers_dataset/flowers/dandelion/18687587599_3dd4fdf255.jpg  \n",
            "  inflating: /content/flowers_dataset/flowers/dandelion/34679936936_9924d79c8d_n.jpg  \n",
            "  inflating: /content/flowers_dataset/flowers/dandelion/2469856983_fe8e36ba57.jpg  \n",
            "  inflating: /content/flowers_dataset/flowers/dandelion/8979062599_86cac547b8.jpg  \n",
            "  inflating: /content/flowers_dataset/flowers/daisy/18203367608_07a04e98a4_n.jpg  \n",
            "  inflating: /content/flowers_dataset/flowers/dandelion/34551360172_dde3b8e43d_n.jpg  \n",
            "  inflating: /content/flowers_dataset/flowers/dandelion/18010259565_d6aae33ca7_n.jpg  \n",
            "  inflating: /content/flowers_dataset/flowers/daisy/8120563761_ed5620664f_m.jpg  \n",
            "  inflating: /content/flowers_dataset/flowers/daisy/8932490012_cc08e690ba_n.jpg  \n",
            "  inflating: /content/flowers_dataset/flowers/dandelion/19067907051_16d530c7d2.jpg  \n",
            "  inflating: /content/flowers_dataset/flowers/rose/5001846301_9380fbe900_n.jpg  \n",
            "  inflating: /content/flowers_dataset/flowers/daisy/4724713781_d169f98a35.jpg  \n",
            "  inflating: /content/flowers_dataset/flowers/dandelion/9029756865_db8891807a_n.jpg  \n",
            "  inflating: /content/flowers_dataset/flowers/dandelion/2542908888_25a1c78ff0.jpg  \n",
            "  inflating: /content/flowers_dataset/flowers/dandelion/3454102259_957ecd0a9b.jpg  \n",
            "  inflating: /content/flowers_dataset/flowers/dandelion/34578947551_863af3acb3_n.jpg  \n",
            "  inflating: /content/flowers_dataset/flowers/daisy/2838487505_6c3b48efa5_m.jpg  \n",
            "  inflating: /content/flowers_dataset/flowers/daisy/6046940312_8faf552f3e_n.jpg  \n",
            "  inflating: /content/flowers_dataset/flowers/dandelion/34653465656_31bc613631_n.jpg  \n",
            "  inflating: /content/flowers_dataset/flowers/daisy/1140299375_3aa7024466.jpg  \n",
            "  inflating: /content/flowers_dataset/flowers/daisy/10140303196_b88d3d6cec.jpg  \n",
            "  inflating: /content/flowers_dataset/flowers/rose/4764674741_82b8f93359_n.jpg  \n",
            "  inflating: /content/flowers_dataset/flowers/dandelion/6954604340_d3223ed296_m.jpg  \n",
            "  inflating: /content/flowers_dataset/flowers/daisy/21402054779_759366efb0_n.jpg  \n",
            "  inflating: /content/flowers_dataset/flowers/daisy/16492248512_61a57dfec1_m.jpg  \n",
            "  inflating: /content/flowers_dataset/flowers/daisy/1396526833_fb867165be_n.jpg  \n",
            "  inflating: /content/flowers_dataset/flowers/dandelion/7062171343_db61c92737_n.jpg  \n",
            "  inflating: /content/flowers_dataset/flowers/daisy/9515186037_3be48fe68f.jpg  \n",
            "  inflating: /content/flowers_dataset/flowers/rose/2609353769_dc3654f12f.jpg  \n",
            "  inflating: /content/flowers_dataset/flowers/daisy/15306268004_4680ba95e1.jpg  \n",
            "  inflating: /content/flowers_dataset/flowers/dandelion/19599413676_fc9ee2640e.jpg  \n",
            "  inflating: /content/flowers_dataset/flowers/daisy/2646438199_b309cffd65_n.jpg  \n",
            "  inflating: /content/flowers_dataset/flowers/rose/2258973326_03c0145f15_n.jpg  \n",
            "  inflating: /content/flowers_dataset/flowers/daisy/2632216904_274aa17433.jpg  \n",
            "  inflating: /content/flowers_dataset/flowers/dandelion/8956863946_f96be02aae_n.jpg  \n",
            "  inflating: /content/flowers_dataset/flowers/daisy/5769217520_c90efc3c93_m.jpg  \n",
            "  inflating: /content/flowers_dataset/flowers/daisy/3080880039_4f1bd592e5_n.jpg  \n",
            "  inflating: /content/flowers_dataset/flowers/daisy/7790614422_4557928ab9_n.jpg  \n",
            "  inflating: /content/flowers_dataset/flowers/daisy/5110109540_beed4ed162_m.jpg  \n",
            "  inflating: /content/flowers_dataset/flowers/rose/4684127262_6c3346188d.jpg  \n",
            "  inflating: /content/flowers_dataset/flowers/rose/534228982_4afbcece9b_m.jpg  \n",
            "  inflating: /content/flowers_dataset/flowers/daisy/13583238844_573df2de8e_m.jpg  \n",
            "  inflating: /content/flowers_dataset/flowers/dandelion/2521811279_1f7fc353bf_n.jpg  \n",
            "  inflating: /content/flowers_dataset/flowers/daisy/3440366251_5b9bdf27c9_m.jpg  \n",
            "  inflating: /content/flowers_dataset/flowers/daisy/3640845041_80a92c4205_n.jpg  \n",
            "  inflating: /content/flowers_dataset/flowers/dandelion/3451646670_3eff7094b7_n.jpg  \n",
            "  inflating: /content/flowers_dataset/flowers/rose/5001848135_63300a26a8_n.jpg  \n",
            "  inflating: /content/flowers_dataset/flowers/daisy/34266044490_01dacd2ac2_n.jpg  \n",
            "  inflating: /content/flowers_dataset/flowers/dandelion/140951103_69847c0b7c.jpg  \n",
            "  inflating: /content/flowers_dataset/flowers/dandelion/3419166382_a5e4b8fe6d_m.jpg  \n",
            "  inflating: /content/flowers_dataset/flowers/dandelion/7164500544_332b75aa3b.jpg  \n",
            "  inflating: /content/flowers_dataset/flowers/rose/5002460330_7286e80967_n.jpg  \n",
            "  inflating: /content/flowers_dataset/flowers/daisy/5876455546_32049e5585.jpg  \n",
            "  inflating: /content/flowers_dataset/flowers/rose/4093390305_4010c736c9.jpg  \n",
            "  inflating: /content/flowers_dataset/flowers/dandelion/2303491518_f25fee9440.jpg  \n",
            "  inflating: /content/flowers_dataset/flowers/dandelion/7004645518_ff0f862eff_n.jpg  \n",
            "  inflating: /content/flowers_dataset/flowers/dandelion/33873410454_04bc2167f4_n.jpg  \n",
            "  inflating: /content/flowers_dataset/flowers/daisy/7199968650_72afc16d31_m.jpg  \n",
            "  inflating: /content/flowers_dataset/flowers/dandelion/151979452_9832f08b69.jpg  \n",
            "  inflating: /content/flowers_dataset/flowers/rose/5050969148_a0090f762a.jpg  \n",
            "  inflating: /content/flowers_dataset/flowers/dandelion/9111669902_9471c3a49c_n.jpg  \n",
            "  inflating: /content/flowers_dataset/flowers/daisy/4276898893_609d11db8b.jpg  \n",
            "  inflating: /content/flowers_dataset/flowers/dandelion/22679060358_561ec823ae_m.jpg  \n",
            "  inflating: /content/flowers_dataset/flowers/daisy/6480809573_76a0074b69_n.jpg  \n",
            "  inflating: /content/flowers_dataset/flowers/daisy/294451721_5106537b34.jpg  \n",
            "  inflating: /content/flowers_dataset/flowers/daisy/3711723108_65247a3170.jpg  \n",
            "  inflating: /content/flowers_dataset/flowers/daisy/14698531521_0c2f0c6539.jpg  \n",
            "  inflating: /content/flowers_dataset/flowers/dandelion/17189437699_a9171b6ae3.jpg  \n",
            "  inflating: /content/flowers_dataset/flowers/dandelion/425800274_27dba84fac_n.jpg  \n",
            "  inflating: /content/flowers_dataset/flowers/daisy/8619103877_d8c82c5f34_n.jpg  \n",
            "  inflating: /content/flowers_dataset/flowers/dandelion/21657726011_2c94e341bc_n.jpg  \n",
            "  inflating: /content/flowers_dataset/flowers/daisy/5896110423_e084b33401_n.jpg  \n",
            "  inflating: /content/flowers_dataset/flowers/daisy/15784493690_b1858cdb2b_n.jpg  \n",
            "  inflating: /content/flowers_dataset/flowers/daisy/34485028892_fc238ddfc8_n.jpg  \n",
            "  inflating: /content/flowers_dataset/flowers/dandelion/10778387133_9141024b10.jpg  \n",
            "  inflating: /content/flowers_dataset/flowers/daisy/16819071290_471d99e166_m.jpg  \n",
            "  inflating: /content/flowers_dataset/flowers/rose/4648680921_80dfc4f12a.jpg  \n",
            "  inflating: /content/flowers_dataset/flowers/dandelion/4586018734_6de9c513c2.jpg  \n",
            "  inflating: /content/flowers_dataset/flowers/dandelion/5598845098_13e8e9460f.jpg  \n",
            "  inflating: /content/flowers_dataset/flowers/daisy/3084924076_4d5c5711af_m.jpg  \n",
            "  inflating: /content/flowers_dataset/flowers/daisy/34542837641_10492bf600_n.jpg  \n",
            "  inflating: /content/flowers_dataset/flowers/dandelion/33852722714_496828f866_n.jpg  \n",
            "  inflating: /content/flowers_dataset/flowers/dandelion/8981659922_7b1be892e7_m.jpg  \n",
            "  inflating: /content/flowers_dataset/flowers/daisy/3337643329_accc9b5426.jpg  \n",
            "  inflating: /content/flowers_dataset/flowers/daisy/14523675369_97c31d0b5b.jpg  \n",
            "  inflating: /content/flowers_dataset/flowers/dandelion/18996965033_1d92e5c99e.jpg  \n",
            "  inflating: /content/flowers_dataset/flowers/dandelion/34586667251_bfda649f33_n.jpg  \n",
            "  inflating: /content/flowers_dataset/flowers/dandelion/3554435478_1a7ab743e9_n.jpg  \n",
            "  inflating: /content/flowers_dataset/flowers/dandelion/7232035352_84a39e99ba_n.jpg  \n",
            "  inflating: /content/flowers_dataset/flowers/dandelion/34725992285_21cb05733a_n.jpg  \n",
            "  inflating: /content/flowers_dataset/flowers/daisy/7357072446_c21c38c863_n.jpg  \n",
            "  inflating: /content/flowers_dataset/flowers/dandelion/33847542834_0ce330ac60_n.jpg  \n",
            "  inflating: /content/flowers_dataset/flowers/daisy/2346726545_2ebce2b2a6.jpg  \n",
            "  inflating: /content/flowers_dataset/flowers/dandelion/4610125337_50798408b8_m.jpg  \n",
            "  inflating: /content/flowers_dataset/flowers/dandelion/4560663938_3557a1f831.jpg  \n",
            "  inflating: /content/flowers_dataset/flowers/daisy/2561371688_c80a4fe957_n.jpg  \n",
            "  inflating: /content/flowers_dataset/flowers/rose/5002453814_cf37b62acd_n.jpg  \n",
            "  inflating: /content/flowers_dataset/flowers/dandelion/3491333876_e3fed43c0d.jpg  \n",
            "  inflating: /content/flowers_dataset/flowers/dandelion/2479491210_98e41c4e7d_m.jpg  \n",
            "  inflating: /content/flowers_dataset/flowers/daisy/7358085448_b317d11cd5.jpg  \n",
            "  inflating: /content/flowers_dataset/flowers/daisy/10555815624_dc211569b0.jpg  \n",
            "  inflating: /content/flowers_dataset/flowers/dandelion/34690477346_6af75b993b_n.jpg  \n",
            "  inflating: /content/flowers_dataset/flowers/rose/1461381091_aaaa663bbe_n.jpg  \n",
            "  inflating: /content/flowers_dataset/flowers/rose/2491600761_7e9d6776e8_m.jpg  \n",
            "  inflating: /content/flowers_dataset/flowers/dandelion/34690479536_69da7b98e7_n.jpg  \n",
            "  inflating: /content/flowers_dataset/flowers/dandelion/4633323785_20676ff914_m.jpg  \n",
            "  inflating: /content/flowers_dataset/flowers/rose/1645761726_2b1be95472.jpg  \n",
            "  inflating: /content/flowers_dataset/flowers/dandelion/34555389922_8da9ffa268_n.jpg  \n",
            "  inflating: /content/flowers_dataset/flowers/dandelion/2522454811_f87af57d8b.jpg  \n",
            "  inflating: /content/flowers_dataset/flowers/dandelion/34694287966_43ce068108_n.jpg  \n",
            "  inflating: /content/flowers_dataset/flowers/daisy/4865691548_00319261b8.jpg  \n",
            "  inflating: /content/flowers_dataset/flowers/dandelion/2540640433_dedd577263.jpg  \n",
            "  inflating: /content/flowers_dataset/flowers/dandelion/15297244181_011883a631_m.jpg  \n",
            "  inflating: /content/flowers_dataset/flowers/rose/3278709893_ba4956a572_n.jpg  \n",
            "  inflating: /content/flowers_dataset/flowers/dandelion/8979087213_28f572174c.jpg  \n",
            "  inflating: /content/flowers_dataset/flowers/daisy/10559679065_50d2b16f6d.jpg  \n",
            "  inflating: /content/flowers_dataset/flowers/daisy/3468498624_d082f99e98.jpg  \n",
            "  inflating: /content/flowers_dataset/flowers/daisy/5904946193_bd1eb1f39d_n.jpg  \n",
            "  inflating: /content/flowers_dataset/flowers/daisy/14569895116_32f0dcb0f9.jpg  \n",
            "  inflating: /content/flowers_dataset/flowers/dandelion/18243351371_5fda92ac0a_n.jpg  \n",
            "  inflating: /content/flowers_dataset/flowers/rose/319298955_0c72bd36bf.jpg  \n",
            "  inflating: /content/flowers_dataset/flowers/rose/475947979_554062a608_m.jpg  \n",
            "  inflating: /content/flowers_dataset/flowers/dandelion/34725991045_05812dedd5_n.jpg  \n",
            "  inflating: /content/flowers_dataset/flowers/dandelion/14404468648_37903d7025_m.jpg  \n",
            "  inflating: /content/flowers_dataset/flowers/dandelion/34729107795_c746845e17_n.jpg  \n",
            "  inflating: /content/flowers_dataset/flowers/dandelion/18243329421_771b4d938e.jpg  \n",
            "  inflating: /content/flowers_dataset/flowers/dandelion/13968424321_1d89b33a9f_n.jpg  \n",
            "  inflating: /content/flowers_dataset/flowers/dandelion/18996760154_58d3c48604.jpg  \n",
            "  inflating: /content/flowers_dataset/flowers/dandelion/2470731130_089b8514f6_n.jpg  \n",
            "  inflating: /content/flowers_dataset/flowers/dandelion/8647874151_aac8db2588_m.jpg  \n",
            "  inflating: /content/flowers_dataset/flowers/daisy/18901817451_43e2b45f6c.jpg  \n",
            "  inflating: /content/flowers_dataset/flowers/dandelion/13920113_f03e867ea7_m.jpg  \n",
            "  inflating: /content/flowers_dataset/flowers/dandelion/3393060921_2328b752f4.jpg  \n",
            "  inflating: /content/flowers_dataset/flowers/dandelion/6044710875_0459796d1b_m.jpg  \n",
            "  inflating: /content/flowers_dataset/flowers/dandelion/34533729452_7d8e2b519d_n.jpg  \n",
            "  inflating: /content/flowers_dataset/flowers/dandelion/26004221274_74900d17e1_n.jpg  \n",
            "  inflating: /content/flowers_dataset/flowers/dandelion/8475758_4c861ab268_m.jpg  \n",
            "  inflating: /content/flowers_dataset/flowers/dandelion/477316928_a70a31a704_m.jpg  \n",
            "  inflating: /content/flowers_dataset/flowers/dandelion/34562659841_caba988a0c_n.jpg  \n",
            "  inflating: /content/flowers_dataset/flowers/daisy/9310226774_d1b8f5d9c9.jpg  \n",
            "  inflating: /content/flowers_dataset/flowers/dandelion/18304194360_2a4a0be631_m.jpg  \n",
            "  inflating: /content/flowers_dataset/flowers/dandelion/4572738670_4787a11058_n.jpg  \n",
            "  inflating: /content/flowers_dataset/flowers/daisy/34637970155_a2b917077c_n.jpg  \n",
            "  inflating: /content/flowers_dataset/flowers/rose/5089363428_2c5a1272ea.jpg  \n",
            "  inflating: /content/flowers_dataset/flowers/daisy/3379332157_04724f6480.jpg  \n",
            "  inflating: /content/flowers_dataset/flowers/rose/873660804_37f5c6a46e_n.jpg  \n",
            "  inflating: /content/flowers_dataset/flowers/dandelion/177851662_b2622b4238_n.jpg  \n",
            "  inflating: /content/flowers_dataset/flowers/dandelion/4530848609_02a1d9b791.jpg  \n",
            "  inflating: /content/flowers_dataset/flowers/dandelion/2477986396_19da36d557_m.jpg  \n",
            "  inflating: /content/flowers_dataset/flowers/dandelion/14313509432_6f2343d6c8_m.jpg  \n",
            "  inflating: /content/flowers_dataset/flowers/dandelion/6104442744_ee2bcd32e7_n.jpg  \n",
            "  inflating: /content/flowers_dataset/flowers/dandelion/2628514700_b6d5325797_n.jpg  \n",
            "  inflating: /content/flowers_dataset/flowers/daisy/34539556222_f7ba32f704_n.jpg  \n",
            "  inflating: /content/flowers_dataset/flowers/rose/2215318403_06eb99176a.jpg  \n",
            "  inflating: /content/flowers_dataset/flowers/dandelion/6888894675_524a6accab_n.jpg  \n",
            "  inflating: /content/flowers_dataset/flowers/daisy/5435521200_92029bbe2b_n.jpg  \n",
            "  inflating: /content/flowers_dataset/flowers/dandelion/8748402330_c00f9fbf7f_n.jpg  \n",
            "  inflating: /content/flowers_dataset/flowers/dandelion/8689302100_be76a16ccc_n.jpg  \n",
            "  inflating: /content/flowers_dataset/flowers/daisy/20182559506_40a112f762.jpg  \n",
            "  inflating: /content/flowers_dataset/flowers/dandelion/8980273068_cf7e8b880a_n.jpg  \n",
            "  inflating: /content/flowers_dataset/flowers/rose/2550860627_998a4fc4c1.jpg  \n",
            "  inflating: /content/flowers_dataset/flowers/daisy/18679421522_3be9879e32.jpg  \n",
            "  inflating: /content/flowers_dataset/flowers/daisy/520752848_4b87fb91a4.jpg  \n",
            "  inflating: /content/flowers_dataset/flowers/dandelion/6103898045_e066cdeedf_n.jpg  \n",
            "  inflating: /content/flowers_dataset/flowers/daisy/2599662355_7782218c83.jpg  \n",
            "  inflating: /content/flowers_dataset/flowers/rose/353897245_5453f35a8e.jpg  \n",
            "  inflating: /content/flowers_dataset/flowers/dandelion/4573886520_09c984ecd8_m.jpg  \n",
            "  inflating: /content/flowers_dataset/flowers/dandelion/19004688463_12a8423109.jpg  \n",
            "  inflating: /content/flowers_dataset/flowers/dandelion/5875763050_82f32f2eed_m.jpg  \n",
            "  inflating: /content/flowers_dataset/flowers/dandelion/6953830582_8525e0423c_n.jpg  \n",
            "  inflating: /content/flowers_dataset/flowers/dandelion/1469549847_eac61a6802.jpg  \n",
            "  inflating: /content/flowers_dataset/flowers/daisy/14333681205_a07c9f1752_m.jpg  \n",
            "  inflating: /content/flowers_dataset/flowers/rose/5002453464_ab2bcb3829_n.jpg  \n",
            "  inflating: /content/flowers_dataset/flowers/daisy/4666648087_b10f376f19.jpg  \n",
            "  inflating: /content/flowers_dataset/flowers/rose/3873271620_1d9d314f01_n.jpg  \n",
            "  inflating: /content/flowers_dataset/flowers/rose/5172171681_5934378f08.jpg  \n",
            "  inflating: /content/flowers_dataset/flowers/dandelion/461632542_0387557eff.jpg  \n",
            "  inflating: /content/flowers_dataset/flowers/dandelion/2326334426_2dc74fceb1.jpg  \n",
            "  inflating: /content/flowers_dataset/flowers/dandelion/155646858_9a8b5e8fc8.jpg  \n",
            "  inflating: /content/flowers_dataset/flowers/dandelion/4574102507_70039c8b28.jpg  \n",
            "  inflating: /content/flowers_dataset/flowers/dandelion/4714026966_93846ddb74_m.jpg  \n",
            "  inflating: /content/flowers_dataset/flowers/daisy/7066602021_2647457985_m.jpg  \n",
            "  inflating: /content/flowers_dataset/flowers/daisy/33857335804_7f0c96243b_n.jpg  \n",
            "  inflating: /content/flowers_dataset/flowers/daisy/4085794721_7cd88e0a6c_m.jpg  \n",
            "  inflating: /content/flowers_dataset/flowers/daisy/34695914906_961f92ffcd_n.jpg  \n",
            "  inflating: /content/flowers_dataset/flowers/dandelion/34689593326_0fd3fbc38a_n.jpg  \n",
            "  inflating: /content/flowers_dataset/flowers/dandelion/16650892835_9228a3ef67_m.jpg  \n",
            "  inflating: /content/flowers_dataset/flowers/dandelion/18001393975_2a6acaabd8.jpg  \n",
            "  inflating: /content/flowers_dataset/flowers/dandelion/5416388641_c66d52d2ff_m.jpg  \n",
            "  inflating: /content/flowers_dataset/flowers/rose/323872063_7264e7e018_m.jpg  \n",
            "  inflating: /content/flowers_dataset/flowers/dandelion/4632757134_40156d7d5b.jpg  \n",
            "  inflating: /content/flowers_dataset/flowers/dandelion/158988663_6fe055fcb4.jpg  \n",
            "  inflating: /content/flowers_dataset/flowers/dandelion/3509307596_6cfe97867d_n.jpg  \n",
            "  inflating: /content/flowers_dataset/flowers/dandelion/8831808134_315aedb37b.jpg  \n",
            "  inflating: /content/flowers_dataset/flowers/daisy/4544110929_a7de65d65f_n.jpg  \n",
            "  inflating: /content/flowers_dataset/flowers/daisy/3975010332_3209f9f447_m.jpg  \n",
            "  inflating: /content/flowers_dataset/flowers/dandelion/8058286066_acdf082487_n.jpg  \n",
            "  inflating: /content/flowers_dataset/flowers/dandelion/62293290_2c463891ff_m.jpg  \n",
            "  inflating: /content/flowers_dataset/flowers/dandelion/12093962485_7c3e9a2a23_n.jpg  \n",
            "  inflating: /content/flowers_dataset/flowers/dandelion/3517492544_0fd3ed6a66_m.jpg  \n",
            "  inflating: /content/flowers_dataset/flowers/dandelion/13946048982_4e6ec56987.jpg  \n",
            "  inflating: /content/flowers_dataset/flowers/daisy/4955671608_8d3862db05_n.jpg  \n",
            "  inflating: /content/flowers_dataset/flowers/dandelion/6994925894_030e157fe0.jpg  \n",
            "  inflating: /content/flowers_dataset/flowers/dandelion/4528742654_99d233223b_m.jpg  \n",
            "  inflating: /content/flowers_dataset/flowers/daisy/2511306240_9047015f2d_n.jpg  \n",
            "  inflating: /content/flowers_dataset/flowers/daisy/488202750_c420cbce61.jpg  \n",
            "  inflating: /content/flowers_dataset/flowers/dandelion/1241011700_261ae180ca.jpg  \n",
            "  inflating: /content/flowers_dataset/flowers/daisy/10466290366_cc72e33532.jpg  \n",
            "  inflating: /content/flowers_dataset/flowers/dandelion/14053173516_a00150a919_m.jpg  \n",
            "  inflating: /content/flowers_dataset/flowers/daisy/2812442552_3eed5fb9f2_m.jpg  \n",
            "  inflating: /content/flowers_dataset/flowers/dandelion/5607669502_ccd2a76668_n.jpg  \n",
            "  inflating: /content/flowers_dataset/flowers/rose/3526860692_4c551191b1_m.jpg  \n",
            "  inflating: /content/flowers_dataset/flowers/daisy/4657354814_f368762c53_m.jpg  \n",
            "  inflating: /content/flowers_dataset/flowers/daisy/14613443462_d4ed356201.jpg  \n",
            "  inflating: /content/flowers_dataset/flowers/daisy/29380234244_c50a60374e_n.jpg  \n",
            "  inflating: /content/flowers_dataset/flowers/dandelion/13386618495_3df1f1330d.jpg  \n",
            "  inflating: /content/flowers_dataset/flowers/daisy/5944315415_2be8abeb2f_m.jpg  \n",
            "  inflating: /content/flowers_dataset/flowers/dandelion/142390525_5d81a3659d_m.jpg  \n",
            "  inflating: /content/flowers_dataset/flowers/dandelion/33856267954_b806fab0db_n.jpg  \n",
            "  inflating: /content/flowers_dataset/flowers/dandelion/6983113346_21551e1b52_n.jpg  \n",
            "  inflating: /content/flowers_dataset/flowers/daisy/2045022175_ad087f5f60_n.jpg  \n",
            "  inflating: /content/flowers_dataset/flowers/daisy/11870378973_2ec1919f12.jpg  \n",
            "  inflating: /content/flowers_dataset/flowers/dandelion/4716316039_044e4d2d1a.jpg  \n",
            "  inflating: /content/flowers_dataset/flowers/dandelion/17851831751_35b071f4b0.jpg  \n",
            "  inflating: /content/flowers_dataset/flowers/dandelion/10828951106_c3cd47983f.jpg  \n",
            "  inflating: /content/flowers_dataset/flowers/dandelion/4622115595_a0de9f2013_n.jpg  \n",
            "  inflating: /content/flowers_dataset/flowers/daisy/34276373070_27ec2d2596_n.jpg  \n",
            "  inflating: /content/flowers_dataset/flowers/dandelion/9011235009_58c7b244c1_n.jpg  \n",
            "  inflating: /content/flowers_dataset/flowers/rose/5002460856_c44a02442f_n.jpg  \n",
            "  inflating: /content/flowers_dataset/flowers/daisy/8405273313_bef13f6c27_n.jpg  \n",
            "  inflating: /content/flowers_dataset/flowers/dandelion/2538797744_deb53ac253.jpg  \n",
            "  inflating: /content/flowers_dataset/flowers/dandelion/8717787983_c83bdf39fe_n.jpg  \n",
            "  inflating: /content/flowers_dataset/flowers/dandelion/253622055_d72964a7fd_n.jpg  \n",
            "  inflating: /content/flowers_dataset/flowers/daisy/3848258315_ed2fde4fb4.jpg  \n",
            "  inflating: /content/flowers_dataset/flowers/daisy/34275662120_7757a15d07_n.jpg  \n",
            "  inflating: /content/flowers_dataset/flowers/daisy/19975899671_ebc42b7865_n.jpg  \n",
            "  inflating: /content/flowers_dataset/flowers/dandelion/5673112305_02fe19297b_n.jpg  \n",
            "  inflating: /content/flowers_dataset/flowers/dandelion/3954167682_128398bf79_m.jpg  \n",
            "  inflating: /content/flowers_dataset/flowers/dandelion/80846315_d997645bea_n.jpg  \n",
            "  inflating: /content/flowers_dataset/flowers/rose/4612830331_2a44957465_n.jpg  \n",
            "  inflating: /content/flowers_dataset/flowers/daisy/17357636476_1953c07aa4_n.jpg  \n",
            "  inflating: /content/flowers_dataset/flowers/daisy/7410356270_9dff4d0e2e_n.jpg  \n",
            "  inflating: /content/flowers_dataset/flowers/daisy/34522174462_b7cbee3ecb_n.jpg  \n",
            "  inflating: /content/flowers_dataset/flowers/dandelion/13290033_ebd7c7abba_n.jpg  \n",
            "  inflating: /content/flowers_dataset/flowers/dandelion/4550784336_584d7a65de_m.jpg  \n",
            "  inflating: /content/flowers_dataset/flowers/dandelion/4278757393_bca8415ed4_n.jpg  \n",
            "  inflating: /content/flowers_dataset/flowers/dandelion/3562861685_8b8d747b4d.jpg  \n",
            "  inflating: /content/flowers_dataset/flowers/daisy/14471433500_cdaa22e3ea_m.jpg  \n",
            "  inflating: /content/flowers_dataset/flowers/dandelion/5596093561_09b0301136_n.jpg  \n",
            "  inflating: /content/flowers_dataset/flowers/daisy/3474942718_c418dae6f1.jpg  \n",
            "  inflating: /content/flowers_dataset/flowers/daisy/33891398493_e0b6d7f683_n.jpg  \n",
            "  inflating: /content/flowers_dataset/flowers/dandelion/3581252194_8c976d333a_n.jpg  \n",
            "  inflating: /content/flowers_dataset/flowers/rose/3697780051_83e50a6dd1_m.jpg  \n",
            "  inflating: /content/flowers_dataset/flowers/dandelion/7083589767_2859993846_n.jpg  \n",
            "  inflating: /content/flowers_dataset/flowers/daisy/6299498346_b9774b6500.jpg  \n",
            "  inflating: /content/flowers_dataset/flowers/rose/5060536705_b370a5c543_n.jpg  \n",
            "  inflating: /content/flowers_dataset/flowers/dandelion/751941983_58e1ae3957_m.jpg  \n",
            "  inflating: /content/flowers_dataset/flowers/dandelion/3393564906_f2df184b76_n.jpg  \n",
            "  inflating: /content/flowers_dataset/flowers/daisy/34266042310_9c1abd8e11_n.jpg  \n",
            "  inflating: /content/flowers_dataset/flowers/dandelion/14070463051_86ab57ab36.jpg  \n",
            "  inflating: /content/flowers_dataset/flowers/dandelion/2521827947_9d237779bb_n.jpg  \n",
            "  inflating: /content/flowers_dataset/flowers/daisy/5948835387_5a98d39eff_m.jpg  \n",
            "  inflating: /content/flowers_dataset/flowers/dandelion/1074999133_1e4a1e042e.jpg  \n",
            "  inflating: /content/flowers_dataset/flowers/daisy/34571214621_f655295459_n.jpg  \n",
            "  inflating: /content/flowers_dataset/flowers/rose/1446090416_f0cad5fde4.jpg  \n",
            "  inflating: /content/flowers_dataset/flowers/daisy/8709535323_a6bea3e43f.jpg  \n",
            "  inflating: /content/flowers_dataset/flowers/dandelion/22274701614_901606ee34_n.jpg  \n",
            "  inflating: /content/flowers_dataset/flowers/dandelion/14283011_3e7452c5b2_n.jpg  \n",
            "  inflating: /content/flowers_dataset/flowers/dandelion/14306875733_61d71c64c0_n.jpg  \n",
            "  inflating: /content/flowers_dataset/flowers/daisy/9175280426_40ecc395b8_m.jpg  \n",
            "  inflating: /content/flowers_dataset/flowers/daisy/5896674046_a4879f718e_n.jpg  \n",
            "  inflating: /content/flowers_dataset/flowers/dandelion/4523239455_9c31a06aaf_n.jpg  \n",
            "  inflating: /content/flowers_dataset/flowers/dandelion/34711474235_507d286bce_n.jpg  \n",
            "  inflating: /content/flowers_dataset/flowers/dandelion/3513200808_390f1d63a7_m.jpg  \n",
            "  inflating: /content/flowers_dataset/flowers/dandelion/27186992702_449dfa54ef_n.jpg  \n",
            "  inflating: /content/flowers_dataset/flowers/rose/1831404161_d2df86fd70.jpg  \n",
            "  inflating: /content/flowers_dataset/flowers/dandelion/7719263062_3c8a307a5d.jpg  \n",
            "  inflating: /content/flowers_dataset/flowers/dandelion/34561332721_04b6f1c889_n.jpg  \n",
            "  inflating: /content/flowers_dataset/flowers/dandelion/7132676187_7a4265b16f_n.jpg  \n",
            "  inflating: /content/flowers_dataset/flowers/rose/537625768_791e973b40.jpg  \n",
            "  inflating: /content/flowers_dataset/flowers/dandelion/501987288_c69c4e0c90_m.jpg  \n",
            "  inflating: /content/flowers_dataset/flowers/dandelion/478851599_25bfd70605_n.jpg  \n",
            "  inflating: /content/flowers_dataset/flowers/daisy/5896103923_075a988bed_n.jpg  \n",
            "  inflating: /content/flowers_dataset/flowers/daisy/144099102_bf63a41e4f_n.jpg  \n",
            "  inflating: /content/flowers_dataset/flowers/daisy/34693373736_9ce6d9e1c3_n.jpg  \n",
            "  inflating: /content/flowers_dataset/flowers/daisy/14264136211_9531fbc144.jpg  \n",
            "  inflating: /content/flowers_dataset/flowers/daisy/1354396826_2868631432_m.jpg  \n",
            "  inflating: /content/flowers_dataset/flowers/dandelion/5767676943_4f9c7323f3_n.jpg  \n",
            "  inflating: /content/flowers_dataset/flowers/daisy/7188513571_c8527b123a_n.jpg  \n",
            "  inflating: /content/flowers_dataset/flowers/dandelion/19812060274_c432f603db.jpg  \n",
            "  inflating: /content/flowers_dataset/flowers/daisy/437859108_173fb33c98.jpg  \n",
            "  inflating: /content/flowers_dataset/flowers/daisy/14219214466_3ca6104eae_m.jpg  \n",
            "  inflating: /content/flowers_dataset/flowers/dandelion/3297108443_0393d04dfc_m.jpg  \n",
            "  inflating: /content/flowers_dataset/flowers/daisy/43474673_7bb4465a86.jpg  \n",
            "  inflating: /content/flowers_dataset/flowers/dandelion/7425858848_d04dab08dd_n.jpg  \n",
            "  inflating: /content/flowers_dataset/flowers/dandelion/4258272381_65bd4b8191_m.jpg  \n",
            "  inflating: /content/flowers_dataset/flowers/dandelion/17649230811_9bdbbacb8c.jpg  \n",
            "  inflating: /content/flowers_dataset/flowers/dandelion/32120685303_90b5f21ab2_n.jpg  \n",
            "  inflating: /content/flowers_dataset/flowers/daisy/9120905231_329598304e.jpg  \n",
            "  inflating: /content/flowers_dataset/flowers/daisy/18684594849_7dd3634f5e_n.jpg  \n",
            "  inflating: /content/flowers_dataset/flowers/dandelion/22196426956_eca94f6faa_m.jpg  \n",
            "  inflating: /content/flowers_dataset/flowers/dandelion/130733200_fbe28eea19.jpg  \n",
            "  inflating: /content/flowers_dataset/flowers/daisy/3717746329_53f515c6a6_m.jpg  \n",
            "  inflating: /content/flowers_dataset/flowers/dandelion/2503034372_db7867de51_m.jpg  \n",
            "  inflating: /content/flowers_dataset/flowers/dandelion/494108764_e00178af6e.jpg  \n",
            "  inflating: /content/flowers_dataset/flowers/daisy/4890424315_6a59696357_n.jpg  \n",
            "  inflating: /content/flowers_dataset/flowers/dandelion/3149809654_6a4b31314d_n.jpg  \n",
            "  inflating: /content/flowers_dataset/flowers/dandelion/13471273823_4800ca8eec.jpg  \n",
            "  inflating: /content/flowers_dataset/flowers/rose/5193918046_d44e4fcd75_m.jpg  \n",
            "  inflating: /content/flowers_dataset/flowers/daisy/14507818175_05219b051c_m.jpg  \n",
            "  inflating: /content/flowers_dataset/flowers/daisy/4540555191_3254dc4608_n.jpg  \n",
            "  inflating: /content/flowers_dataset/flowers/dandelion/7280227122_7ea2bef7f4_n.jpg  \n",
            "  inflating: /content/flowers_dataset/flowers/dandelion/4574447682_40dce530f1.jpg  \n",
            "  inflating: /content/flowers_dataset/flowers/dandelion/11405573_24a8a838cc_n.jpg  \n",
            "  inflating: /content/flowers_dataset/flowers/daisy/1392946544_115acbb2d9.jpg  \n",
            "  inflating: /content/flowers_dataset/flowers/dandelion/142813254_20a7fd5fb6_n.jpg  \n",
            "  inflating: /content/flowers_dataset/flowers/dandelion/16949657389_ac0ee80fd1_m.jpg  \n",
            "  inflating: /content/flowers_dataset/flowers/dandelion/2116997627_30fed84e53_m.jpg  \n",
            "  inflating: /content/flowers_dataset/flowers/dandelion/5744236092_de84b4e38d_n.jpg  \n",
            "  inflating: /content/flowers_dataset/flowers/rose/1402130395_0b89d76029.jpg  \n",
            "  inflating: /content/flowers_dataset/flowers/dandelion/2161283279_02ea3ff8d4.jpg  \n",
            "  inflating: /content/flowers_dataset/flowers/dandelion/13900486390_5a25785645_n.jpg  \n",
            "  inflating: /content/flowers_dataset/flowers/dandelion/15268682367_5a4512b29f_m.jpg  \n",
            "  inflating: /content/flowers_dataset/flowers/daisy/2627815904_919373e7f5.jpg  \n",
            "  inflating: /content/flowers_dataset/flowers/daisy/34288158610_6e42406193_n.jpg  \n",
            "  inflating: /content/flowers_dataset/flowers/dandelion/8267315764_129f2e1d77_m.jpg  \n",
            "  inflating: /content/flowers_dataset/flowers/daisy/5435513198_90ce39f1aa_n.jpg  \n",
            "  inflating: /content/flowers_dataset/flowers/rose/4675532860_890504a4a3_m.jpg  \n",
            "  inflating: /content/flowers_dataset/flowers/dandelion/34722644565_812fcc1397_n.jpg  \n",
            "  inflating: /content/flowers_dataset/flowers/dandelion/451965300_619b781dc9_m.jpg  \n",
            "  inflating: /content/flowers_dataset/flowers/dandelion/7132605107_f5e033d725_n.jpg  \n",
            "  inflating: /content/flowers_dataset/flowers/dandelion/5829610661_8439ba4a77_n.jpg  \n",
            "  inflating: /content/flowers_dataset/flowers/dandelion/26741270544_f44f3a1b19_n.jpg  \n",
            "  inflating: /content/flowers_dataset/flowers/dandelion/6012046444_fd80afb63a_n.jpg  \n",
            "  inflating: /content/flowers_dataset/flowers/dandelion/3502447188_ab4a5055ac_m.jpg  \n",
            "  inflating: /content/flowers_dataset/flowers/rose/5002447916_8a7b7b689a_n.jpg  \n",
            "  inflating: /content/flowers_dataset/flowers/dandelion/34256868592_ca3ffd6b15_n.jpg  \n",
            "  inflating: /content/flowers_dataset/flowers/dandelion/2598486434_bf349854f2_m.jpg  \n",
            "  inflating: /content/flowers_dataset/flowers/dandelion/18089878729_907ed2c7cd_m.jpg  \n",
            "  inflating: /content/flowers_dataset/flowers/daisy/34701198765_54aa641d7a_n.jpg  \n",
            "  inflating: /content/flowers_dataset/flowers/dandelion/138132145_782763b84f_m.jpg  \n",
            "  inflating: /content/flowers_dataset/flowers/rose/5002457330_b77672da1c_n.jpg  \n",
            "  inflating: /content/flowers_dataset/flowers/dandelion/10946896405_81d2d50941_m.jpg  \n",
            "  inflating: /content/flowers_dataset/flowers/daisy/34733243845_29f1c30634_n.jpg  \n",
            "  inflating: /content/flowers_dataset/flowers/dandelion/7132482331_01769e36e9_n.jpg  \n",
            "  inflating: /content/flowers_dataset/flowers/dandelion/14199664556_188b37e51e.jpg  \n",
            "  inflating: /content/flowers_dataset/flowers/dandelion/5768217474_f6b1eef6d5_n.jpg  \n",
            "  inflating: /content/flowers_dataset/flowers/daisy/3699235066_fc09a02dfe_m.jpg  \n",
            "  inflating: /content/flowers_dataset/flowers/dandelion/8738317694_eca2ce3bfc_n.jpg  \n",
            "  inflating: /content/flowers_dataset/flowers/dandelion/14002252932_64d5cbdac7.jpg  \n",
            "  inflating: /content/flowers_dataset/flowers/daisy/1879567877_8ed2a5faa7_n.jpg  \n",
            "  inflating: /content/flowers_dataset/flowers/rose/568715474_bdb64ccc32.jpg  \n",
            "  inflating: /content/flowers_dataset/flowers/daisy/4790631791_21e9648097_n.jpg  \n",
            "  inflating: /content/flowers_dataset/flowers/dandelion/12094442595_297494dba4_m.jpg  \n",
            "  inflating: /content/flowers_dataset/flowers/dandelion/510677438_73e4b91c95_m.jpg  \n",
            "  inflating: /content/flowers_dataset/flowers/dandelion/16744522344_8d21b1530d_n.jpg  \n",
            "  inflating: /content/flowers_dataset/flowers/dandelion/16987075_9a690a2183.jpg  \n",
            "  inflating: /content/flowers_dataset/flowers/daisy/181007802_7cab5ee78e_n.jpg  \n",
            "  inflating: /content/flowers_dataset/flowers/dandelion/9188647508_3b56e62f69.jpg  \n",
            "  inflating: /content/flowers_dataset/flowers/dandelion/34721329895_529f999fb6_n.jpg  \n",
            "  inflating: /content/flowers_dataset/flowers/dandelion/18238604119_a5689980ee_n.jpg  \n",
            "  inflating: /content/flowers_dataset/flowers/rose/2535495431_e6f950443c.jpg  \n",
            "  inflating: /content/flowers_dataset/flowers/dandelion/14012247974_69ac128799.jpg  \n",
            "  inflating: /content/flowers_dataset/flowers/dandelion/34690508115_bafcb9845c_n.jpg  \n",
            "  inflating: /content/flowers_dataset/flowers/daisy/413815348_764ae83088.jpg  \n",
            "  inflating: /content/flowers_dataset/flowers/dandelion/3518608454_c3fd3c311c_m.jpg  \n",
            "  inflating: /content/flowers_dataset/flowers/dandelion/14829055_2a2e646a8f_m.jpg  \n",
            "  inflating: /content/flowers_dataset/flowers/dandelion/3487229452_73e3004858.jpg  \n",
            "  inflating: /content/flowers_dataset/flowers/dandelion/17388674711_6dca8a2e8b_n.jpg  \n",
            "  inflating: /content/flowers_dataset/flowers/dandelion/2780702427_312333ef33.jpg  \n",
            "  inflating: /content/flowers_dataset/flowers/dandelion/506659320_6fac46551e.jpg  \n",
            "  inflating: /content/flowers_dataset/flowers/daisy/6136947177_47ff445eb4_n.jpg  \n",
            "  inflating: /content/flowers_dataset/flowers/dandelion/4629844753_4e02015d29_m.jpg  \n",
            "  inflating: /content/flowers_dataset/flowers/dandelion/33877585464_b23cefb361_n.jpg  \n",
            "  inflating: /content/flowers_dataset/flowers/daisy/16323838000_3818bce5c6_n.jpg  \n",
            "  inflating: /content/flowers_dataset/flowers/daisy/8718637649_87a0d85190_n.jpg  \n",
            "  inflating: /content/flowers_dataset/flowers/dandelion/4691257171_23a29aaa33_n.jpg  \n",
            "  inflating: /content/flowers_dataset/flowers/daisy/7702332000_3f21ef4571_n.jpg  \n",
            "  inflating: /content/flowers_dataset/flowers/daisy/3704305945_a80e60e2f6_m.jpg  \n",
            "  inflating: /content/flowers_dataset/flowers/dandelion/7280222348_a87725ca77.jpg  \n",
            "  inflating: /content/flowers_dataset/flowers/dandelion/3451637528_b245144675_n.jpg  \n",
            "  inflating: /content/flowers_dataset/flowers/dandelion/18482768066_677292a64e.jpg  \n",
            "  inflating: /content/flowers_dataset/flowers/daisy/20773528301_008fcbc5a1_n.jpg  \n",
            "  inflating: /content/flowers_dataset/flowers/rose/159079265_d77a9ac920_n.jpg  \n",
            "  inflating: /content/flowers_dataset/flowers/daisy/1374193928_a52320eafa.jpg  \n",
            "  inflating: /content/flowers_dataset/flowers/daisy/17249393016_093e915012_n.jpg  \n",
            "  inflating: /content/flowers_dataset/flowers/dandelion/4134441089_c8c1e6132a.jpg  \n",
            "  inflating: /content/flowers_dataset/flowers/dandelion/5647842237_b1c5196718_n.jpg  \n",
            "  inflating: /content/flowers_dataset/flowers/rose/4608559939_3487bf3b62_n.jpg  \n",
            "  inflating: /content/flowers_dataset/flowers/dandelion/2635422362_a1bf641547_m.jpg  \n",
            "  inflating: /content/flowers_dataset/flowers/daisy/34524085651_1f0b7e9497_n.jpg  \n",
            "  inflating: /content/flowers_dataset/flowers/dandelion/34604698981_89d8741b10_n.jpg  \n",
            "  inflating: /content/flowers_dataset/flowers/rose/3871586333_5a708d5cf4_n.jpg  \n",
            "  inflating: /content/flowers_dataset/flowers/dandelion/3198028825_fdfaa1d020.jpg  \n",
            "  inflating: /content/flowers_dataset/flowers/rose/5001854803_cb87747d4a_n.jpg  \n",
            "  inflating: /content/flowers_dataset/flowers/dandelion/7116950607_49b19102ba_n.jpg  \n",
            "  inflating: /content/flowers_dataset/flowers/dandelion/18587334446_ef1021909b_n.jpg  \n",
            "  inflating: /content/flowers_dataset/flowers/dandelion/18215579866_94b1732f24.jpg  \n",
            "  inflating: /content/flowers_dataset/flowers/dandelion/5863928177_8ae1425e76_n.jpg  \n",
            "  inflating: /content/flowers_dataset/flowers/dandelion/4500964841_b1142b50fb_n.jpg  \n",
            "  inflating: /content/flowers_dataset/flowers/dandelion/34560984002_254f326f12_n.jpg  \n",
            "  inflating: /content/flowers_dataset/flowers/rose/4654893119_45d232016b.jpg  \n",
            "  inflating: /content/flowers_dataset/flowers/daisy/34611565966_9de274f987_n.jpg  \n",
            "  inflating: /content/flowers_dataset/flowers/daisy/5796562389_ae43c83317_m.jpg  \n",
            "  inflating: /content/flowers_dataset/flowers/dandelion/3496258301_ca5f168306.jpg  \n",
            "  inflating: /content/flowers_dataset/flowers/dandelion/18479635994_83f93f4120.jpg  \n",
            "  inflating: /content/flowers_dataset/flowers/dandelion/4847150510_7a5db086fa.jpg  \n",
            "  inflating: /content/flowers_dataset/flowers/dandelion/8733226215_161309f8ec.jpg  \n",
            "  inflating: /content/flowers_dataset/flowers/dandelion/5715788902_9dd2b4ef1d.jpg  \n",
            "  inflating: /content/flowers_dataset/flowers/dandelion/3580443099_9a6902ebd8_n.jpg  \n",
            "  inflating: /content/flowers_dataset/flowers/daisy/3962240986_0661edc43a_n.jpg  \n",
            "  inflating: /content/flowers_dataset/flowers/dandelion/5762590366_5cf7a32b87_n.jpg  \n",
            "  inflating: /content/flowers_dataset/flowers/dandelion/8978962053_0727b41d26.jpg  \n",
            "  inflating: /content/flowers_dataset/flowers/rose/410425647_4586667858.jpg  \n",
            "  inflating: /content/flowers_dataset/flowers/dandelion/141652526_2be95f21c3_n.jpg  \n",
            "  inflating: /content/flowers_dataset/flowers/dandelion/4573204407_babff0dce4_n.jpg  \n",
            "  inflating: /content/flowers_dataset/flowers/rose/4242976586_607a8f9843_n.jpg  \n",
            "  inflating: /content/flowers_dataset/flowers/rose/388405293_4db1d71f21_n.jpg  \n",
            "  inflating: /content/flowers_dataset/flowers/dandelion/4510350093_3700064215.jpg  \n",
            "  inflating: /content/flowers_dataset/flowers/daisy/4141147800_813f660b47.jpg  \n",
            "  inflating: /content/flowers_dataset/flowers/dandelion/8735646181_fa9787d4e0.jpg  \n",
            "  inflating: /content/flowers_dataset/flowers/dandelion/7808430998_31ba639031_n.jpg  \n",
            "  inflating: /content/flowers_dataset/flowers/daisy/30001711132_eb0fd7b04c_n.jpg  \n",
            "  inflating: /content/flowers_dataset/flowers/dandelion/14164392167_650946a169_n.jpg  \n",
            "  inflating: /content/flowers_dataset/flowers/dandelion/16096748028_7876887ab2.jpg  \n",
            "  inflating: /content/flowers_dataset/flowers/dandelion/33909432943_bf810400b7_n.jpg  \n",
            "  inflating: /content/flowers_dataset/flowers/dandelion/3675486971_d4c8683b54_n.jpg  \n",
            "  inflating: /content/flowers_dataset/flowers/dandelion/2697283969_c1f9cbb936.jpg  \n",
            "  inflating: /content/flowers_dataset/flowers/dandelion/4598938531_9749b3b56a.jpg  \n",
            "  inflating: /content/flowers_dataset/flowers/dandelion/2389720627_8923180b19.jpg  \n",
            "  inflating: /content/flowers_dataset/flowers/dandelion/34601267911_00c92c9a04_n.jpg  \n",
            "  inflating: /content/flowers_dataset/flowers/daisy/172882635_4cc7b86731_m.jpg  \n",
            "  inflating: /content/flowers_dataset/flowers/rose/5001844187_0a77b2eed6_n.jpg  \n",
            "  inflating: /content/flowers_dataset/flowers/dandelion/33886931523_4499a65b72_n.jpg  \n",
            "  inflating: /content/flowers_dataset/flowers/rose/5002446908_150a969334_n.jpg  \n",
            "  inflating: /content/flowers_dataset/flowers/dandelion/570127230_ce409f90f8_n.jpg  \n",
            "  inflating: /content/flowers_dataset/flowers/dandelion/1667963621_c76d570af3_n.jpg  \n",
            "  inflating: /content/flowers_dataset/flowers/dandelion/5598591979_ed9af1b3e9_n.jpg  \n",
            "  inflating: /content/flowers_dataset/flowers/dandelion/18111636378_856027a7b8_n.jpg  \n",
            "  inflating: /content/flowers_dataset/flowers/daisy/15760811380_4d686c892b_n.jpg  \n",
            "  inflating: /content/flowers_dataset/flowers/rose/5156037859_1673720a11_m.jpg  \n",
            "  inflating: /content/flowers_dataset/flowers/dandelion/6985099958_5249a4688b.jpg  \n",
            "  inflating: /content/flowers_dataset/flowers/rose/229488796_21ac6ee16d_n.jpg  \n",
            "  inflating: /content/flowers_dataset/flowers/dandelion/8209318399_ae72aefdb5.jpg  \n",
            "  inflating: /content/flowers_dataset/flowers/dandelion/9300335851_cdf1cef7a9.jpg  \n",
            "  inflating: /content/flowers_dataset/flowers/dandelion/8079778274_f2a400f749_n.jpg  \n",
            "  inflating: /content/flowers_dataset/flowers/dandelion/8642679391_0805b147cb_m.jpg  \n",
            "  inflating: /content/flowers_dataset/flowers/dandelion/27166475803_f5503f51f8_n.jpg  \n",
            "  inflating: /content/flowers_dataset/flowers/daisy/9321854387_5f77c926cb_n.jpg  \n",
            "  inflating: /content/flowers_dataset/flowers/dandelion/14211880544_5d1f9d5aa8_n.jpg  \n",
            "  inflating: /content/flowers_dataset/flowers/rose/2332478138_28f1d586e4_n.jpg  \n",
            "  inflating: /content/flowers_dataset/flowers/dandelion/15219268336_f2460fca88_m.jpg  \n",
            "  inflating: /content/flowers_dataset/flowers/dandelion/8681388520_c697dee897_n.jpg  \n",
            "  inflating: /content/flowers_dataset/flowers/daisy/5765646947_82e95a9cc9_n.jpg  \n",
            "  inflating: /content/flowers_dataset/flowers/rose/3903276582_fe05bf84c7_n.jpg  \n",
            "  inflating: /content/flowers_dataset/flowers/daisy/2889325612_f2fc403ff0_m.jpg  \n",
            "  inflating: /content/flowers_dataset/flowers/rose/3624546109_8eb98f0cdb.jpg  \n",
            "  inflating: /content/flowers_dataset/flowers/dandelion/8744249948_36cb1969f8_m.jpg  \n",
            "  inflating: /content/flowers_dataset/flowers/rose/5001845289_e5740889b0_n.jpg  \n",
            "  inflating: /content/flowers_dataset/flowers/daisy/4757448834_a29a9538c9_n.jpg  \n",
            "  inflating: /content/flowers_dataset/flowers/daisy/435283392_72e4c5b5d6_m.jpg  \n",
            "  inflating: /content/flowers_dataset/flowers/dandelion/5644234724_cb0917ee33_m.jpg  \n",
            "  inflating: /content/flowers_dataset/flowers/daisy/3861452393_14d2f95157_m.jpg  \n",
            "  inflating: /content/flowers_dataset/flowers/daisy/163978992_8128b49d3e_n.jpg  \n",
            "  inflating: /content/flowers_dataset/flowers/dandelion/3475811950_0fb89845f5_n.jpg  \n",
            "  inflating: /content/flowers_dataset/flowers/dandelion/14171812905_8b81d50eb9_n.jpg  \n",
            "  inflating: /content/flowers_dataset/flowers/daisy/3711892138_b8c953fdc1_z.jpg  \n",
            "  inflating: /content/flowers_dataset/flowers/dandelion/4638438929_2ec76083c8_m.jpg  \n",
            "  inflating: /content/flowers_dataset/flowers/dandelion/479495978_ee22cf05be.jpg  \n",
            "  inflating: /content/flowers_dataset/flowers/daisy/33838292353_8b143f7980_n.jpg  \n",
            "  inflating: /content/flowers_dataset/flowers/daisy/676120388_28f03069c3.jpg  \n",
            "  inflating: /content/flowers_dataset/flowers/dandelion/34562347042_e4dc06879a_n.jpg  \n",
            "  inflating: /content/flowers_dataset/flowers/dandelion/14884028290_a1344eb446.jpg  \n",
            "  inflating: /content/flowers_dataset/flowers/dandelion/34727715205_62c9c1ac44_n.jpg  \n",
            "  inflating: /content/flowers_dataset/flowers/dandelion/3446018470_0c40e73ed6_m.jpg  \n",
            "  inflating: /content/flowers_dataset/flowers/daisy/34661399476_9ea7e2fd53_n.jpg  \n",
            "  inflating: /content/flowers_dataset/flowers/dandelion/3761310831_41b5eba622_n.jpg  \n",
            "  inflating: /content/flowers_dataset/flowers/dandelion/477207005_6327db8393_m.jpg  \n",
            "  inflating: /content/flowers_dataset/flowers/daisy/1342002397_9503c97b49.jpg  \n",
            "  inflating: /content/flowers_dataset/flowers/dandelion/8740787470_67230d0609.jpg  \n",
            "  inflating: /content/flowers_dataset/flowers/dandelion/18232119726_cef27eaaac_n.jpg  \n",
            "  inflating: /content/flowers_dataset/flowers/daisy/2520369272_1dcdb5a892_m.jpg  \n",
            "  inflating: /content/flowers_dataset/flowers/rose/3550491463_3eb092054c_m.jpg  \n",
            "  inflating: /content/flowers_dataset/flowers/dandelion/5643666851_dc3f42399d_m.jpg  \n",
            "  inflating: /content/flowers_dataset/flowers/dandelion/808239968_318722e4db.jpg  \n",
            "  inflating: /content/flowers_dataset/flowers/dandelion/5681951567_d3b03bfd2a_m.jpg  \n",
            "  inflating: /content/flowers_dataset/flowers/daisy/175106495_53ebdef092_n.jpg  \n",
            "  inflating: /content/flowers_dataset/flowers/daisy/7749368884_1fc58c67ff_n.jpg  \n",
            "  inflating: /content/flowers_dataset/flowers/dandelion/13675534854_03caf51644_m.jpg  \n",
            "  inflating: /content/flowers_dataset/flowers/daisy/4318007511_e9f4311936_n.jpg  \n",
            "  inflating: /content/flowers_dataset/flowers/daisy/3336704121_cfeb67a7d7.jpg  \n",
            "  inflating: /content/flowers_dataset/flowers/daisy/6299910262_336309ffa5_n.jpg  \n",
            "  inflating: /content/flowers_dataset/flowers/daisy/8964198962_6d8593b533.jpg  \n",
            "  inflating: /content/flowers_dataset/flowers/dandelion/6019234426_d25ea1230a_m.jpg  \n",
            "  inflating: /content/flowers_dataset/flowers/daisy/4301689054_20519e5b68.jpg  \n",
            "  inflating: /content/flowers_dataset/flowers/dandelion/144686365_d7e96941ee_n.jpg  \n",
            "  inflating: /content/flowers_dataset/flowers/rose/3292434691_392071d702_n.jpg  \n",
            "  inflating: /content/flowers_dataset/flowers/dandelion/7262863194_682209e9fb.jpg  \n",
            "  inflating: /content/flowers_dataset/flowers/daisy/4565255237_9ba29c4d4e_n.jpg  \n",
            "  inflating: /content/flowers_dataset/flowers/daisy/5924910021_b6debeb7b5_n.jpg  \n",
            "  inflating: /content/flowers_dataset/flowers/daisy/3533954656_79156c8473.jpg  \n",
            "  inflating: /content/flowers_dataset/flowers/dandelion/4607183665_3472643bc8.jpg  \n",
            "  inflating: /content/flowers_dataset/flowers/dandelion/33878004304_a7c823115b_n.jpg  \n",
            "  inflating: /content/flowers_dataset/flowers/rose/5159317458_bbb22e2f65_n.jpg  \n",
            "  inflating: /content/flowers_dataset/flowers/daisy/6529588249_d9cbe68aab_n.jpg  \n",
            "  inflating: /content/flowers_dataset/flowers/rose/2675221506_5286c0595f.jpg  \n",
            "  inflating: /content/flowers_dataset/flowers/daisy/20619292635_9857a12d54.jpg  \n",
            "  inflating: /content/flowers_dataset/flowers/dandelion/3372748508_e5a4eacfcb_n.jpg  \n",
            "  inflating: /content/flowers_dataset/flowers/dandelion/5024965767_230f140d60_n.jpg  \n",
            "  inflating: /content/flowers_dataset/flowers/dandelion/6994933428_307b092ce7_m.jpg  \n",
            "  inflating: /content/flowers_dataset/flowers/dandelion/2597655841_07fb2955a4.jpg  \n",
            "  inflating: /content/flowers_dataset/flowers/daisy/476856232_7c35952f40_n.jpg  \n",
            "  inflating: /content/flowers_dataset/flowers/rose/3045046293_57f6d52065_m.jpg  \n",
            "  inflating: /content/flowers_dataset/flowers/daisy/4668543441_79040ca329_n.jpg  \n",
            "  inflating: /content/flowers_dataset/flowers/daisy/34696729796_190b1dfdf1_n.jpg  \n",
            "  inflating: /content/flowers_dataset/flowers/rose/5002461124_dc5988bbc9_n.jpg  \n",
            "  inflating: /content/flowers_dataset/flowers/dandelion/14396023703_11c5dd35a9.jpg  \n",
            "  inflating: /content/flowers_dataset/flowers/rose/5002446424_b86e3c646f_n.jpg  \n",
            "  inflating: /content/flowers_dataset/flowers/dandelion/3472437817_7902b3d984_n.jpg  \n",
            "  inflating: /content/flowers_dataset/flowers/daisy/3598615130_578ed30e5f.jpg  \n",
            "  inflating: /content/flowers_dataset/flowers/dandelion/34525649892_e2ea3eb051_n.jpg  \n",
            "  inflating: /content/flowers_dataset/flowers/dandelion/19443726008_8c9c68efa7_m.jpg  \n",
            "  inflating: /content/flowers_dataset/flowers/daisy/34520699571_f880744f46_n.jpg  \n",
            "  inflating: /content/flowers_dataset/flowers/rose/3971662839_5cb2963b20_n.jpg  \n",
            "  inflating: /content/flowers_dataset/flowers/dandelion/33522989504_542fde1a1a_n.jpg  \n",
            "  inflating: /content/flowers_dataset/flowers/daisy/3633489595_a037a9b7a4_m.jpg  \n",
            "  inflating: /content/flowers_dataset/flowers/daisy/34696730126_056ffea63c_n.jpg  \n",
            "  inflating: /content/flowers_dataset/flowers/dandelion/8797114213_103535743c_m.jpg  \n",
            "  inflating: /content/flowers_dataset/flowers/daisy/14245834619_153624f836.jpg  \n",
            "  inflating: /content/flowers_dataset/flowers/dandelion/7308600792_27cff2f73f.jpg  \n",
            "  inflating: /content/flowers_dataset/flowers/daisy/12601254324_3cb62c254a_m.jpg  \n",
            "  inflating: /content/flowers_dataset/flowers/dandelion/3483575184_cb8d16a083_n.jpg  \n",
            "  inflating: /content/flowers_dataset/flowers/dandelion/9939430464_5f5861ebab.jpg  \n",
            "  inflating: /content/flowers_dataset/flowers/daisy/3588872598_e0f9a1d2a1_m.jpg  \n",
            "  inflating: /content/flowers_dataset/flowers/dandelion/4657801292_73bef15031.jpg  \n",
            "  inflating: /content/flowers_dataset/flowers/dandelion/17146644679_11aff3045c.jpg  \n",
            "  inflating: /content/flowers_dataset/flowers/dandelion/8475769_3dea463364_m.jpg  \n",
            "  inflating: /content/flowers_dataset/flowers/dandelion/674407101_57676c40fb.jpg  \n",
            "  inflating: /content/flowers_dataset/flowers/dandelion/2478018280_1be353ca8c_m.jpg  \n",
            "  inflating: /content/flowers_dataset/flowers/dandelion/4635296297_9ce69e4a6e.jpg  \n",
            "  inflating: /content/flowers_dataset/flowers/daisy/1306119996_ab8ae14d72_n.jpg  \n",
            "  inflating: /content/flowers_dataset/flowers/dandelion/7291185504_b740bbeba4_m.jpg  \n",
            "  inflating: /content/flowers_dataset/flowers/dandelion/8791577794_7573712cb4_n.jpg  \n",
            "  inflating: /content/flowers_dataset/flowers/dandelion/5886830036_2b99899c95.jpg  \n",
            "  inflating: /content/flowers_dataset/flowers/daisy/2581171297_b0a249b92b_n.jpg  \n",
            "  inflating: /content/flowers_dataset/flowers/daisy/3758221664_b19116d61f.jpg  \n",
            "  inflating: /content/flowers_dataset/flowers/dandelion/7367491658_9eb4dc2384_m.jpg  \n",
            "  inflating: /content/flowers_dataset/flowers/daisy/3463313493_9497aa47e5_n.jpg  \n",
            "  inflating: /content/flowers_dataset/flowers/daisy/14088053307_1a13a0bf91_n.jpg  \n",
            "  inflating: /content/flowers_dataset/flowers/dandelion/34662996866_af256e8f10_n.jpg  \n",
            "  inflating: /content/flowers_dataset/flowers/daisy/705422469_ffa28c566d.jpg  \n",
            "  inflating: /content/flowers_dataset/flowers/dandelion/14053184940_7ced69250f_n.jpg  \n",
            "  inflating: /content/flowers_dataset/flowers/dandelion/14845607659_1be18c5d7f.jpg  \n",
            "  inflating: /content/flowers_dataset/flowers/dandelion/160456948_38c3817c6a_m.jpg  \n",
            "  inflating: /content/flowers_dataset/flowers/daisy/5896675418_e6ff20a739_n.jpg  \n",
            "  inflating: /content/flowers_dataset/flowers/daisy/2473825306_62fd5f8785_n.jpg  \n",
            "  inflating: /content/flowers_dataset/flowers/daisy/14554906452_35f066ffe9_n.jpg  \n",
            "  inflating: /content/flowers_dataset/flowers/dandelion/33875654554_e5e4070fab_n.jpg  \n",
            "  inflating: /content/flowers_dataset/flowers/dandelion/33626882480_8b2345a63c_n.jpg  \n",
            "  inflating: /content/flowers_dataset/flowers/dandelion/3662701865_3ff283a33a_n.jpg  \n",
            "  inflating: /content/flowers_dataset/flowers/dandelion/5600240736_4a90c10579_n.jpg  \n",
            "  inflating: /content/flowers_dataset/flowers/daisy/5577555349_2e8490259b.jpg  \n",
            "  inflating: /content/flowers_dataset/flowers/dandelion/5033866477_a77cccba49_m.jpg  \n",
            "  inflating: /content/flowers_dataset/flowers/rose/5002459442_81825061e9_n.jpg  \n",
            "  inflating: /content/flowers_dataset/flowers/daisy/16482676953_5296227d40_n.jpg  \n",
            "  inflating: /content/flowers_dataset/flowers/dandelion/8632704230_ccafc5f7e2.jpg  \n",
            "  inflating: /content/flowers_dataset/flowers/rose/483444865_65962cea07_m.jpg  \n",
            "  inflating: /content/flowers_dataset/flowers/daisy/11023272144_fce94401f2_m.jpg  \n",
            "  inflating: /content/flowers_dataset/flowers/daisy/33890808514_ca21f75499_n.jpg  \n",
            "  inflating: /content/flowers_dataset/flowers/dandelion/459748276_69101b0cec_n.jpg  \n",
            "  inflating: /content/flowers_dataset/flowers/daisy/3494265422_9dba8f2191_n.jpg  \n",
            "  inflating: /content/flowers_dataset/flowers/rose/2777518561_105abc8cfc_n.jpg  \n",
            "  inflating: /content/flowers_dataset/flowers/dandelion/7884440256_91c033732d.jpg  \n",
            "  inflating: /content/flowers_dataset/flowers/dandelion/33857574164_b0b724b567_n.jpg  \n",
            "  inflating: /content/flowers_dataset/flowers/rose/5002455332_9de0b1e85f_n.jpg  \n",
            "  inflating: /content/flowers_dataset/flowers/dandelion/18276105805_d31d3f7e71.jpg  \n",
            "  inflating: /content/flowers_dataset/flowers/dandelion/284497233_c19801752c.jpg  \n",
            "  inflating: /content/flowers_dataset/flowers/dandelion/14126515096_1134fae695.jpg  \n",
            "  inflating: /content/flowers_dataset/flowers/dandelion/34234226791_63a2afc7ed_n.jpg  \n",
            "  inflating: /content/flowers_dataset/flowers/dandelion/7153497513_076486e26b_n.jpg  \n",
            "  inflating: /content/flowers_dataset/flowers/dandelion/16242239484_51286673af.jpg  \n",
            "  inflating: /content/flowers_dataset/flowers/dandelion/14457225751_645a3784fd_n.jpg  \n",
            "  inflating: /content/flowers_dataset/flowers/daisy/9345273630_af3550031d.jpg  \n",
            "  inflating: /content/flowers_dataset/flowers/dandelion/19526570282_1d1e71b0f3_m.jpg  \n",
            "  inflating: /content/flowers_dataset/flowers/daisy/5885826924_38fdc6bcaa_n.jpg  \n",
            "  inflating: /content/flowers_dataset/flowers/daisy/9922116524_ab4a2533fe_n.jpg  \n",
            "  inflating: /content/flowers_dataset/flowers/rose/3663244576_97f595cf4a.jpg  \n",
            "  inflating: /content/flowers_dataset/flowers/dandelion/5996421299_b9bf488c1a_n.jpg  \n",
            "  inflating: /content/flowers_dataset/flowers/daisy/4144275653_7c02d47d9b.jpg  \n",
            "  inflating: /content/flowers_dataset/flowers/daisy/12891819633_e4c82b51e8.jpg  \n",
            "  inflating: /content/flowers_dataset/flowers/rose/5002455602_4286b34dde_n.jpg  \n",
            "  inflating: /content/flowers_dataset/flowers/dandelion/8613502159_d9ea67ba63.jpg  \n",
            "  inflating: /content/flowers_dataset/flowers/rose/2265579414_2e00a8f265_n.jpg  \n",
            "  inflating: /content/flowers_dataset/flowers/daisy/33807950584_f5b63715e4_n.jpg  \n",
            "  inflating: /content/flowers_dataset/flowers/rose/5001856089_4cf8e9c818_n.jpg  \n",
            "  inflating: /content/flowers_dataset/flowers/dandelion/10294487385_92a0676c7d_m.jpg  \n",
            "  inflating: /content/flowers_dataset/flowers/dandelion/9293460423_7fbb1e3c32_n.jpg  \n",
            "  inflating: /content/flowers_dataset/flowers/dandelion/7295618968_c08a326cc1_m.jpg  \n",
            "  inflating: /content/flowers_dataset/flowers/daisy/14564545365_1f1d267bf1_n.jpg  \n",
            "  inflating: /content/flowers_dataset/flowers/dandelion/8716513637_2ba0c4e6cd_n.jpg  \n",
            "  inflating: /content/flowers_dataset/flowers/daisy/34531542152_c8ba2e0fea_n.jpg  \n",
            "  inflating: /content/flowers_dataset/flowers/dandelion/4558562689_c8e2ab9f10.jpg  \n",
            "  inflating: /content/flowers_dataset/flowers/daisy/4229503616_9b8a42123c_n.jpg  \n",
            "  inflating: /content/flowers_dataset/flowers/daisy/3275951182_d27921af97_n.jpg  \n",
            "  inflating: /content/flowers_dataset/flowers/dandelion/8723679596_391a724d4f_m.jpg  \n",
            "  inflating: /content/flowers_dataset/flowers/rose/4694341873_65fe187a4e_n.jpg  \n",
            "  inflating: /content/flowers_dataset/flowers/dandelion/2401343175_d2a892cf25_n.jpg  \n",
            "  inflating: /content/flowers_dataset/flowers/dandelion/27446317092_ff9bb852d5_n.jpg  \n",
            "  inflating: /content/flowers_dataset/flowers/dandelion/7950892504_33142110c2.jpg  \n",
            "  inflating: /content/flowers_dataset/flowers/dandelion/2133943140_9fc7bcc9aa.jpg  \n",
            "  inflating: /content/flowers_dataset/flowers/dandelion/6229634119_af5fec0a22.jpg  \n",
            "  inflating: /content/flowers_dataset/flowers/rose/298670754_f25edda891.jpg  \n",
            "  inflating: /content/flowers_dataset/flowers/daisy/2713919471_301fcc941f.jpg  \n",
            "  inflating: /content/flowers_dataset/flowers/daisy/301964511_fab84ea1c1.jpg  \n",
            "  inflating: /content/flowers_dataset/flowers/dandelion/13331969914_890082d898_n.jpg  \n",
            "  inflating: /content/flowers_dataset/flowers/daisy/11023214096_b5b39fab08.jpg  \n",
            "  inflating: /content/flowers_dataset/flowers/dandelion/3383422012_6c9d83671f_n.jpg  \n",
            "  inflating: /content/flowers_dataset/flowers/dandelion/98992760_53ed1d26a9.jpg  \n",
            "  inflating: /content/flowers_dataset/flowers/dandelion/11124381625_24b17662bd_n.jpg  \n",
            "  inflating: /content/flowers_dataset/flowers/daisy/162362896_99c7d851c8_n.jpg  \n",
            "  inflating: /content/flowers_dataset/flowers/dandelion/4523862714_b41b459c88.jpg  \n",
            "  inflating: /content/flowers_dataset/flowers/rose/2788276815_8f730bd942.jpg  \n",
            "  inflating: /content/flowers_dataset/flowers/rose/174109630_3c544b8a2f.jpg  \n",
            "  inflating: /content/flowers_dataset/flowers/dandelion/8842317179_d59cf218cb_n.jpg  \n",
            "  inflating: /content/flowers_dataset/flowers/daisy/15327813273_06cdf42210.jpg  \n",
            "  inflating: /content/flowers_dataset/flowers/daisy/813445367_187ecf080a_n.jpg  \n",
            "  inflating: /content/flowers_dataset/flowers/dandelion/9200211647_be34ce978b.jpg  \n",
            "  inflating: /content/flowers_dataset/flowers/daisy/4814515275_6e25a6c18f.jpg  \n",
            "  inflating: /content/flowers_dataset/flowers/daisy/171972704_389cf7a953.jpg  \n",
            "  inflating: /content/flowers_dataset/flowers/dandelion/4226758402_a1b75ce3ac_n.jpg  \n",
            "  inflating: /content/flowers_dataset/flowers/dandelion/5740633858_8fd54c23c9_n.jpg  \n",
            "  inflating: /content/flowers_dataset/flowers/daisy/3704306975_75b74497d8.jpg  \n",
            "  inflating: /content/flowers_dataset/flowers/daisy/4683997791_56e7d3c03c_n.jpg  \n",
            "  inflating: /content/flowers_dataset/flowers/daisy/33859244503_eeeca6a397_n.jpg  \n",
            "  inflating: /content/flowers_dataset/flowers/dandelion/5675705011_82729927ca_n.jpg  \n",
            "  inflating: /content/flowers_dataset/flowers/dandelion/8663932737_0a603ab718_n.jpg  \n",
            "  inflating: /content/flowers_dataset/flowers/daisy/8882282142_9be2524d38_m.jpg  \n",
            "  inflating: /content/flowers_dataset/flowers/daisy/3963330924_6c6a3fa7be_n.jpg  \n",
            "  inflating: /content/flowers_dataset/flowers/daisy/8759177308_951790e00d_m.jpg  \n",
            "  inflating: /content/flowers_dataset/flowers/dandelion/5674707921_1ffd141bab_n.jpg  \n",
            "  inflating: /content/flowers_dataset/flowers/dandelion/4574451859_432c856b6e_n.jpg  \n",
            "  inflating: /content/flowers_dataset/flowers/dandelion/4858372040_52216eb0bd.jpg  \n",
            "  inflating: /content/flowers_dataset/flowers/daisy/33809174824_00ba798039_n.jpg  \n",
            "  inflating: /content/flowers_dataset/flowers/dandelion/4645101643_9c9d9df13e.jpg  \n",
            "  inflating: /content/flowers_dataset/flowers/dandelion/6972675188_37f1f1d6f6.jpg  \n",
            "  inflating: /content/flowers_dataset/flowers/rose/4609166128_b7ed49b40b_m.jpg  \n",
            "  inflating: /content/flowers_dataset/flowers/daisy/4407065098_ef25f1ccac_n.jpg  \n",
            "  inflating: /content/flowers_dataset/flowers/daisy/498159452_b71afd65ba.jpg  \n",
            "  inflating: /content/flowers_dataset/flowers/dandelion/5623492051_8e5ce438bd.jpg  \n",
            "  inflating: /content/flowers_dataset/flowers/dandelion/2698102820_f15445a3f7.jpg  \n",
            "  inflating: /content/flowers_dataset/flowers/daisy/4286053334_a75541f20b_m.jpg  \n",
            "  inflating: /content/flowers_dataset/flowers/dandelion/19426575569_4b53c0b726.jpg  \n",
            "  inflating: /content/flowers_dataset/flowers/rose/4625089819_55c45a189c.jpg  \n",
            "  inflating: /content/flowers_dataset/flowers/dandelion/13916196427_50a611008f.jpg  \n",
            "  inflating: /content/flowers_dataset/flowers/dandelion/14761980161_2d6dbaa4bb_m.jpg  \n",
            "  inflating: /content/flowers_dataset/flowers/dandelion/578938011_34918b1468.jpg  \n",
            "  inflating: /content/flowers_dataset/flowers/daisy/18582579815_4c6637e9ff_m.jpg  \n",
            "  inflating: /content/flowers_dataset/flowers/dandelion/16375088191_2bf2916b53.jpg  \n",
            "  inflating: /content/flowers_dataset/flowers/daisy/21805938544_bf6bb0e4bc.jpg  \n",
            "  inflating: /content/flowers_dataset/flowers/daisy/14551098743_2842e7a004_n.jpg  \n",
            "  inflating: /content/flowers_dataset/flowers/daisy/8938566373_d129e7af75.jpg  \n",
            "  inflating: /content/flowers_dataset/flowers/dandelion/34335432530_cd667cbb19_n.jpg  \n",
            "  inflating: /content/flowers_dataset/flowers/dandelion/14060367700_fe87e99b6a_m.jpg  \n",
            "  inflating: /content/flowers_dataset/flowers/dandelion/7197581386_8a51f1bb12_n.jpg  \n",
            "  inflating: /content/flowers_dataset/flowers/daisy/8063844363_db3f4dea85.jpg  \n",
            "  inflating: /content/flowers_dataset/flowers/daisy/1031799732_e7f4008c03.jpg  \n",
            "  inflating: /content/flowers_dataset/flowers/dandelion/5727534342_419604c177_n.jpg  \n",
            "  inflating: /content/flowers_dataset/flowers/rose/218630974_5646dafc63_m.jpg  \n",
            "  inflating: /content/flowers_dataset/flowers/dandelion/455728598_c5f3e7fc71_m.jpg  \n",
            "  inflating: /content/flowers_dataset/flowers/daisy/12701063955_4840594ea6_n.jpg  \n",
            "  inflating: /content/flowers_dataset/flowers/daisy/3410906335_37e8a24b1c_n.jpg  \n",
            "  inflating: /content/flowers_dataset/flowers/daisy/2408024540_37f0be7cc0_n.jpg  \n",
            "  inflating: /content/flowers_dataset/flowers/daisy/8709110478_60d12efcd4_n.jpg  \n",
            "  inflating: /content/flowers_dataset/flowers/daisy/34670512115_af22cce24d_n.jpg  \n",
            "  inflating: /content/flowers_dataset/flowers/dandelion/9152356642_06ae73113f.jpg  \n",
            "  inflating: /content/flowers_dataset/flowers/daisy/1392131677_116ec04751.jpg  \n",
            "  inflating: /content/flowers_dataset/flowers/dandelion/34695057206_98de825612_n.jpg  \n",
            "  inflating: /content/flowers_dataset/flowers/daisy/14716799982_ed6d626a66.jpg  \n",
            "  inflating: /content/flowers_dataset/flowers/dandelion/4654848357_9549351e0b_n.jpg  \n",
            "  inflating: /content/flowers_dataset/flowers/dandelion/7243174412_d3628e4cc4_m.jpg  \n",
            "  inflating: /content/flowers_dataset/flowers/daisy/5905504340_1d60fa9611_n.jpg  \n",
            "  inflating: /content/flowers_dataset/flowers/daisy/5626895440_97a0ec04c2_n.jpg  \n",
            "  inflating: /content/flowers_dataset/flowers/rose/2756028421_b3d5eea526_n.jpg  \n",
            "  inflating: /content/flowers_dataset/flowers/dandelion/9613826015_f345354874.jpg  \n",
            "  inflating: /content/flowers_dataset/flowers/dandelion/8220011556_28e0cab67f.jpg  \n",
            "  inflating: /content/flowers_dataset/flowers/rose/295257304_de893fc94d.jpg  \n",
            "  inflating: /content/flowers_dataset/flowers/dandelion/7222962522_36952a67b6_n.jpg  \n"
          ]
        }
      ]
    },
    {
      "cell_type": "code",
      "source": [
        "!ls '/content/flowers_dataset'"
      ],
      "metadata": {
        "colab": {
          "base_uri": "https://localhost:8080/"
        },
        "id": "5QGiIXx4SJks",
        "outputId": "523b96ea-9926-4777-e93c-f6209a7f7c16"
      },
      "execution_count": 13,
      "outputs": [
        {
          "output_type": "stream",
          "name": "stdout",
          "text": [
            "flowers\n"
          ]
        }
      ]
    },
    {
      "cell_type": "code",
      "source": [
        "!cp -r /content/flowers_dataset '/content/drive/My Drive/Colab Notebooks/data-transfer-learning/Deep_learning_data'"
      ],
      "metadata": {
        "id": "wTW8Ox-YSuX7"
      },
      "execution_count": 14,
      "outputs": []
    },
    {
      "cell_type": "markdown",
      "metadata": {
        "id": "onPwIzQzF7TE"
      },
      "source": [
        "❓ **Question:Train/Val/Test split** ❓\n",
        "\n",
        "Use the following method to create\n",
        "`X_train, y_train, X_val, y_val, X_test, y_test, num_classes` depending on the `loading_method` you have used"
      ]
    },
    {
      "cell_type": "code",
      "execution_count": 17,
      "metadata": {
        "id": "pD5PzwqmOGR5"
      },
      "outputs": [],
      "source": [
        "from tensorflow.keras.utils import to_categorical\n",
        "from tqdm import tqdm\n",
        "import numpy as np\n",
        "import os\n",
        "from PIL import Image\n",
        "\n",
        "def load_flowers_data(loading_method):\n",
        "    if loading_method == 'colab':\n",
        "        data_path = '/content/drive/My Drive/Colab Notebooks/data-transfer-learning/Deep_learning_data/flowers_dataset/flowers'\n",
        "    elif loading_method == 'direct':\n",
        "        data_path = 'flowers/'\n",
        "    classes = {'daisy':0, 'dandelion':1, 'rose':2}\n",
        "    imgs = []\n",
        "    labels = []\n",
        "    for (cl, i) in classes.items():\n",
        "        images_path = [elt for elt in os.listdir(os.path.join(data_path, cl)) if elt.find('.jpg')>0]\n",
        "        for img in tqdm(images_path[:300]):\n",
        "            path = os.path.join(data_path, cl, img)\n",
        "            if os.path.exists(path):\n",
        "                image = Image.open(path)\n",
        "                image = image.resize((256, 256))\n",
        "                imgs.append(np.array(image))\n",
        "                labels.append(i)\n",
        "\n",
        "    X = np.array(imgs)\n",
        "    num_classes = len(set(labels))\n",
        "    y = to_categorical(labels, num_classes)\n",
        "\n",
        "    # Finally we shuffle:\n",
        "    p = np.random.permutation(len(X))\n",
        "    X, y = X[p], y[p]\n",
        "\n",
        "    first_split = int(len(imgs) /6.)\n",
        "    second_split = first_split + int(len(imgs) * 0.2)\n",
        "    X_test, X_val, X_train = X[:first_split], X[first_split:second_split], X[second_split:]\n",
        "    y_test, y_val, y_train = y[:first_split], y[first_split:second_split], y[second_split:]\n",
        "\n",
        "    return X_train, y_train, X_val, y_val, X_test, y_test, num_classes"
      ]
    },
    {
      "cell_type": "code",
      "execution_count": 18,
      "metadata": {
        "colab": {
          "base_uri": "https://localhost:8080/"
        },
        "id": "MMzYwmT-OGR5",
        "outputId": "be8a7280-b358-4855-b023-e9648c51ba9b"
      },
      "outputs": [
        {
          "output_type": "stream",
          "name": "stderr",
          "text": [
            "100%|██████████| 300/300 [00:05<00:00, 57.92it/s] \n",
            "100%|██████████| 300/300 [00:06<00:00, 45.39it/s] \n",
            "100%|██████████| 299/299 [00:02<00:00, 103.47it/s]\n"
          ]
        }
      ],
      "source": [
        "# CALL load_flowers_data WITH YOUR PREFERRED METHOD HERE\n",
        "X_train, y_train, X_val, y_val, X_test, y_test, num_classes = load_flowers_data(loading_method='colab')"
      ]
    },
    {
      "cell_type": "markdown",
      "metadata": {
        "id": "pm2IsMmGF7TH"
      },
      "source": [
        "❓ **Question: Exploring the images** ❓\n",
        "\n",
        "Check the images' shapes and plot a few of them."
      ]
    },
    {
      "cell_type": "markdown",
      "metadata": {
        "id": "EdMfP6dyF7TJ"
      },
      "source": [
        "## (4) A CNN architecture"
      ]
    },
    {
      "cell_type": "code",
      "source": [
        "print(X_train.shape, y_train.shape)\n",
        "print(X_val.shape, y_val.shape)\n",
        "print(X_test.shape, y_test.shape)"
      ],
      "metadata": {
        "colab": {
          "base_uri": "https://localhost:8080/"
        },
        "id": "Gj37EUQDUQYs",
        "outputId": "4fc36ace-fe4d-49b0-98ca-223929dc2222"
      },
      "execution_count": 19,
      "outputs": [
        {
          "output_type": "stream",
          "name": "stdout",
          "text": [
            "(571, 256, 256, 3) (571, 3)\n",
            "(179, 256, 256, 3) (179, 3)\n",
            "(149, 256, 256, 3) (149, 3)\n"
          ]
        }
      ]
    },
    {
      "cell_type": "markdown",
      "metadata": {
        "id": "njYcWjw1F7TJ"
      },
      "source": [
        "First, let's build our own CNN."
      ]
    },
    {
      "cell_type": "markdown",
      "metadata": {
        "id": "wneAeLYdF7TK"
      },
      "source": [
        "❓ **Questions** ❓\n",
        "\n",
        "1. <u>CNN Architecture and compiler:</u> Create a CNN with your own architecture and a function `load_own_model` that will be able to generate it. Some advice:\n",
        "    - Incorporate the Rescaling Layer in your Sequential architecture\n",
        "    - Add three Conv2D/MaxPooling2D combinations with an increasing number of channels and a decreasing size of kernels for example (be creative, that is not a rule of thumb, mastering CNN is an art)\n",
        "    - Don't forget the Flatten layer and some hidden layers\n",
        "    - Finish with the predictive layer\n",
        "    - Compile your CNN model accordingly\n",
        "  \n",
        "  \n",
        "2. <u>Training and comparison</u>:\n",
        "    - Train your CNN\n",
        "    - Compare its performance to a baseline accuracy\n",
        "\n",
        "<details>\n",
        "    <summary><i>Recommended architecture:</i></summary>\n",
        "\n",
        "```python\n",
        "from tensorflow.keras.layers.experimental.preprocessing import Rescaling\n",
        "\n",
        "model = Sequential()\n",
        "\n",
        "# Notice this cool new layer that \"pipe\" your rescaling within the architecture\n",
        "model.add(Rescaling(1./255, input_shape=(256,256,3)))\n",
        "\n",
        "# Lets add 3 convolution layers, with relatively large kernel size as our pictures are quite big too\n",
        "model.add(layers.Conv2D(16, kernel_size=10, activation='relu'))\n",
        "model.add(layers.MaxPooling2D(3))\n",
        "\n",
        "model.add(layers.Conv2D(32, kernel_size=8, activation=\"relu\"))\n",
        "model.add(layers.MaxPooling2D(3))\n",
        "\n",
        "model.add(layers.Conv2D(32, kernel_size=6, activation=\"relu\"))\n",
        "model.add(layers.MaxPooling2D(3))\n",
        "\n",
        "model.add(layers.Flatten())\n",
        "model.add(layers.Dense(100, activation='relu'))\n",
        "model.add(layers.Dense(3, activation='softmax'))\n",
        "```\n",
        "\n",
        "        \n",
        "</details>        "
      ]
    },
    {
      "cell_type": "code",
      "source": [
        "from tensorflow.keras import Sequential\n",
        "from tensorflow.keras.layers import Conv2D, MaxPooling2D, Flatten, Dense, Rescaling, Dropout"
      ],
      "metadata": {
        "id": "M-RusOrHUm5J"
      },
      "execution_count": 20,
      "outputs": []
    },
    {
      "cell_type": "code",
      "source": [
        "def load_own_model():\n",
        "    model = Sequential([\n",
        "        # Rescaling layer\n",
        "        Rescaling(1./255, input_shape=(256, 256, 3)),\n",
        "\n",
        "        # First Conv2D + MaxPooling2D combination\n",
        "        Conv2D(32, (3, 3), activation='relu'),\n",
        "        MaxPooling2D((2, 2)),\n",
        "\n",
        "        # Second Conv2D + MaxPooling2D combination\n",
        "        Conv2D(64, (3, 3), activation='relu'),\n",
        "        MaxPooling2D((2, 2)),\n",
        "\n",
        "        # Third Conv2D + MaxPooling2D combination\n",
        "        Conv2D(128, (3, 3), activation='relu'),\n",
        "        MaxPooling2D((2, 2)),\n",
        "\n",
        "        # Flatten layer\n",
        "        Flatten(),\n",
        "\n",
        "        # Dense layers\n",
        "        Dense(128, activation='relu'),\n",
        "        Dropout(0.5),  # To avoid overfitting\n",
        "        Dense(64, activation='relu'),\n",
        "\n",
        "        # Output layer\n",
        "        Dense(3, activation='softmax')  # 3 classes (daisy, dandelion, rose)\n",
        "    ])\n",
        "\n",
        "    # Compile the model\n",
        "    model.compile(optimizer='adam',\n",
        "                  loss='categorical_crossentropy',\n",
        "                  metrics=['accuracy'])\n",
        "\n",
        "    return model"
      ],
      "metadata": {
        "id": "z4XqCdbkUpNQ"
      },
      "execution_count": 21,
      "outputs": []
    },
    {
      "cell_type": "code",
      "source": [
        "model = load_own_model()"
      ],
      "metadata": {
        "colab": {
          "base_uri": "https://localhost:8080/"
        },
        "id": "3ZjGEA2iU16Y",
        "outputId": "46eb02f0-7957-4ff9-e7d6-4b05f6ee56df"
      },
      "execution_count": 22,
      "outputs": [
        {
          "output_type": "stream",
          "name": "stderr",
          "text": [
            "/usr/local/lib/python3.10/dist-packages/keras/src/layers/preprocessing/tf_data_layer.py:19: UserWarning: Do not pass an `input_shape`/`input_dim` argument to a layer. When using Sequential models, prefer using an `Input(shape)` object as the first layer in the model instead.\n",
            "  super().__init__(**kwargs)\n"
          ]
        }
      ]
    },
    {
      "cell_type": "code",
      "source": [
        "history = model.fit(\n",
        "    X_train, y_train,\n",
        "    validation_data=(X_val, y_val),\n",
        "    epochs=10,\n",
        "    batch_size=32\n",
        ")"
      ],
      "metadata": {
        "colab": {
          "base_uri": "https://localhost:8080/"
        },
        "id": "mwZPfjCxU4fA",
        "outputId": "187addbe-a8ea-4e44-daf8-8ec97c2132b8"
      },
      "execution_count": 23,
      "outputs": [
        {
          "output_type": "stream",
          "name": "stdout",
          "text": [
            "Epoch 1/10\n",
            "\u001b[1m18/18\u001b[0m \u001b[32m━━━━━━━━━━━━━━━━━━━━\u001b[0m\u001b[37m\u001b[0m \u001b[1m21s\u001b[0m 697ms/step - accuracy: 0.3595 - loss: 1.3959 - val_accuracy: 0.3799 - val_loss: 1.0484\n",
            "Epoch 2/10\n",
            "\u001b[1m18/18\u001b[0m \u001b[32m━━━━━━━━━━━━━━━━━━━━\u001b[0m\u001b[37m\u001b[0m \u001b[1m1s\u001b[0m 59ms/step - accuracy: 0.5039 - loss: 0.9460 - val_accuracy: 0.4972 - val_loss: 0.8785\n",
            "Epoch 3/10\n",
            "\u001b[1m18/18\u001b[0m \u001b[32m━━━━━━━━━━━━━━━━━━━━\u001b[0m\u001b[37m\u001b[0m \u001b[1m1s\u001b[0m 59ms/step - accuracy: 0.5897 - loss: 0.8722 - val_accuracy: 0.5978 - val_loss: 0.8481\n",
            "Epoch 4/10\n",
            "\u001b[1m18/18\u001b[0m \u001b[32m━━━━━━━━━━━━━━━━━━━━\u001b[0m\u001b[37m\u001b[0m \u001b[1m1s\u001b[0m 64ms/step - accuracy: 0.6826 - loss: 0.7415 - val_accuracy: 0.5531 - val_loss: 0.8990\n",
            "Epoch 5/10\n",
            "\u001b[1m18/18\u001b[0m \u001b[32m━━━━━━━━━━━━━━━━━━━━\u001b[0m\u001b[37m\u001b[0m \u001b[1m1s\u001b[0m 66ms/step - accuracy: 0.6774 - loss: 0.7251 - val_accuracy: 0.6425 - val_loss: 0.9232\n",
            "Epoch 6/10\n",
            "\u001b[1m18/18\u001b[0m \u001b[32m━━━━━━━━━━━━━━━━━━━━\u001b[0m\u001b[37m\u001b[0m \u001b[1m1s\u001b[0m 66ms/step - accuracy: 0.7360 - loss: 0.6662 - val_accuracy: 0.6704 - val_loss: 0.8629\n",
            "Epoch 7/10\n",
            "\u001b[1m18/18\u001b[0m \u001b[32m━━━━━━━━━━━━━━━━━━━━\u001b[0m\u001b[37m\u001b[0m \u001b[1m1s\u001b[0m 60ms/step - accuracy: 0.8122 - loss: 0.4834 - val_accuracy: 0.6257 - val_loss: 0.9861\n",
            "Epoch 8/10\n",
            "\u001b[1m18/18\u001b[0m \u001b[32m━━━━━━━━━━━━━━━━━━━━\u001b[0m\u001b[37m\u001b[0m \u001b[1m1s\u001b[0m 61ms/step - accuracy: 0.8597 - loss: 0.4143 - val_accuracy: 0.7039 - val_loss: 0.9666\n",
            "Epoch 9/10\n",
            "\u001b[1m18/18\u001b[0m \u001b[32m━━━━━━━━━━━━━━━━━━━━\u001b[0m\u001b[37m\u001b[0m \u001b[1m1s\u001b[0m 64ms/step - accuracy: 0.8984 - loss: 0.3366 - val_accuracy: 0.6425 - val_loss: 1.0907\n",
            "Epoch 10/10\n",
            "\u001b[1m18/18\u001b[0m \u001b[32m━━━━━━━━━━━━━━━━━━━━\u001b[0m\u001b[37m\u001b[0m \u001b[1m1s\u001b[0m 64ms/step - accuracy: 0.8917 - loss: 0.3287 - val_accuracy: 0.6313 - val_loss: 1.2657\n"
          ]
        }
      ]
    },
    {
      "cell_type": "code",
      "source": [
        "test_loss, test_accuracy = model.evaluate(X_test, y_test)"
      ],
      "metadata": {
        "colab": {
          "base_uri": "https://localhost:8080/"
        },
        "id": "ao3m_4XsU8qc",
        "outputId": "a25bd134-858d-402d-98ff-e4d4a97db404"
      },
      "execution_count": 24,
      "outputs": [
        {
          "output_type": "stream",
          "name": "stdout",
          "text": [
            "\u001b[1m5/5\u001b[0m \u001b[32m━━━━━━━━━━━━━━━━━━━━\u001b[0m\u001b[37m\u001b[0m \u001b[1m2s\u001b[0m 372ms/step - accuracy: 0.6617 - loss: 1.1221\n"
          ]
        }
      ]
    },
    {
      "cell_type": "code",
      "source": [
        "res = model.evaluate(X_test, y_test)"
      ],
      "metadata": {
        "colab": {
          "base_uri": "https://localhost:8080/"
        },
        "id": "ETDy-44wVXZD",
        "outputId": "3bffdfe8-5474-4e25-bb69-679ab24f498c"
      },
      "execution_count": 26,
      "outputs": [
        {
          "output_type": "stream",
          "name": "stdout",
          "text": [
            "\u001b[1m5/5\u001b[0m \u001b[32m━━━━━━━━━━━━━━━━━━━━\u001b[0m\u001b[37m\u001b[0m \u001b[1m0s\u001b[0m 21ms/step - accuracy: 0.6617 - loss: 1.1221\n"
          ]
        }
      ]
    },
    {
      "cell_type": "code",
      "execution_count": 27,
      "metadata": {
        "colab": {
          "base_uri": "https://localhost:8080/"
        },
        "id": "QbJ9vp5eOGR6",
        "outputId": "b0b73bae-1264-4e5b-e1a9-ecd93ebd0432"
      },
      "outputs": [
        {
          "output_type": "stream",
          "name": "stdout",
          "text": [
            "test_accuracy = 64.0 %\n"
          ]
        }
      ],
      "source": [
        "test_accuracy = res[-1]\n",
        "print(f\"test_accuracy = {round(test_accuracy,2)*100} %\")"
      ]
    },
    {
      "cell_type": "markdown",
      "metadata": {
        "id": "3DC2SFwUZ2vR"
      },
      "source": [
        "🥡 <b><u>Takeaways from building your own CNN</u></b>:\n",
        "* On an \"easy dataset\" like the MNIST, it is now easy to reach a decent accuracy. But for a more complicated problem like classifying flowers, it already becomes more challenging. Take a few minutes to play with the following link before moving on to Transfer Learning\n",
        "    * [PoloClub/CNN-Explainer](https://poloclub.github.io/cnn-explainer/)"
      ]
    },
    {
      "cell_type": "markdown",
      "metadata": {
        "id": "sx8V9sny7cLP"
      },
      "source": [
        "## (5) Using a pre-trained CNN = Transfer learning"
      ]
    },
    {
      "cell_type": "markdown",
      "metadata": {
        "id": "oxhI8bluZ2vR"
      },
      "source": [
        "As we said in the beginning, tech companies and university labs have more computational resources than we do.\n",
        "\n",
        "🔥 The [**Visual Geometry Group**](https://www.robots.ox.ac.uk/~vgg/data/) *(Oxford University, Department of Science and Engineering)* became famous for some of their **Very Deep Convolutional Neural Networks**: the [**VGG16**](https://www.robots.ox.ac.uk/~vgg/research/very_deep/)\n",
        "\n",
        "Take 7 minutes of your time to watch this incredible video of Convolutional Layers created by Dimitri Dmitriev.\n",
        "\n",
        "* 📺 **[VGG16 Neural Network Visualization](https://www.youtube.com/watch?v=RNnKtNrsrmg)**\n"
      ]
    },
    {
      "cell_type": "markdown",
      "metadata": {
        "id": "YZldqCInZ2vS"
      },
      "source": [
        "### (5.1) Load VGG16 model"
      ]
    },
    {
      "cell_type": "markdown",
      "metadata": {
        "id": "nr6m5eKs9s54"
      },
      "source": [
        "❓ **Question: loading the VGG16** ❓\n",
        "\n",
        "* Write a first function `load_model()` that loads the pretrained VGG-16 model from `tensorflow.keras.applications.vgg16`. Have a look at the documentation 📚  [tf/keras/applications/VGG16](https://www.tensorflow.org/api_docs/python/tf/keras/applications/VGG16)📚\n",
        "\n",
        "* We will **load the VGG16 model** the following way:\n",
        "    - 🤯 Let's use the **weights** learned on the [**imagenet dataset**](https://www.image-net.org/download.php) (14M pictures with 20k labels)\n",
        "    - The **`input_shape`** corresponds to the input shape of your images\n",
        "        - Note: *You have to resize them down to a consistent shape if they have different height/widths/channels*\n",
        "    - The **`include_top`** argument should be set to `False`:\n",
        "        - to avoid loading the weights of the fully-connected layers of the VGG16\n",
        "        - and also remove the last layer of the VGG16 which was specifically trained on `imagenet`\n",
        "\n",
        "<i><u>Remark:</u></i> Do not change the default value of the other arguments"
      ]
    },
    {
      "cell_type": "code",
      "execution_count": 28,
      "metadata": {
        "id": "9KIHf9bFOGR7"
      },
      "outputs": [],
      "source": [
        "from tensorflow.keras.applications.vgg16 import VGG16\n",
        "\n",
        "def load_model():\n",
        "    model = VGG16(\n",
        "        weights='imagenet',\n",
        "        include_top=False,\n",
        "        input_shape=(256, 256, 3)\n",
        "    )\n",
        "    return model"
      ]
    },
    {
      "cell_type": "markdown",
      "metadata": {
        "id": "w3psG3JGF7TO"
      },
      "source": [
        "❓ **Question: number of parameters in the VGG16** ❓\n",
        "\n",
        "Look at the architecture of the model using ***.summary()***"
      ]
    },
    {
      "cell_type": "code",
      "source": [
        "model = load_model()\n",
        "model.summary()"
      ],
      "metadata": {
        "colab": {
          "base_uri": "https://localhost:8080/",
          "height": 804
        },
        "id": "1u66t7NlV6Dg",
        "outputId": "531bead0-9e14-4640-ddcb-6c6ea10115b7"
      },
      "execution_count": 29,
      "outputs": [
        {
          "output_type": "stream",
          "name": "stdout",
          "text": [
            "Downloading data from https://storage.googleapis.com/tensorflow/keras-applications/vgg16/vgg16_weights_tf_dim_ordering_tf_kernels_notop.h5\n",
            "\u001b[1m58889256/58889256\u001b[0m \u001b[32m━━━━━━━━━━━━━━━━━━━━\u001b[0m\u001b[37m\u001b[0m \u001b[1m0s\u001b[0m 0us/step\n"
          ]
        },
        {
          "output_type": "display_data",
          "data": {
            "text/plain": [
              "\u001b[1mModel: \"vgg16\"\u001b[0m\n"
            ],
            "text/html": [
              "<pre style=\"white-space:pre;overflow-x:auto;line-height:normal;font-family:Menlo,'DejaVu Sans Mono',consolas,'Courier New',monospace\"><span style=\"font-weight: bold\">Model: \"vgg16\"</span>\n",
              "</pre>\n"
            ]
          },
          "metadata": {}
        },
        {
          "output_type": "display_data",
          "data": {
            "text/plain": [
              "┏━━━━━━━━━━━━━━━━━━━━━━━━━━━━━━━━━━━━━━┳━━━━━━━━━━━━━━━━━━━━━━━━━━━━━┳━━━━━━━━━━━━━━━━━┓\n",
              "┃\u001b[1m \u001b[0m\u001b[1mLayer (type)                        \u001b[0m\u001b[1m \u001b[0m┃\u001b[1m \u001b[0m\u001b[1mOutput Shape               \u001b[0m\u001b[1m \u001b[0m┃\u001b[1m \u001b[0m\u001b[1m        Param #\u001b[0m\u001b[1m \u001b[0m┃\n",
              "┡━━━━━━━━━━━━━━━━━━━━━━━━━━━━━━━━━━━━━━╇━━━━━━━━━━━━━━━━━━━━━━━━━━━━━╇━━━━━━━━━━━━━━━━━┩\n",
              "│ input_layer_1 (\u001b[38;5;33mInputLayer\u001b[0m)           │ (\u001b[38;5;45mNone\u001b[0m, \u001b[38;5;34m256\u001b[0m, \u001b[38;5;34m256\u001b[0m, \u001b[38;5;34m3\u001b[0m)         │               \u001b[38;5;34m0\u001b[0m │\n",
              "├──────────────────────────────────────┼─────────────────────────────┼─────────────────┤\n",
              "│ block1_conv1 (\u001b[38;5;33mConv2D\u001b[0m)                │ (\u001b[38;5;45mNone\u001b[0m, \u001b[38;5;34m256\u001b[0m, \u001b[38;5;34m256\u001b[0m, \u001b[38;5;34m64\u001b[0m)        │           \u001b[38;5;34m1,792\u001b[0m │\n",
              "├──────────────────────────────────────┼─────────────────────────────┼─────────────────┤\n",
              "│ block1_conv2 (\u001b[38;5;33mConv2D\u001b[0m)                │ (\u001b[38;5;45mNone\u001b[0m, \u001b[38;5;34m256\u001b[0m, \u001b[38;5;34m256\u001b[0m, \u001b[38;5;34m64\u001b[0m)        │          \u001b[38;5;34m36,928\u001b[0m │\n",
              "├──────────────────────────────────────┼─────────────────────────────┼─────────────────┤\n",
              "│ block1_pool (\u001b[38;5;33mMaxPooling2D\u001b[0m)           │ (\u001b[38;5;45mNone\u001b[0m, \u001b[38;5;34m128\u001b[0m, \u001b[38;5;34m128\u001b[0m, \u001b[38;5;34m64\u001b[0m)        │               \u001b[38;5;34m0\u001b[0m │\n",
              "├──────────────────────────────────────┼─────────────────────────────┼─────────────────┤\n",
              "│ block2_conv1 (\u001b[38;5;33mConv2D\u001b[0m)                │ (\u001b[38;5;45mNone\u001b[0m, \u001b[38;5;34m128\u001b[0m, \u001b[38;5;34m128\u001b[0m, \u001b[38;5;34m128\u001b[0m)       │          \u001b[38;5;34m73,856\u001b[0m │\n",
              "├──────────────────────────────────────┼─────────────────────────────┼─────────────────┤\n",
              "│ block2_conv2 (\u001b[38;5;33mConv2D\u001b[0m)                │ (\u001b[38;5;45mNone\u001b[0m, \u001b[38;5;34m128\u001b[0m, \u001b[38;5;34m128\u001b[0m, \u001b[38;5;34m128\u001b[0m)       │         \u001b[38;5;34m147,584\u001b[0m │\n",
              "├──────────────────────────────────────┼─────────────────────────────┼─────────────────┤\n",
              "│ block2_pool (\u001b[38;5;33mMaxPooling2D\u001b[0m)           │ (\u001b[38;5;45mNone\u001b[0m, \u001b[38;5;34m64\u001b[0m, \u001b[38;5;34m64\u001b[0m, \u001b[38;5;34m128\u001b[0m)         │               \u001b[38;5;34m0\u001b[0m │\n",
              "├──────────────────────────────────────┼─────────────────────────────┼─────────────────┤\n",
              "│ block3_conv1 (\u001b[38;5;33mConv2D\u001b[0m)                │ (\u001b[38;5;45mNone\u001b[0m, \u001b[38;5;34m64\u001b[0m, \u001b[38;5;34m64\u001b[0m, \u001b[38;5;34m256\u001b[0m)         │         \u001b[38;5;34m295,168\u001b[0m │\n",
              "├──────────────────────────────────────┼─────────────────────────────┼─────────────────┤\n",
              "│ block3_conv2 (\u001b[38;5;33mConv2D\u001b[0m)                │ (\u001b[38;5;45mNone\u001b[0m, \u001b[38;5;34m64\u001b[0m, \u001b[38;5;34m64\u001b[0m, \u001b[38;5;34m256\u001b[0m)         │         \u001b[38;5;34m590,080\u001b[0m │\n",
              "├──────────────────────────────────────┼─────────────────────────────┼─────────────────┤\n",
              "│ block3_conv3 (\u001b[38;5;33mConv2D\u001b[0m)                │ (\u001b[38;5;45mNone\u001b[0m, \u001b[38;5;34m64\u001b[0m, \u001b[38;5;34m64\u001b[0m, \u001b[38;5;34m256\u001b[0m)         │         \u001b[38;5;34m590,080\u001b[0m │\n",
              "├──────────────────────────────────────┼─────────────────────────────┼─────────────────┤\n",
              "│ block3_pool (\u001b[38;5;33mMaxPooling2D\u001b[0m)           │ (\u001b[38;5;45mNone\u001b[0m, \u001b[38;5;34m32\u001b[0m, \u001b[38;5;34m32\u001b[0m, \u001b[38;5;34m256\u001b[0m)         │               \u001b[38;5;34m0\u001b[0m │\n",
              "├──────────────────────────────────────┼─────────────────────────────┼─────────────────┤\n",
              "│ block4_conv1 (\u001b[38;5;33mConv2D\u001b[0m)                │ (\u001b[38;5;45mNone\u001b[0m, \u001b[38;5;34m32\u001b[0m, \u001b[38;5;34m32\u001b[0m, \u001b[38;5;34m512\u001b[0m)         │       \u001b[38;5;34m1,180,160\u001b[0m │\n",
              "├──────────────────────────────────────┼─────────────────────────────┼─────────────────┤\n",
              "│ block4_conv2 (\u001b[38;5;33mConv2D\u001b[0m)                │ (\u001b[38;5;45mNone\u001b[0m, \u001b[38;5;34m32\u001b[0m, \u001b[38;5;34m32\u001b[0m, \u001b[38;5;34m512\u001b[0m)         │       \u001b[38;5;34m2,359,808\u001b[0m │\n",
              "├──────────────────────────────────────┼─────────────────────────────┼─────────────────┤\n",
              "│ block4_conv3 (\u001b[38;5;33mConv2D\u001b[0m)                │ (\u001b[38;5;45mNone\u001b[0m, \u001b[38;5;34m32\u001b[0m, \u001b[38;5;34m32\u001b[0m, \u001b[38;5;34m512\u001b[0m)         │       \u001b[38;5;34m2,359,808\u001b[0m │\n",
              "├──────────────────────────────────────┼─────────────────────────────┼─────────────────┤\n",
              "│ block4_pool (\u001b[38;5;33mMaxPooling2D\u001b[0m)           │ (\u001b[38;5;45mNone\u001b[0m, \u001b[38;5;34m16\u001b[0m, \u001b[38;5;34m16\u001b[0m, \u001b[38;5;34m512\u001b[0m)         │               \u001b[38;5;34m0\u001b[0m │\n",
              "├──────────────────────────────────────┼─────────────────────────────┼─────────────────┤\n",
              "│ block5_conv1 (\u001b[38;5;33mConv2D\u001b[0m)                │ (\u001b[38;5;45mNone\u001b[0m, \u001b[38;5;34m16\u001b[0m, \u001b[38;5;34m16\u001b[0m, \u001b[38;5;34m512\u001b[0m)         │       \u001b[38;5;34m2,359,808\u001b[0m │\n",
              "├──────────────────────────────────────┼─────────────────────────────┼─────────────────┤\n",
              "│ block5_conv2 (\u001b[38;5;33mConv2D\u001b[0m)                │ (\u001b[38;5;45mNone\u001b[0m, \u001b[38;5;34m16\u001b[0m, \u001b[38;5;34m16\u001b[0m, \u001b[38;5;34m512\u001b[0m)         │       \u001b[38;5;34m2,359,808\u001b[0m │\n",
              "├──────────────────────────────────────┼─────────────────────────────┼─────────────────┤\n",
              "│ block5_conv3 (\u001b[38;5;33mConv2D\u001b[0m)                │ (\u001b[38;5;45mNone\u001b[0m, \u001b[38;5;34m16\u001b[0m, \u001b[38;5;34m16\u001b[0m, \u001b[38;5;34m512\u001b[0m)         │       \u001b[38;5;34m2,359,808\u001b[0m │\n",
              "├──────────────────────────────────────┼─────────────────────────────┼─────────────────┤\n",
              "│ block5_pool (\u001b[38;5;33mMaxPooling2D\u001b[0m)           │ (\u001b[38;5;45mNone\u001b[0m, \u001b[38;5;34m8\u001b[0m, \u001b[38;5;34m8\u001b[0m, \u001b[38;5;34m512\u001b[0m)           │               \u001b[38;5;34m0\u001b[0m │\n",
              "└──────────────────────────────────────┴─────────────────────────────┴─────────────────┘\n"
            ],
            "text/html": [
              "<pre style=\"white-space:pre;overflow-x:auto;line-height:normal;font-family:Menlo,'DejaVu Sans Mono',consolas,'Courier New',monospace\">┏━━━━━━━━━━━━━━━━━━━━━━━━━━━━━━━━━━━━━━┳━━━━━━━━━━━━━━━━━━━━━━━━━━━━━┳━━━━━━━━━━━━━━━━━┓\n",
              "┃<span style=\"font-weight: bold\"> Layer (type)                         </span>┃<span style=\"font-weight: bold\"> Output Shape                </span>┃<span style=\"font-weight: bold\">         Param # </span>┃\n",
              "┡━━━━━━━━━━━━━━━━━━━━━━━━━━━━━━━━━━━━━━╇━━━━━━━━━━━━━━━━━━━━━━━━━━━━━╇━━━━━━━━━━━━━━━━━┩\n",
              "│ input_layer_1 (<span style=\"color: #0087ff; text-decoration-color: #0087ff\">InputLayer</span>)           │ (<span style=\"color: #00d7ff; text-decoration-color: #00d7ff\">None</span>, <span style=\"color: #00af00; text-decoration-color: #00af00\">256</span>, <span style=\"color: #00af00; text-decoration-color: #00af00\">256</span>, <span style=\"color: #00af00; text-decoration-color: #00af00\">3</span>)         │               <span style=\"color: #00af00; text-decoration-color: #00af00\">0</span> │\n",
              "├──────────────────────────────────────┼─────────────────────────────┼─────────────────┤\n",
              "│ block1_conv1 (<span style=\"color: #0087ff; text-decoration-color: #0087ff\">Conv2D</span>)                │ (<span style=\"color: #00d7ff; text-decoration-color: #00d7ff\">None</span>, <span style=\"color: #00af00; text-decoration-color: #00af00\">256</span>, <span style=\"color: #00af00; text-decoration-color: #00af00\">256</span>, <span style=\"color: #00af00; text-decoration-color: #00af00\">64</span>)        │           <span style=\"color: #00af00; text-decoration-color: #00af00\">1,792</span> │\n",
              "├──────────────────────────────────────┼─────────────────────────────┼─────────────────┤\n",
              "│ block1_conv2 (<span style=\"color: #0087ff; text-decoration-color: #0087ff\">Conv2D</span>)                │ (<span style=\"color: #00d7ff; text-decoration-color: #00d7ff\">None</span>, <span style=\"color: #00af00; text-decoration-color: #00af00\">256</span>, <span style=\"color: #00af00; text-decoration-color: #00af00\">256</span>, <span style=\"color: #00af00; text-decoration-color: #00af00\">64</span>)        │          <span style=\"color: #00af00; text-decoration-color: #00af00\">36,928</span> │\n",
              "├──────────────────────────────────────┼─────────────────────────────┼─────────────────┤\n",
              "│ block1_pool (<span style=\"color: #0087ff; text-decoration-color: #0087ff\">MaxPooling2D</span>)           │ (<span style=\"color: #00d7ff; text-decoration-color: #00d7ff\">None</span>, <span style=\"color: #00af00; text-decoration-color: #00af00\">128</span>, <span style=\"color: #00af00; text-decoration-color: #00af00\">128</span>, <span style=\"color: #00af00; text-decoration-color: #00af00\">64</span>)        │               <span style=\"color: #00af00; text-decoration-color: #00af00\">0</span> │\n",
              "├──────────────────────────────────────┼─────────────────────────────┼─────────────────┤\n",
              "│ block2_conv1 (<span style=\"color: #0087ff; text-decoration-color: #0087ff\">Conv2D</span>)                │ (<span style=\"color: #00d7ff; text-decoration-color: #00d7ff\">None</span>, <span style=\"color: #00af00; text-decoration-color: #00af00\">128</span>, <span style=\"color: #00af00; text-decoration-color: #00af00\">128</span>, <span style=\"color: #00af00; text-decoration-color: #00af00\">128</span>)       │          <span style=\"color: #00af00; text-decoration-color: #00af00\">73,856</span> │\n",
              "├──────────────────────────────────────┼─────────────────────────────┼─────────────────┤\n",
              "│ block2_conv2 (<span style=\"color: #0087ff; text-decoration-color: #0087ff\">Conv2D</span>)                │ (<span style=\"color: #00d7ff; text-decoration-color: #00d7ff\">None</span>, <span style=\"color: #00af00; text-decoration-color: #00af00\">128</span>, <span style=\"color: #00af00; text-decoration-color: #00af00\">128</span>, <span style=\"color: #00af00; text-decoration-color: #00af00\">128</span>)       │         <span style=\"color: #00af00; text-decoration-color: #00af00\">147,584</span> │\n",
              "├──────────────────────────────────────┼─────────────────────────────┼─────────────────┤\n",
              "│ block2_pool (<span style=\"color: #0087ff; text-decoration-color: #0087ff\">MaxPooling2D</span>)           │ (<span style=\"color: #00d7ff; text-decoration-color: #00d7ff\">None</span>, <span style=\"color: #00af00; text-decoration-color: #00af00\">64</span>, <span style=\"color: #00af00; text-decoration-color: #00af00\">64</span>, <span style=\"color: #00af00; text-decoration-color: #00af00\">128</span>)         │               <span style=\"color: #00af00; text-decoration-color: #00af00\">0</span> │\n",
              "├──────────────────────────────────────┼─────────────────────────────┼─────────────────┤\n",
              "│ block3_conv1 (<span style=\"color: #0087ff; text-decoration-color: #0087ff\">Conv2D</span>)                │ (<span style=\"color: #00d7ff; text-decoration-color: #00d7ff\">None</span>, <span style=\"color: #00af00; text-decoration-color: #00af00\">64</span>, <span style=\"color: #00af00; text-decoration-color: #00af00\">64</span>, <span style=\"color: #00af00; text-decoration-color: #00af00\">256</span>)         │         <span style=\"color: #00af00; text-decoration-color: #00af00\">295,168</span> │\n",
              "├──────────────────────────────────────┼─────────────────────────────┼─────────────────┤\n",
              "│ block3_conv2 (<span style=\"color: #0087ff; text-decoration-color: #0087ff\">Conv2D</span>)                │ (<span style=\"color: #00d7ff; text-decoration-color: #00d7ff\">None</span>, <span style=\"color: #00af00; text-decoration-color: #00af00\">64</span>, <span style=\"color: #00af00; text-decoration-color: #00af00\">64</span>, <span style=\"color: #00af00; text-decoration-color: #00af00\">256</span>)         │         <span style=\"color: #00af00; text-decoration-color: #00af00\">590,080</span> │\n",
              "├──────────────────────────────────────┼─────────────────────────────┼─────────────────┤\n",
              "│ block3_conv3 (<span style=\"color: #0087ff; text-decoration-color: #0087ff\">Conv2D</span>)                │ (<span style=\"color: #00d7ff; text-decoration-color: #00d7ff\">None</span>, <span style=\"color: #00af00; text-decoration-color: #00af00\">64</span>, <span style=\"color: #00af00; text-decoration-color: #00af00\">64</span>, <span style=\"color: #00af00; text-decoration-color: #00af00\">256</span>)         │         <span style=\"color: #00af00; text-decoration-color: #00af00\">590,080</span> │\n",
              "├──────────────────────────────────────┼─────────────────────────────┼─────────────────┤\n",
              "│ block3_pool (<span style=\"color: #0087ff; text-decoration-color: #0087ff\">MaxPooling2D</span>)           │ (<span style=\"color: #00d7ff; text-decoration-color: #00d7ff\">None</span>, <span style=\"color: #00af00; text-decoration-color: #00af00\">32</span>, <span style=\"color: #00af00; text-decoration-color: #00af00\">32</span>, <span style=\"color: #00af00; text-decoration-color: #00af00\">256</span>)         │               <span style=\"color: #00af00; text-decoration-color: #00af00\">0</span> │\n",
              "├──────────────────────────────────────┼─────────────────────────────┼─────────────────┤\n",
              "│ block4_conv1 (<span style=\"color: #0087ff; text-decoration-color: #0087ff\">Conv2D</span>)                │ (<span style=\"color: #00d7ff; text-decoration-color: #00d7ff\">None</span>, <span style=\"color: #00af00; text-decoration-color: #00af00\">32</span>, <span style=\"color: #00af00; text-decoration-color: #00af00\">32</span>, <span style=\"color: #00af00; text-decoration-color: #00af00\">512</span>)         │       <span style=\"color: #00af00; text-decoration-color: #00af00\">1,180,160</span> │\n",
              "├──────────────────────────────────────┼─────────────────────────────┼─────────────────┤\n",
              "│ block4_conv2 (<span style=\"color: #0087ff; text-decoration-color: #0087ff\">Conv2D</span>)                │ (<span style=\"color: #00d7ff; text-decoration-color: #00d7ff\">None</span>, <span style=\"color: #00af00; text-decoration-color: #00af00\">32</span>, <span style=\"color: #00af00; text-decoration-color: #00af00\">32</span>, <span style=\"color: #00af00; text-decoration-color: #00af00\">512</span>)         │       <span style=\"color: #00af00; text-decoration-color: #00af00\">2,359,808</span> │\n",
              "├──────────────────────────────────────┼─────────────────────────────┼─────────────────┤\n",
              "│ block4_conv3 (<span style=\"color: #0087ff; text-decoration-color: #0087ff\">Conv2D</span>)                │ (<span style=\"color: #00d7ff; text-decoration-color: #00d7ff\">None</span>, <span style=\"color: #00af00; text-decoration-color: #00af00\">32</span>, <span style=\"color: #00af00; text-decoration-color: #00af00\">32</span>, <span style=\"color: #00af00; text-decoration-color: #00af00\">512</span>)         │       <span style=\"color: #00af00; text-decoration-color: #00af00\">2,359,808</span> │\n",
              "├──────────────────────────────────────┼─────────────────────────────┼─────────────────┤\n",
              "│ block4_pool (<span style=\"color: #0087ff; text-decoration-color: #0087ff\">MaxPooling2D</span>)           │ (<span style=\"color: #00d7ff; text-decoration-color: #00d7ff\">None</span>, <span style=\"color: #00af00; text-decoration-color: #00af00\">16</span>, <span style=\"color: #00af00; text-decoration-color: #00af00\">16</span>, <span style=\"color: #00af00; text-decoration-color: #00af00\">512</span>)         │               <span style=\"color: #00af00; text-decoration-color: #00af00\">0</span> │\n",
              "├──────────────────────────────────────┼─────────────────────────────┼─────────────────┤\n",
              "│ block5_conv1 (<span style=\"color: #0087ff; text-decoration-color: #0087ff\">Conv2D</span>)                │ (<span style=\"color: #00d7ff; text-decoration-color: #00d7ff\">None</span>, <span style=\"color: #00af00; text-decoration-color: #00af00\">16</span>, <span style=\"color: #00af00; text-decoration-color: #00af00\">16</span>, <span style=\"color: #00af00; text-decoration-color: #00af00\">512</span>)         │       <span style=\"color: #00af00; text-decoration-color: #00af00\">2,359,808</span> │\n",
              "├──────────────────────────────────────┼─────────────────────────────┼─────────────────┤\n",
              "│ block5_conv2 (<span style=\"color: #0087ff; text-decoration-color: #0087ff\">Conv2D</span>)                │ (<span style=\"color: #00d7ff; text-decoration-color: #00d7ff\">None</span>, <span style=\"color: #00af00; text-decoration-color: #00af00\">16</span>, <span style=\"color: #00af00; text-decoration-color: #00af00\">16</span>, <span style=\"color: #00af00; text-decoration-color: #00af00\">512</span>)         │       <span style=\"color: #00af00; text-decoration-color: #00af00\">2,359,808</span> │\n",
              "├──────────────────────────────────────┼─────────────────────────────┼─────────────────┤\n",
              "│ block5_conv3 (<span style=\"color: #0087ff; text-decoration-color: #0087ff\">Conv2D</span>)                │ (<span style=\"color: #00d7ff; text-decoration-color: #00d7ff\">None</span>, <span style=\"color: #00af00; text-decoration-color: #00af00\">16</span>, <span style=\"color: #00af00; text-decoration-color: #00af00\">16</span>, <span style=\"color: #00af00; text-decoration-color: #00af00\">512</span>)         │       <span style=\"color: #00af00; text-decoration-color: #00af00\">2,359,808</span> │\n",
              "├──────────────────────────────────────┼─────────────────────────────┼─────────────────┤\n",
              "│ block5_pool (<span style=\"color: #0087ff; text-decoration-color: #0087ff\">MaxPooling2D</span>)           │ (<span style=\"color: #00d7ff; text-decoration-color: #00d7ff\">None</span>, <span style=\"color: #00af00; text-decoration-color: #00af00\">8</span>, <span style=\"color: #00af00; text-decoration-color: #00af00\">8</span>, <span style=\"color: #00af00; text-decoration-color: #00af00\">512</span>)           │               <span style=\"color: #00af00; text-decoration-color: #00af00\">0</span> │\n",
              "└──────────────────────────────────────┴─────────────────────────────┴─────────────────┘\n",
              "</pre>\n"
            ]
          },
          "metadata": {}
        },
        {
          "output_type": "display_data",
          "data": {
            "text/plain": [
              "\u001b[1m Total params: \u001b[0m\u001b[38;5;34m14,714,688\u001b[0m (56.13 MB)\n"
            ],
            "text/html": [
              "<pre style=\"white-space:pre;overflow-x:auto;line-height:normal;font-family:Menlo,'DejaVu Sans Mono',consolas,'Courier New',monospace\"><span style=\"font-weight: bold\"> Total params: </span><span style=\"color: #00af00; text-decoration-color: #00af00\">14,714,688</span> (56.13 MB)\n",
              "</pre>\n"
            ]
          },
          "metadata": {}
        },
        {
          "output_type": "display_data",
          "data": {
            "text/plain": [
              "\u001b[1m Trainable params: \u001b[0m\u001b[38;5;34m14,714,688\u001b[0m (56.13 MB)\n"
            ],
            "text/html": [
              "<pre style=\"white-space:pre;overflow-x:auto;line-height:normal;font-family:Menlo,'DejaVu Sans Mono',consolas,'Courier New',monospace\"><span style=\"font-weight: bold\"> Trainable params: </span><span style=\"color: #00af00; text-decoration-color: #00af00\">14,714,688</span> (56.13 MB)\n",
              "</pre>\n"
            ]
          },
          "metadata": {}
        },
        {
          "output_type": "display_data",
          "data": {
            "text/plain": [
              "\u001b[1m Non-trainable params: \u001b[0m\u001b[38;5;34m0\u001b[0m (0.00 B)\n"
            ],
            "text/html": [
              "<pre style=\"white-space:pre;overflow-x:auto;line-height:normal;font-family:Menlo,'DejaVu Sans Mono',consolas,'Courier New',monospace\"><span style=\"font-weight: bold\"> Non-trainable params: </span><span style=\"color: #00af00; text-decoration-color: #00af00\">0</span> (0.00 B)\n",
              "</pre>\n"
            ]
          },
          "metadata": {}
        }
      ]
    },
    {
      "cell_type": "code",
      "execution_count": null,
      "metadata": {
        "id": "JtBpKLegF7TO",
        "tags": [
          "challengify"
        ]
      },
      "outputs": [],
      "source": [
        "# YOUR CODE HERE"
      ]
    },
    {
      "cell_type": "markdown",
      "metadata": {
        "id": "D1IAwxRVF7TO"
      },
      "source": [
        "<img src=\"https://neurohive.io/wp-content/uploads/2018/11/vgg16-1-e1542731207177.png\">\n",
        "\n",
        "💪 Impressive, right? Two things to notice:\n",
        "- It ends with a combo Conv2D/MaxPooling2D\n",
        "- The `layers.Flatten` and the `layers.Dense` are not there yet, we need to add them.\n",
        "- There are more than 14,000,000 parameters, which is a lot...\n",
        "    - We could fine-tune them, i.e. update them as we will update the weights of the dense layers, but it will take a lot of time....\n",
        "    - For this reason, we will inform the model that the layers before the flattening will be set non-trainable.\n",
        "\n",
        "---"
      ]
    },
    {
      "cell_type": "markdown",
      "metadata": {
        "id": "ehMaUN34Z2vT"
      },
      "source": [
        "❓ **Question: deactivating the training of the VGG16 paramters** ❓\n",
        "\n",
        "* Write a first function which:\n",
        "    - takes the previous model as the input\n",
        "    - sets the first layers to be non-trainable, by applying **`model.trainable = False`**\n",
        "    - returns the model.\n",
        "\n",
        "* Then inspect the summary of the model to check that the parameters are no longer trainable, they were set to be **`non-trainable`**.\n",
        "\n"
      ]
    },
    {
      "cell_type": "code",
      "execution_count": 30,
      "metadata": {
        "id": "4bJVKhdkOGR9"
      },
      "outputs": [],
      "source": [
        "def set_nontrainable_layers(model):\n",
        "\n",
        "    model.trainable = False\n",
        "\n",
        "    return model"
      ]
    },
    {
      "cell_type": "code",
      "source": [
        "model = load_model()\n",
        "model = set_nontrainable_layers(model)\n",
        "model.summary()"
      ],
      "metadata": {
        "colab": {
          "base_uri": "https://localhost:8080/",
          "height": 767
        },
        "id": "r5QxLEGLWVSs",
        "outputId": "1d87ab4e-5b24-44d9-a77a-2bebe9080b74"
      },
      "execution_count": 31,
      "outputs": [
        {
          "output_type": "display_data",
          "data": {
            "text/plain": [
              "\u001b[1mModel: \"vgg16\"\u001b[0m\n"
            ],
            "text/html": [
              "<pre style=\"white-space:pre;overflow-x:auto;line-height:normal;font-family:Menlo,'DejaVu Sans Mono',consolas,'Courier New',monospace\"><span style=\"font-weight: bold\">Model: \"vgg16\"</span>\n",
              "</pre>\n"
            ]
          },
          "metadata": {}
        },
        {
          "output_type": "display_data",
          "data": {
            "text/plain": [
              "┏━━━━━━━━━━━━━━━━━━━━━━━━━━━━━━━━━━━━━━┳━━━━━━━━━━━━━━━━━━━━━━━━━━━━━┳━━━━━━━━━━━━━━━━━┓\n",
              "┃\u001b[1m \u001b[0m\u001b[1mLayer (type)                        \u001b[0m\u001b[1m \u001b[0m┃\u001b[1m \u001b[0m\u001b[1mOutput Shape               \u001b[0m\u001b[1m \u001b[0m┃\u001b[1m \u001b[0m\u001b[1m        Param #\u001b[0m\u001b[1m \u001b[0m┃\n",
              "┡━━━━━━━━━━━━━━━━━━━━━━━━━━━━━━━━━━━━━━╇━━━━━━━━━━━━━━━━━━━━━━━━━━━━━╇━━━━━━━━━━━━━━━━━┩\n",
              "│ input_layer_2 (\u001b[38;5;33mInputLayer\u001b[0m)           │ (\u001b[38;5;45mNone\u001b[0m, \u001b[38;5;34m256\u001b[0m, \u001b[38;5;34m256\u001b[0m, \u001b[38;5;34m3\u001b[0m)         │               \u001b[38;5;34m0\u001b[0m │\n",
              "├──────────────────────────────────────┼─────────────────────────────┼─────────────────┤\n",
              "│ block1_conv1 (\u001b[38;5;33mConv2D\u001b[0m)                │ (\u001b[38;5;45mNone\u001b[0m, \u001b[38;5;34m256\u001b[0m, \u001b[38;5;34m256\u001b[0m, \u001b[38;5;34m64\u001b[0m)        │           \u001b[38;5;34m1,792\u001b[0m │\n",
              "├──────────────────────────────────────┼─────────────────────────────┼─────────────────┤\n",
              "│ block1_conv2 (\u001b[38;5;33mConv2D\u001b[0m)                │ (\u001b[38;5;45mNone\u001b[0m, \u001b[38;5;34m256\u001b[0m, \u001b[38;5;34m256\u001b[0m, \u001b[38;5;34m64\u001b[0m)        │          \u001b[38;5;34m36,928\u001b[0m │\n",
              "├──────────────────────────────────────┼─────────────────────────────┼─────────────────┤\n",
              "│ block1_pool (\u001b[38;5;33mMaxPooling2D\u001b[0m)           │ (\u001b[38;5;45mNone\u001b[0m, \u001b[38;5;34m128\u001b[0m, \u001b[38;5;34m128\u001b[0m, \u001b[38;5;34m64\u001b[0m)        │               \u001b[38;5;34m0\u001b[0m │\n",
              "├──────────────────────────────────────┼─────────────────────────────┼─────────────────┤\n",
              "│ block2_conv1 (\u001b[38;5;33mConv2D\u001b[0m)                │ (\u001b[38;5;45mNone\u001b[0m, \u001b[38;5;34m128\u001b[0m, \u001b[38;5;34m128\u001b[0m, \u001b[38;5;34m128\u001b[0m)       │          \u001b[38;5;34m73,856\u001b[0m │\n",
              "├──────────────────────────────────────┼─────────────────────────────┼─────────────────┤\n",
              "│ block2_conv2 (\u001b[38;5;33mConv2D\u001b[0m)                │ (\u001b[38;5;45mNone\u001b[0m, \u001b[38;5;34m128\u001b[0m, \u001b[38;5;34m128\u001b[0m, \u001b[38;5;34m128\u001b[0m)       │         \u001b[38;5;34m147,584\u001b[0m │\n",
              "├──────────────────────────────────────┼─────────────────────────────┼─────────────────┤\n",
              "│ block2_pool (\u001b[38;5;33mMaxPooling2D\u001b[0m)           │ (\u001b[38;5;45mNone\u001b[0m, \u001b[38;5;34m64\u001b[0m, \u001b[38;5;34m64\u001b[0m, \u001b[38;5;34m128\u001b[0m)         │               \u001b[38;5;34m0\u001b[0m │\n",
              "├──────────────────────────────────────┼─────────────────────────────┼─────────────────┤\n",
              "│ block3_conv1 (\u001b[38;5;33mConv2D\u001b[0m)                │ (\u001b[38;5;45mNone\u001b[0m, \u001b[38;5;34m64\u001b[0m, \u001b[38;5;34m64\u001b[0m, \u001b[38;5;34m256\u001b[0m)         │         \u001b[38;5;34m295,168\u001b[0m │\n",
              "├──────────────────────────────────────┼─────────────────────────────┼─────────────────┤\n",
              "│ block3_conv2 (\u001b[38;5;33mConv2D\u001b[0m)                │ (\u001b[38;5;45mNone\u001b[0m, \u001b[38;5;34m64\u001b[0m, \u001b[38;5;34m64\u001b[0m, \u001b[38;5;34m256\u001b[0m)         │         \u001b[38;5;34m590,080\u001b[0m │\n",
              "├──────────────────────────────────────┼─────────────────────────────┼─────────────────┤\n",
              "│ block3_conv3 (\u001b[38;5;33mConv2D\u001b[0m)                │ (\u001b[38;5;45mNone\u001b[0m, \u001b[38;5;34m64\u001b[0m, \u001b[38;5;34m64\u001b[0m, \u001b[38;5;34m256\u001b[0m)         │         \u001b[38;5;34m590,080\u001b[0m │\n",
              "├──────────────────────────────────────┼─────────────────────────────┼─────────────────┤\n",
              "│ block3_pool (\u001b[38;5;33mMaxPooling2D\u001b[0m)           │ (\u001b[38;5;45mNone\u001b[0m, \u001b[38;5;34m32\u001b[0m, \u001b[38;5;34m32\u001b[0m, \u001b[38;5;34m256\u001b[0m)         │               \u001b[38;5;34m0\u001b[0m │\n",
              "├──────────────────────────────────────┼─────────────────────────────┼─────────────────┤\n",
              "│ block4_conv1 (\u001b[38;5;33mConv2D\u001b[0m)                │ (\u001b[38;5;45mNone\u001b[0m, \u001b[38;5;34m32\u001b[0m, \u001b[38;5;34m32\u001b[0m, \u001b[38;5;34m512\u001b[0m)         │       \u001b[38;5;34m1,180,160\u001b[0m │\n",
              "├──────────────────────────────────────┼─────────────────────────────┼─────────────────┤\n",
              "│ block4_conv2 (\u001b[38;5;33mConv2D\u001b[0m)                │ (\u001b[38;5;45mNone\u001b[0m, \u001b[38;5;34m32\u001b[0m, \u001b[38;5;34m32\u001b[0m, \u001b[38;5;34m512\u001b[0m)         │       \u001b[38;5;34m2,359,808\u001b[0m │\n",
              "├──────────────────────────────────────┼─────────────────────────────┼─────────────────┤\n",
              "│ block4_conv3 (\u001b[38;5;33mConv2D\u001b[0m)                │ (\u001b[38;5;45mNone\u001b[0m, \u001b[38;5;34m32\u001b[0m, \u001b[38;5;34m32\u001b[0m, \u001b[38;5;34m512\u001b[0m)         │       \u001b[38;5;34m2,359,808\u001b[0m │\n",
              "├──────────────────────────────────────┼─────────────────────────────┼─────────────────┤\n",
              "│ block4_pool (\u001b[38;5;33mMaxPooling2D\u001b[0m)           │ (\u001b[38;5;45mNone\u001b[0m, \u001b[38;5;34m16\u001b[0m, \u001b[38;5;34m16\u001b[0m, \u001b[38;5;34m512\u001b[0m)         │               \u001b[38;5;34m0\u001b[0m │\n",
              "├──────────────────────────────────────┼─────────────────────────────┼─────────────────┤\n",
              "│ block5_conv1 (\u001b[38;5;33mConv2D\u001b[0m)                │ (\u001b[38;5;45mNone\u001b[0m, \u001b[38;5;34m16\u001b[0m, \u001b[38;5;34m16\u001b[0m, \u001b[38;5;34m512\u001b[0m)         │       \u001b[38;5;34m2,359,808\u001b[0m │\n",
              "├──────────────────────────────────────┼─────────────────────────────┼─────────────────┤\n",
              "│ block5_conv2 (\u001b[38;5;33mConv2D\u001b[0m)                │ (\u001b[38;5;45mNone\u001b[0m, \u001b[38;5;34m16\u001b[0m, \u001b[38;5;34m16\u001b[0m, \u001b[38;5;34m512\u001b[0m)         │       \u001b[38;5;34m2,359,808\u001b[0m │\n",
              "├──────────────────────────────────────┼─────────────────────────────┼─────────────────┤\n",
              "│ block5_conv3 (\u001b[38;5;33mConv2D\u001b[0m)                │ (\u001b[38;5;45mNone\u001b[0m, \u001b[38;5;34m16\u001b[0m, \u001b[38;5;34m16\u001b[0m, \u001b[38;5;34m512\u001b[0m)         │       \u001b[38;5;34m2,359,808\u001b[0m │\n",
              "├──────────────────────────────────────┼─────────────────────────────┼─────────────────┤\n",
              "│ block5_pool (\u001b[38;5;33mMaxPooling2D\u001b[0m)           │ (\u001b[38;5;45mNone\u001b[0m, \u001b[38;5;34m8\u001b[0m, \u001b[38;5;34m8\u001b[0m, \u001b[38;5;34m512\u001b[0m)           │               \u001b[38;5;34m0\u001b[0m │\n",
              "└──────────────────────────────────────┴─────────────────────────────┴─────────────────┘\n"
            ],
            "text/html": [
              "<pre style=\"white-space:pre;overflow-x:auto;line-height:normal;font-family:Menlo,'DejaVu Sans Mono',consolas,'Courier New',monospace\">┏━━━━━━━━━━━━━━━━━━━━━━━━━━━━━━━━━━━━━━┳━━━━━━━━━━━━━━━━━━━━━━━━━━━━━┳━━━━━━━━━━━━━━━━━┓\n",
              "┃<span style=\"font-weight: bold\"> Layer (type)                         </span>┃<span style=\"font-weight: bold\"> Output Shape                </span>┃<span style=\"font-weight: bold\">         Param # </span>┃\n",
              "┡━━━━━━━━━━━━━━━━━━━━━━━━━━━━━━━━━━━━━━╇━━━━━━━━━━━━━━━━━━━━━━━━━━━━━╇━━━━━━━━━━━━━━━━━┩\n",
              "│ input_layer_2 (<span style=\"color: #0087ff; text-decoration-color: #0087ff\">InputLayer</span>)           │ (<span style=\"color: #00d7ff; text-decoration-color: #00d7ff\">None</span>, <span style=\"color: #00af00; text-decoration-color: #00af00\">256</span>, <span style=\"color: #00af00; text-decoration-color: #00af00\">256</span>, <span style=\"color: #00af00; text-decoration-color: #00af00\">3</span>)         │               <span style=\"color: #00af00; text-decoration-color: #00af00\">0</span> │\n",
              "├──────────────────────────────────────┼─────────────────────────────┼─────────────────┤\n",
              "│ block1_conv1 (<span style=\"color: #0087ff; text-decoration-color: #0087ff\">Conv2D</span>)                │ (<span style=\"color: #00d7ff; text-decoration-color: #00d7ff\">None</span>, <span style=\"color: #00af00; text-decoration-color: #00af00\">256</span>, <span style=\"color: #00af00; text-decoration-color: #00af00\">256</span>, <span style=\"color: #00af00; text-decoration-color: #00af00\">64</span>)        │           <span style=\"color: #00af00; text-decoration-color: #00af00\">1,792</span> │\n",
              "├──────────────────────────────────────┼─────────────────────────────┼─────────────────┤\n",
              "│ block1_conv2 (<span style=\"color: #0087ff; text-decoration-color: #0087ff\">Conv2D</span>)                │ (<span style=\"color: #00d7ff; text-decoration-color: #00d7ff\">None</span>, <span style=\"color: #00af00; text-decoration-color: #00af00\">256</span>, <span style=\"color: #00af00; text-decoration-color: #00af00\">256</span>, <span style=\"color: #00af00; text-decoration-color: #00af00\">64</span>)        │          <span style=\"color: #00af00; text-decoration-color: #00af00\">36,928</span> │\n",
              "├──────────────────────────────────────┼─────────────────────────────┼─────────────────┤\n",
              "│ block1_pool (<span style=\"color: #0087ff; text-decoration-color: #0087ff\">MaxPooling2D</span>)           │ (<span style=\"color: #00d7ff; text-decoration-color: #00d7ff\">None</span>, <span style=\"color: #00af00; text-decoration-color: #00af00\">128</span>, <span style=\"color: #00af00; text-decoration-color: #00af00\">128</span>, <span style=\"color: #00af00; text-decoration-color: #00af00\">64</span>)        │               <span style=\"color: #00af00; text-decoration-color: #00af00\">0</span> │\n",
              "├──────────────────────────────────────┼─────────────────────────────┼─────────────────┤\n",
              "│ block2_conv1 (<span style=\"color: #0087ff; text-decoration-color: #0087ff\">Conv2D</span>)                │ (<span style=\"color: #00d7ff; text-decoration-color: #00d7ff\">None</span>, <span style=\"color: #00af00; text-decoration-color: #00af00\">128</span>, <span style=\"color: #00af00; text-decoration-color: #00af00\">128</span>, <span style=\"color: #00af00; text-decoration-color: #00af00\">128</span>)       │          <span style=\"color: #00af00; text-decoration-color: #00af00\">73,856</span> │\n",
              "├──────────────────────────────────────┼─────────────────────────────┼─────────────────┤\n",
              "│ block2_conv2 (<span style=\"color: #0087ff; text-decoration-color: #0087ff\">Conv2D</span>)                │ (<span style=\"color: #00d7ff; text-decoration-color: #00d7ff\">None</span>, <span style=\"color: #00af00; text-decoration-color: #00af00\">128</span>, <span style=\"color: #00af00; text-decoration-color: #00af00\">128</span>, <span style=\"color: #00af00; text-decoration-color: #00af00\">128</span>)       │         <span style=\"color: #00af00; text-decoration-color: #00af00\">147,584</span> │\n",
              "├──────────────────────────────────────┼─────────────────────────────┼─────────────────┤\n",
              "│ block2_pool (<span style=\"color: #0087ff; text-decoration-color: #0087ff\">MaxPooling2D</span>)           │ (<span style=\"color: #00d7ff; text-decoration-color: #00d7ff\">None</span>, <span style=\"color: #00af00; text-decoration-color: #00af00\">64</span>, <span style=\"color: #00af00; text-decoration-color: #00af00\">64</span>, <span style=\"color: #00af00; text-decoration-color: #00af00\">128</span>)         │               <span style=\"color: #00af00; text-decoration-color: #00af00\">0</span> │\n",
              "├──────────────────────────────────────┼─────────────────────────────┼─────────────────┤\n",
              "│ block3_conv1 (<span style=\"color: #0087ff; text-decoration-color: #0087ff\">Conv2D</span>)                │ (<span style=\"color: #00d7ff; text-decoration-color: #00d7ff\">None</span>, <span style=\"color: #00af00; text-decoration-color: #00af00\">64</span>, <span style=\"color: #00af00; text-decoration-color: #00af00\">64</span>, <span style=\"color: #00af00; text-decoration-color: #00af00\">256</span>)         │         <span style=\"color: #00af00; text-decoration-color: #00af00\">295,168</span> │\n",
              "├──────────────────────────────────────┼─────────────────────────────┼─────────────────┤\n",
              "│ block3_conv2 (<span style=\"color: #0087ff; text-decoration-color: #0087ff\">Conv2D</span>)                │ (<span style=\"color: #00d7ff; text-decoration-color: #00d7ff\">None</span>, <span style=\"color: #00af00; text-decoration-color: #00af00\">64</span>, <span style=\"color: #00af00; text-decoration-color: #00af00\">64</span>, <span style=\"color: #00af00; text-decoration-color: #00af00\">256</span>)         │         <span style=\"color: #00af00; text-decoration-color: #00af00\">590,080</span> │\n",
              "├──────────────────────────────────────┼─────────────────────────────┼─────────────────┤\n",
              "│ block3_conv3 (<span style=\"color: #0087ff; text-decoration-color: #0087ff\">Conv2D</span>)                │ (<span style=\"color: #00d7ff; text-decoration-color: #00d7ff\">None</span>, <span style=\"color: #00af00; text-decoration-color: #00af00\">64</span>, <span style=\"color: #00af00; text-decoration-color: #00af00\">64</span>, <span style=\"color: #00af00; text-decoration-color: #00af00\">256</span>)         │         <span style=\"color: #00af00; text-decoration-color: #00af00\">590,080</span> │\n",
              "├──────────────────────────────────────┼─────────────────────────────┼─────────────────┤\n",
              "│ block3_pool (<span style=\"color: #0087ff; text-decoration-color: #0087ff\">MaxPooling2D</span>)           │ (<span style=\"color: #00d7ff; text-decoration-color: #00d7ff\">None</span>, <span style=\"color: #00af00; text-decoration-color: #00af00\">32</span>, <span style=\"color: #00af00; text-decoration-color: #00af00\">32</span>, <span style=\"color: #00af00; text-decoration-color: #00af00\">256</span>)         │               <span style=\"color: #00af00; text-decoration-color: #00af00\">0</span> │\n",
              "├──────────────────────────────────────┼─────────────────────────────┼─────────────────┤\n",
              "│ block4_conv1 (<span style=\"color: #0087ff; text-decoration-color: #0087ff\">Conv2D</span>)                │ (<span style=\"color: #00d7ff; text-decoration-color: #00d7ff\">None</span>, <span style=\"color: #00af00; text-decoration-color: #00af00\">32</span>, <span style=\"color: #00af00; text-decoration-color: #00af00\">32</span>, <span style=\"color: #00af00; text-decoration-color: #00af00\">512</span>)         │       <span style=\"color: #00af00; text-decoration-color: #00af00\">1,180,160</span> │\n",
              "├──────────────────────────────────────┼─────────────────────────────┼─────────────────┤\n",
              "│ block4_conv2 (<span style=\"color: #0087ff; text-decoration-color: #0087ff\">Conv2D</span>)                │ (<span style=\"color: #00d7ff; text-decoration-color: #00d7ff\">None</span>, <span style=\"color: #00af00; text-decoration-color: #00af00\">32</span>, <span style=\"color: #00af00; text-decoration-color: #00af00\">32</span>, <span style=\"color: #00af00; text-decoration-color: #00af00\">512</span>)         │       <span style=\"color: #00af00; text-decoration-color: #00af00\">2,359,808</span> │\n",
              "├──────────────────────────────────────┼─────────────────────────────┼─────────────────┤\n",
              "│ block4_conv3 (<span style=\"color: #0087ff; text-decoration-color: #0087ff\">Conv2D</span>)                │ (<span style=\"color: #00d7ff; text-decoration-color: #00d7ff\">None</span>, <span style=\"color: #00af00; text-decoration-color: #00af00\">32</span>, <span style=\"color: #00af00; text-decoration-color: #00af00\">32</span>, <span style=\"color: #00af00; text-decoration-color: #00af00\">512</span>)         │       <span style=\"color: #00af00; text-decoration-color: #00af00\">2,359,808</span> │\n",
              "├──────────────────────────────────────┼─────────────────────────────┼─────────────────┤\n",
              "│ block4_pool (<span style=\"color: #0087ff; text-decoration-color: #0087ff\">MaxPooling2D</span>)           │ (<span style=\"color: #00d7ff; text-decoration-color: #00d7ff\">None</span>, <span style=\"color: #00af00; text-decoration-color: #00af00\">16</span>, <span style=\"color: #00af00; text-decoration-color: #00af00\">16</span>, <span style=\"color: #00af00; text-decoration-color: #00af00\">512</span>)         │               <span style=\"color: #00af00; text-decoration-color: #00af00\">0</span> │\n",
              "├──────────────────────────────────────┼─────────────────────────────┼─────────────────┤\n",
              "│ block5_conv1 (<span style=\"color: #0087ff; text-decoration-color: #0087ff\">Conv2D</span>)                │ (<span style=\"color: #00d7ff; text-decoration-color: #00d7ff\">None</span>, <span style=\"color: #00af00; text-decoration-color: #00af00\">16</span>, <span style=\"color: #00af00; text-decoration-color: #00af00\">16</span>, <span style=\"color: #00af00; text-decoration-color: #00af00\">512</span>)         │       <span style=\"color: #00af00; text-decoration-color: #00af00\">2,359,808</span> │\n",
              "├──────────────────────────────────────┼─────────────────────────────┼─────────────────┤\n",
              "│ block5_conv2 (<span style=\"color: #0087ff; text-decoration-color: #0087ff\">Conv2D</span>)                │ (<span style=\"color: #00d7ff; text-decoration-color: #00d7ff\">None</span>, <span style=\"color: #00af00; text-decoration-color: #00af00\">16</span>, <span style=\"color: #00af00; text-decoration-color: #00af00\">16</span>, <span style=\"color: #00af00; text-decoration-color: #00af00\">512</span>)         │       <span style=\"color: #00af00; text-decoration-color: #00af00\">2,359,808</span> │\n",
              "├──────────────────────────────────────┼─────────────────────────────┼─────────────────┤\n",
              "│ block5_conv3 (<span style=\"color: #0087ff; text-decoration-color: #0087ff\">Conv2D</span>)                │ (<span style=\"color: #00d7ff; text-decoration-color: #00d7ff\">None</span>, <span style=\"color: #00af00; text-decoration-color: #00af00\">16</span>, <span style=\"color: #00af00; text-decoration-color: #00af00\">16</span>, <span style=\"color: #00af00; text-decoration-color: #00af00\">512</span>)         │       <span style=\"color: #00af00; text-decoration-color: #00af00\">2,359,808</span> │\n",
              "├──────────────────────────────────────┼─────────────────────────────┼─────────────────┤\n",
              "│ block5_pool (<span style=\"color: #0087ff; text-decoration-color: #0087ff\">MaxPooling2D</span>)           │ (<span style=\"color: #00d7ff; text-decoration-color: #00d7ff\">None</span>, <span style=\"color: #00af00; text-decoration-color: #00af00\">8</span>, <span style=\"color: #00af00; text-decoration-color: #00af00\">8</span>, <span style=\"color: #00af00; text-decoration-color: #00af00\">512</span>)           │               <span style=\"color: #00af00; text-decoration-color: #00af00\">0</span> │\n",
              "└──────────────────────────────────────┴─────────────────────────────┴─────────────────┘\n",
              "</pre>\n"
            ]
          },
          "metadata": {}
        },
        {
          "output_type": "display_data",
          "data": {
            "text/plain": [
              "\u001b[1m Total params: \u001b[0m\u001b[38;5;34m14,714,688\u001b[0m (56.13 MB)\n"
            ],
            "text/html": [
              "<pre style=\"white-space:pre;overflow-x:auto;line-height:normal;font-family:Menlo,'DejaVu Sans Mono',consolas,'Courier New',monospace\"><span style=\"font-weight: bold\"> Total params: </span><span style=\"color: #00af00; text-decoration-color: #00af00\">14,714,688</span> (56.13 MB)\n",
              "</pre>\n"
            ]
          },
          "metadata": {}
        },
        {
          "output_type": "display_data",
          "data": {
            "text/plain": [
              "\u001b[1m Trainable params: \u001b[0m\u001b[38;5;34m0\u001b[0m (0.00 B)\n"
            ],
            "text/html": [
              "<pre style=\"white-space:pre;overflow-x:auto;line-height:normal;font-family:Menlo,'DejaVu Sans Mono',consolas,'Courier New',monospace\"><span style=\"font-weight: bold\"> Trainable params: </span><span style=\"color: #00af00; text-decoration-color: #00af00\">0</span> (0.00 B)\n",
              "</pre>\n"
            ]
          },
          "metadata": {}
        },
        {
          "output_type": "display_data",
          "data": {
            "text/plain": [
              "\u001b[1m Non-trainable params: \u001b[0m\u001b[38;5;34m14,714,688\u001b[0m (56.13 MB)\n"
            ],
            "text/html": [
              "<pre style=\"white-space:pre;overflow-x:auto;line-height:normal;font-family:Menlo,'DejaVu Sans Mono',consolas,'Courier New',monospace\"><span style=\"font-weight: bold\"> Non-trainable params: </span><span style=\"color: #00af00; text-decoration-color: #00af00\">14,714,688</span> (56.13 MB)\n",
              "</pre>\n"
            ]
          },
          "metadata": {}
        }
      ]
    },
    {
      "cell_type": "markdown",
      "metadata": {
        "id": "D4yedT2VF7TP"
      },
      "source": [
        "❓ **Question: chaining the pretrained convolutional layers of VGG16 with our own dense layers** ❓\n",
        "\n",
        "We will write a function that adds flattening and dense layers after the convolutional layers. To do so, we cannot directly use the classic `layers.Sequential()` instantiation.\n",
        "\n",
        "For that reason, we will discover another way here. The idea is that we define each layer (or group of layers) separately. Then, we concatenate them. Have a look at this example:\n",
        "\n",
        "---\n",
        "```python\n",
        "base_model = load_model()\n",
        "base_model = set_nontrainable_layers(base_model)\n",
        "flattening_layer = layers.Flatten()\n",
        "dense_layer = layers.Dense(SOME_NUMBER_1, activation='relu')\n",
        "prediction_layer = layers.Dense(SOME_NUMBER_2, activation='APPROPRIATE_ACTIVATION')\n",
        "\n",
        "model = tf.keras.Sequential([\n",
        "  base_model,\n",
        "  flattening_layer,\n",
        "  dense_layer,\n",
        "  prediction_layer\n",
        "])\n",
        "\n",
        "```\n",
        "---\n",
        "\n",
        "* The first line loads a group of layers which is the previous VGG-16 model.\n",
        "* Then, we set these layers to be non-trainable.\n",
        "* Eventually, we can instantiate as many layers as we want.\n",
        "* Finally, we use the `Sequential` with the sequence of layers that will correspond to our overall neural network.\n",
        "\n",
        "Replicate the following steps by adding:\n",
        "* a flattening layer\n",
        "* two dense layers (the first with 500 neurons) to the previous VGG-16 model."
      ]
    },
    {
      "cell_type": "code",
      "execution_count": 32,
      "metadata": {
        "id": "YZm6v9idOGR-"
      },
      "outputs": [],
      "source": [
        "from tensorflow.keras import layers, models\n",
        "\n",
        "def add_last_layers(model):\n",
        "    \"\"\"\n",
        "    Add flattening and dense layers to the base VGG16 model.\n",
        "    \"\"\"\n",
        "    flattening_layer = layers.Flatten()\n",
        "\n",
        "    dense_layer = layers.Dense(500, activation='relu')\n",
        "\n",
        "    prediction_layer = layers.Dense(3, activation='softmax')\n",
        "\n",
        "    model = models.Sequential([\n",
        "        base_model,\n",
        "        flattening_layer,\n",
        "        dense_layer,\n",
        "        prediction_layer\n",
        "    ])\n",
        "    return model"
      ]
    },
    {
      "cell_type": "markdown",
      "metadata": {
        "id": "L-24j0psF7TQ"
      },
      "source": [
        "❓ **Question: inspect the parameters of a customized VGG16** ❓\n",
        "\n",
        "* Now look at the layers and the parameters of your model.\n",
        "* Note that there is a distinction, at the end, between the **trainable** and **non-trainable parameters**"
      ]
    },
    {
      "cell_type": "code",
      "execution_count": 33,
      "metadata": {
        "id": "0uqGuxsJF7TR",
        "tags": [
          "challengify"
        ]
      },
      "outputs": [],
      "source": [
        "base_model = load_model()\n",
        "base_model = set_nontrainable_layers(base_model)"
      ]
    },
    {
      "cell_type": "code",
      "source": [
        "final_model = add_last_layers(base_model)\n",
        "final_model.summary()"
      ],
      "metadata": {
        "colab": {
          "base_uri": "https://localhost:8080/",
          "height": 267
        },
        "id": "D_I3O31CXBaW",
        "outputId": "4db3655d-a87c-467b-c3c2-5a1d9cd0187f"
      },
      "execution_count": 34,
      "outputs": [
        {
          "output_type": "display_data",
          "data": {
            "text/plain": [
              "\u001b[1mModel: \"sequential_1\"\u001b[0m\n"
            ],
            "text/html": [
              "<pre style=\"white-space:pre;overflow-x:auto;line-height:normal;font-family:Menlo,'DejaVu Sans Mono',consolas,'Courier New',monospace\"><span style=\"font-weight: bold\">Model: \"sequential_1\"</span>\n",
              "</pre>\n"
            ]
          },
          "metadata": {}
        },
        {
          "output_type": "display_data",
          "data": {
            "text/plain": [
              "┏━━━━━━━━━━━━━━━━━━━━━━━━━━━━━━━━━━━━━━┳━━━━━━━━━━━━━━━━━━━━━━━━━━━━━┳━━━━━━━━━━━━━━━━━┓\n",
              "┃\u001b[1m \u001b[0m\u001b[1mLayer (type)                        \u001b[0m\u001b[1m \u001b[0m┃\u001b[1m \u001b[0m\u001b[1mOutput Shape               \u001b[0m\u001b[1m \u001b[0m┃\u001b[1m \u001b[0m\u001b[1m        Param #\u001b[0m\u001b[1m \u001b[0m┃\n",
              "┡━━━━━━━━━━━━━━━━━━━━━━━━━━━━━━━━━━━━━━╇━━━━━━━━━━━━━━━━━━━━━━━━━━━━━╇━━━━━━━━━━━━━━━━━┩\n",
              "│ vgg16 (\u001b[38;5;33mFunctional\u001b[0m)                   │ (\u001b[38;5;45mNone\u001b[0m, \u001b[38;5;34m8\u001b[0m, \u001b[38;5;34m8\u001b[0m, \u001b[38;5;34m512\u001b[0m)           │      \u001b[38;5;34m14,714,688\u001b[0m │\n",
              "├──────────────────────────────────────┼─────────────────────────────┼─────────────────┤\n",
              "│ flatten_1 (\u001b[38;5;33mFlatten\u001b[0m)                  │ (\u001b[38;5;45mNone\u001b[0m, \u001b[38;5;34m32768\u001b[0m)               │               \u001b[38;5;34m0\u001b[0m │\n",
              "├──────────────────────────────────────┼─────────────────────────────┼─────────────────┤\n",
              "│ dense_3 (\u001b[38;5;33mDense\u001b[0m)                      │ (\u001b[38;5;45mNone\u001b[0m, \u001b[38;5;34m500\u001b[0m)                 │      \u001b[38;5;34m16,384,500\u001b[0m │\n",
              "├──────────────────────────────────────┼─────────────────────────────┼─────────────────┤\n",
              "│ dense_4 (\u001b[38;5;33mDense\u001b[0m)                      │ (\u001b[38;5;45mNone\u001b[0m, \u001b[38;5;34m3\u001b[0m)                   │           \u001b[38;5;34m1,503\u001b[0m │\n",
              "└──────────────────────────────────────┴─────────────────────────────┴─────────────────┘\n"
            ],
            "text/html": [
              "<pre style=\"white-space:pre;overflow-x:auto;line-height:normal;font-family:Menlo,'DejaVu Sans Mono',consolas,'Courier New',monospace\">┏━━━━━━━━━━━━━━━━━━━━━━━━━━━━━━━━━━━━━━┳━━━━━━━━━━━━━━━━━━━━━━━━━━━━━┳━━━━━━━━━━━━━━━━━┓\n",
              "┃<span style=\"font-weight: bold\"> Layer (type)                         </span>┃<span style=\"font-weight: bold\"> Output Shape                </span>┃<span style=\"font-weight: bold\">         Param # </span>┃\n",
              "┡━━━━━━━━━━━━━━━━━━━━━━━━━━━━━━━━━━━━━━╇━━━━━━━━━━━━━━━━━━━━━━━━━━━━━╇━━━━━━━━━━━━━━━━━┩\n",
              "│ vgg16 (<span style=\"color: #0087ff; text-decoration-color: #0087ff\">Functional</span>)                   │ (<span style=\"color: #00d7ff; text-decoration-color: #00d7ff\">None</span>, <span style=\"color: #00af00; text-decoration-color: #00af00\">8</span>, <span style=\"color: #00af00; text-decoration-color: #00af00\">8</span>, <span style=\"color: #00af00; text-decoration-color: #00af00\">512</span>)           │      <span style=\"color: #00af00; text-decoration-color: #00af00\">14,714,688</span> │\n",
              "├──────────────────────────────────────┼─────────────────────────────┼─────────────────┤\n",
              "│ flatten_1 (<span style=\"color: #0087ff; text-decoration-color: #0087ff\">Flatten</span>)                  │ (<span style=\"color: #00d7ff; text-decoration-color: #00d7ff\">None</span>, <span style=\"color: #00af00; text-decoration-color: #00af00\">32768</span>)               │               <span style=\"color: #00af00; text-decoration-color: #00af00\">0</span> │\n",
              "├──────────────────────────────────────┼─────────────────────────────┼─────────────────┤\n",
              "│ dense_3 (<span style=\"color: #0087ff; text-decoration-color: #0087ff\">Dense</span>)                      │ (<span style=\"color: #00d7ff; text-decoration-color: #00d7ff\">None</span>, <span style=\"color: #00af00; text-decoration-color: #00af00\">500</span>)                 │      <span style=\"color: #00af00; text-decoration-color: #00af00\">16,384,500</span> │\n",
              "├──────────────────────────────────────┼─────────────────────────────┼─────────────────┤\n",
              "│ dense_4 (<span style=\"color: #0087ff; text-decoration-color: #0087ff\">Dense</span>)                      │ (<span style=\"color: #00d7ff; text-decoration-color: #00d7ff\">None</span>, <span style=\"color: #00af00; text-decoration-color: #00af00\">3</span>)                   │           <span style=\"color: #00af00; text-decoration-color: #00af00\">1,503</span> │\n",
              "└──────────────────────────────────────┴─────────────────────────────┴─────────────────┘\n",
              "</pre>\n"
            ]
          },
          "metadata": {}
        },
        {
          "output_type": "display_data",
          "data": {
            "text/plain": [
              "\u001b[1m Total params: \u001b[0m\u001b[38;5;34m31,100,691\u001b[0m (118.64 MB)\n"
            ],
            "text/html": [
              "<pre style=\"white-space:pre;overflow-x:auto;line-height:normal;font-family:Menlo,'DejaVu Sans Mono',consolas,'Courier New',monospace\"><span style=\"font-weight: bold\"> Total params: </span><span style=\"color: #00af00; text-decoration-color: #00af00\">31,100,691</span> (118.64 MB)\n",
              "</pre>\n"
            ]
          },
          "metadata": {}
        },
        {
          "output_type": "display_data",
          "data": {
            "text/plain": [
              "\u001b[1m Trainable params: \u001b[0m\u001b[38;5;34m16,386,003\u001b[0m (62.51 MB)\n"
            ],
            "text/html": [
              "<pre style=\"white-space:pre;overflow-x:auto;line-height:normal;font-family:Menlo,'DejaVu Sans Mono',consolas,'Courier New',monospace\"><span style=\"font-weight: bold\"> Trainable params: </span><span style=\"color: #00af00; text-decoration-color: #00af00\">16,386,003</span> (62.51 MB)\n",
              "</pre>\n"
            ]
          },
          "metadata": {}
        },
        {
          "output_type": "display_data",
          "data": {
            "text/plain": [
              "\u001b[1m Non-trainable params: \u001b[0m\u001b[38;5;34m14,714,688\u001b[0m (56.13 MB)\n"
            ],
            "text/html": [
              "<pre style=\"white-space:pre;overflow-x:auto;line-height:normal;font-family:Menlo,'DejaVu Sans Mono',consolas,'Courier New',monospace\"><span style=\"font-weight: bold\"> Non-trainable params: </span><span style=\"color: #00af00; text-decoration-color: #00af00\">14,714,688</span> (56.13 MB)\n",
              "</pre>\n"
            ]
          },
          "metadata": {}
        }
      ]
    },
    {
      "cell_type": "markdown",
      "metadata": {
        "id": "yxXlnPp5F7TR"
      },
      "source": [
        "❓ **Question: building a function that creates a full customized VGG16 and compiles it** ❓\n",
        "\n",
        "* Write a function which builds and compiles your model\n",
        "    * We advise using the _adam_ optimizer with `learning_rate=1e-4`."
      ]
    },
    {
      "cell_type": "code",
      "execution_count": 37,
      "metadata": {
        "id": "yzXkTpQPOGR-"
      },
      "outputs": [],
      "source": [
        "from tensorflow.keras import optimizers\n",
        "\n",
        "def build_model():\n",
        "\n",
        "    base_model = load_model()\n",
        "    base_model = set_nontrainable_layers(base_model)\n",
        "\n",
        "\n",
        "    final_model = add_last_layers(base_model)\n",
        "\n",
        "    # Compilar el modelo\n",
        "    final_model.compile(\n",
        "        optimizer=optimizers.Adam(learning_rate=1e-4),\n",
        "        loss='categorical_crossentropy',\n",
        "        metrics=['accuracy']\n",
        "    )\n",
        "\n",
        "    return final_model"
      ]
    },
    {
      "cell_type": "code",
      "source": [
        "model = build_model()\n",
        "model.summary()"
      ],
      "metadata": {
        "colab": {
          "base_uri": "https://localhost:8080/",
          "height": 267
        },
        "id": "kdmJ1P0GXpDN",
        "outputId": "889d196c-4996-41f1-b640-e1febbda5359"
      },
      "execution_count": 38,
      "outputs": [
        {
          "output_type": "display_data",
          "data": {
            "text/plain": [
              "\u001b[1mModel: \"sequential_3\"\u001b[0m\n"
            ],
            "text/html": [
              "<pre style=\"white-space:pre;overflow-x:auto;line-height:normal;font-family:Menlo,'DejaVu Sans Mono',consolas,'Courier New',monospace\"><span style=\"font-weight: bold\">Model: \"sequential_3\"</span>\n",
              "</pre>\n"
            ]
          },
          "metadata": {}
        },
        {
          "output_type": "display_data",
          "data": {
            "text/plain": [
              "┏━━━━━━━━━━━━━━━━━━━━━━━━━━━━━━━━━━━━━━┳━━━━━━━━━━━━━━━━━━━━━━━━━━━━━┳━━━━━━━━━━━━━━━━━┓\n",
              "┃\u001b[1m \u001b[0m\u001b[1mLayer (type)                        \u001b[0m\u001b[1m \u001b[0m┃\u001b[1m \u001b[0m\u001b[1mOutput Shape               \u001b[0m\u001b[1m \u001b[0m┃\u001b[1m \u001b[0m\u001b[1m        Param #\u001b[0m\u001b[1m \u001b[0m┃\n",
              "┡━━━━━━━━━━━━━━━━━━━━━━━━━━━━━━━━━━━━━━╇━━━━━━━━━━━━━━━━━━━━━━━━━━━━━╇━━━━━━━━━━━━━━━━━┩\n",
              "│ vgg16 (\u001b[38;5;33mFunctional\u001b[0m)                   │ (\u001b[38;5;45mNone\u001b[0m, \u001b[38;5;34m8\u001b[0m, \u001b[38;5;34m8\u001b[0m, \u001b[38;5;34m512\u001b[0m)           │      \u001b[38;5;34m14,714,688\u001b[0m │\n",
              "├──────────────────────────────────────┼─────────────────────────────┼─────────────────┤\n",
              "│ flatten_3 (\u001b[38;5;33mFlatten\u001b[0m)                  │ (\u001b[38;5;45mNone\u001b[0m, \u001b[38;5;34m32768\u001b[0m)               │               \u001b[38;5;34m0\u001b[0m │\n",
              "├──────────────────────────────────────┼─────────────────────────────┼─────────────────┤\n",
              "│ dense_7 (\u001b[38;5;33mDense\u001b[0m)                      │ (\u001b[38;5;45mNone\u001b[0m, \u001b[38;5;34m500\u001b[0m)                 │      \u001b[38;5;34m16,384,500\u001b[0m │\n",
              "├──────────────────────────────────────┼─────────────────────────────┼─────────────────┤\n",
              "│ dense_8 (\u001b[38;5;33mDense\u001b[0m)                      │ (\u001b[38;5;45mNone\u001b[0m, \u001b[38;5;34m3\u001b[0m)                   │           \u001b[38;5;34m1,503\u001b[0m │\n",
              "└──────────────────────────────────────┴─────────────────────────────┴─────────────────┘\n"
            ],
            "text/html": [
              "<pre style=\"white-space:pre;overflow-x:auto;line-height:normal;font-family:Menlo,'DejaVu Sans Mono',consolas,'Courier New',monospace\">┏━━━━━━━━━━━━━━━━━━━━━━━━━━━━━━━━━━━━━━┳━━━━━━━━━━━━━━━━━━━━━━━━━━━━━┳━━━━━━━━━━━━━━━━━┓\n",
              "┃<span style=\"font-weight: bold\"> Layer (type)                         </span>┃<span style=\"font-weight: bold\"> Output Shape                </span>┃<span style=\"font-weight: bold\">         Param # </span>┃\n",
              "┡━━━━━━━━━━━━━━━━━━━━━━━━━━━━━━━━━━━━━━╇━━━━━━━━━━━━━━━━━━━━━━━━━━━━━╇━━━━━━━━━━━━━━━━━┩\n",
              "│ vgg16 (<span style=\"color: #0087ff; text-decoration-color: #0087ff\">Functional</span>)                   │ (<span style=\"color: #00d7ff; text-decoration-color: #00d7ff\">None</span>, <span style=\"color: #00af00; text-decoration-color: #00af00\">8</span>, <span style=\"color: #00af00; text-decoration-color: #00af00\">8</span>, <span style=\"color: #00af00; text-decoration-color: #00af00\">512</span>)           │      <span style=\"color: #00af00; text-decoration-color: #00af00\">14,714,688</span> │\n",
              "├──────────────────────────────────────┼─────────────────────────────┼─────────────────┤\n",
              "│ flatten_3 (<span style=\"color: #0087ff; text-decoration-color: #0087ff\">Flatten</span>)                  │ (<span style=\"color: #00d7ff; text-decoration-color: #00d7ff\">None</span>, <span style=\"color: #00af00; text-decoration-color: #00af00\">32768</span>)               │               <span style=\"color: #00af00; text-decoration-color: #00af00\">0</span> │\n",
              "├──────────────────────────────────────┼─────────────────────────────┼─────────────────┤\n",
              "│ dense_7 (<span style=\"color: #0087ff; text-decoration-color: #0087ff\">Dense</span>)                      │ (<span style=\"color: #00d7ff; text-decoration-color: #00d7ff\">None</span>, <span style=\"color: #00af00; text-decoration-color: #00af00\">500</span>)                 │      <span style=\"color: #00af00; text-decoration-color: #00af00\">16,384,500</span> │\n",
              "├──────────────────────────────────────┼─────────────────────────────┼─────────────────┤\n",
              "│ dense_8 (<span style=\"color: #0087ff; text-decoration-color: #0087ff\">Dense</span>)                      │ (<span style=\"color: #00d7ff; text-decoration-color: #00d7ff\">None</span>, <span style=\"color: #00af00; text-decoration-color: #00af00\">3</span>)                   │           <span style=\"color: #00af00; text-decoration-color: #00af00\">1,503</span> │\n",
              "└──────────────────────────────────────┴─────────────────────────────┴─────────────────┘\n",
              "</pre>\n"
            ]
          },
          "metadata": {}
        },
        {
          "output_type": "display_data",
          "data": {
            "text/plain": [
              "\u001b[1m Total params: \u001b[0m\u001b[38;5;34m31,100,691\u001b[0m (118.64 MB)\n"
            ],
            "text/html": [
              "<pre style=\"white-space:pre;overflow-x:auto;line-height:normal;font-family:Menlo,'DejaVu Sans Mono',consolas,'Courier New',monospace\"><span style=\"font-weight: bold\"> Total params: </span><span style=\"color: #00af00; text-decoration-color: #00af00\">31,100,691</span> (118.64 MB)\n",
              "</pre>\n"
            ]
          },
          "metadata": {}
        },
        {
          "output_type": "display_data",
          "data": {
            "text/plain": [
              "\u001b[1m Trainable params: \u001b[0m\u001b[38;5;34m16,386,003\u001b[0m (62.51 MB)\n"
            ],
            "text/html": [
              "<pre style=\"white-space:pre;overflow-x:auto;line-height:normal;font-family:Menlo,'DejaVu Sans Mono',consolas,'Courier New',monospace\"><span style=\"font-weight: bold\"> Trainable params: </span><span style=\"color: #00af00; text-decoration-color: #00af00\">16,386,003</span> (62.51 MB)\n",
              "</pre>\n"
            ]
          },
          "metadata": {}
        },
        {
          "output_type": "display_data",
          "data": {
            "text/plain": [
              "\u001b[1m Non-trainable params: \u001b[0m\u001b[38;5;34m14,714,688\u001b[0m (56.13 MB)\n"
            ],
            "text/html": [
              "<pre style=\"white-space:pre;overflow-x:auto;line-height:normal;font-family:Menlo,'DejaVu Sans Mono',consolas,'Courier New',monospace\"><span style=\"font-weight: bold\"> Non-trainable params: </span><span style=\"color: #00af00; text-decoration-color: #00af00\">14,714,688</span> (56.13 MB)\n",
              "</pre>\n"
            ]
          },
          "metadata": {}
        }
      ]
    },
    {
      "cell_type": "markdown",
      "metadata": {
        "id": "S96qsiKxZ2vU"
      },
      "source": [
        "### (5.2) Back to the data"
      ]
    },
    {
      "cell_type": "markdown",
      "metadata": {
        "id": "rbkwOw1eF7TS"
      },
      "source": [
        "🚨 The VGG16 model was trained on images which were preprocessed in a specific way. This is the reason why we did _NOT_ normalize them earlier.\n",
        "\n",
        "❓ **Question: preprocessing the dataset** ❓\n",
        "\n",
        "Apply the specific processing to the original (non-normalized) images here using the method **`preprocess_input`** that you can import from **`tensorflow.keras.applications.vgg16`**\n",
        "\n",
        "📚 Cf. [documentation](https://www.tensorflow.org/api_docs/python/tf/keras/applications/vgg16/preprocess_input)"
      ]
    },
    {
      "cell_type": "code",
      "execution_count": 40,
      "metadata": {
        "id": "ROBy73_8OGR-"
      },
      "outputs": [],
      "source": [
        "from tensorflow.keras.applications.vgg16 import preprocess_input"
      ]
    },
    {
      "cell_type": "code",
      "execution_count": 41,
      "metadata": {
        "id": "uNeJZvtV3YDf",
        "tags": [
          "challengify"
        ]
      },
      "outputs": [],
      "source": [
        "X_train = preprocess_input(X_train)\n",
        "X_val = preprocess_input(X_val)\n",
        "X_test = preprocess_input(X_test)"
      ]
    },
    {
      "cell_type": "markdown",
      "metadata": {
        "id": "2T7HvbQfZ2vZ"
      },
      "source": [
        "### (5.3)  Fit the model"
      ]
    },
    {
      "cell_type": "markdown",
      "metadata": {
        "id": "Wu2H0KZF-EoI"
      },
      "source": [
        "\n",
        "\n",
        "❓ **Question: Training the customized VGG16** ❓\n",
        "\n",
        "* Train the model with an Early stopping criterion on the validation accuracy -\n",
        "* Since the validation data is provided use `validation_data` instead of `validation_split`.\n",
        "\n",
        "_As usual, store the results of your training into a `history` variable._"
      ]
    },
    {
      "cell_type": "code",
      "source": [
        "from tensorflow.keras.callbacks import EarlyStopping"
      ],
      "metadata": {
        "id": "-8eeAnXhYGp7"
      },
      "execution_count": 42,
      "outputs": []
    },
    {
      "cell_type": "code",
      "execution_count": 43,
      "metadata": {
        "id": "grmnNmjeAXcQ",
        "tags": [
          "challengify"
        ]
      },
      "outputs": [],
      "source": [
        "early_stopping = EarlyStopping(\n",
        "    monitor='val_accuracy',\n",
        "    patience=3,\n",
        "    restore_best_weights=True\n",
        ")"
      ]
    },
    {
      "cell_type": "code",
      "source": [
        "history = model.fit(\n",
        "    X_train, y_train,\n",
        "    validation_data=(X_val, y_val),\n",
        "    epochs=20,\n",
        "    batch_size=32,\n",
        "    callbacks=[early_stopping]\n",
        ")"
      ],
      "metadata": {
        "colab": {
          "base_uri": "https://localhost:8080/"
        },
        "id": "5mQTQTjJYInH",
        "outputId": "a804c4c7-7652-4b44-cca2-ec3e9091f9b6"
      },
      "execution_count": 44,
      "outputs": [
        {
          "output_type": "stream",
          "name": "stdout",
          "text": [
            "Epoch 1/20\n",
            "\u001b[1m18/18\u001b[0m \u001b[32m━━━━━━━━━━━━━━━━━━━━\u001b[0m\u001b[37m\u001b[0m \u001b[1m65s\u001b[0m 3s/step - accuracy: 0.7262 - loss: 3.1902 - val_accuracy: 0.9050 - val_loss: 1.6301\n",
            "Epoch 2/20\n",
            "\u001b[1m18/18\u001b[0m \u001b[32m━━━━━━━━━━━━━━━━━━━━\u001b[0m\u001b[37m\u001b[0m \u001b[1m22s\u001b[0m 245ms/step - accuracy: 0.9901 - loss: 0.0418 - val_accuracy: 0.8883 - val_loss: 1.8801\n",
            "Epoch 3/20\n",
            "\u001b[1m18/18\u001b[0m \u001b[32m━━━━━━━━━━━━━━━━━━━━\u001b[0m\u001b[37m\u001b[0m \u001b[1m4s\u001b[0m 226ms/step - accuracy: 0.9983 - loss: 0.0189 - val_accuracy: 0.8771 - val_loss: 2.0386\n",
            "Epoch 4/20\n",
            "\u001b[1m18/18\u001b[0m \u001b[32m━━━━━━━━━━━━━━━━━━━━\u001b[0m\u001b[37m\u001b[0m \u001b[1m5s\u001b[0m 229ms/step - accuracy: 0.9952 - loss: 0.0085 - val_accuracy: 0.8827 - val_loss: 1.9870\n"
          ]
        }
      ]
    },
    {
      "cell_type": "markdown",
      "metadata": {
        "id": "ec_I9JpiAm-W"
      },
      "source": [
        "❓ **Question: Looking at the accuracy** ❓\n",
        "\n",
        "Plot the accuracy for both the train set and and the validation set using the usual function below"
      ]
    },
    {
      "cell_type": "code",
      "source": [
        "import matplotlib.pyplot as plt"
      ],
      "metadata": {
        "id": "NkWdgFdSYy0Z"
      },
      "execution_count": 49,
      "outputs": []
    },
    {
      "cell_type": "code",
      "execution_count": 50,
      "metadata": {
        "id": "YjBkI2xNOGR_"
      },
      "outputs": [],
      "source": [
        "def plot_history(history, title='', axs=None, exp_name=\"\"):\n",
        "    if axs is not None:\n",
        "        ax1, ax2 = axs\n",
        "    else:\n",
        "        f, (ax1, ax2) = plt.subplots(1, 2, figsize=(12, 4))\n",
        "\n",
        "    if len(exp_name) > 0 and exp_name[0] != '_':\n",
        "        exp_name = '_' + exp_name\n",
        "    ax1.plot(history.history['loss'], label='train' + exp_name)\n",
        "    ax1.plot(history.history['val_loss'], label='val' + exp_name)\n",
        "    #ax1.set_ylim(0., 2.2)\n",
        "    ax1.set_title('loss')\n",
        "    ax1.legend()\n",
        "\n",
        "    ax2.plot(history.history['accuracy'], label='train accuracy'  + exp_name)\n",
        "    ax2.plot(history.history['val_accuracy'], label='val accuracy'  + exp_name)\n",
        "    #ax2.set_ylim(0.25, 1.)\n",
        "    ax2.set_title('Accuracy')\n",
        "    ax2.legend()\n",
        "    return (ax1, ax2)"
      ]
    },
    {
      "cell_type": "code",
      "execution_count": 51,
      "metadata": {
        "id": "ESzinGOY6aBc",
        "tags": [
          "challengify"
        ],
        "colab": {
          "base_uri": "https://localhost:8080/",
          "height": 409
        },
        "outputId": "deb71f59-8f66-4a49-e127-e3c58c23e496"
      },
      "outputs": [
        {
          "output_type": "execute_result",
          "data": {
            "text/plain": [
              "(<Axes: title={'center': 'loss'}>, <Axes: title={'center': 'Accuracy'}>)"
            ]
          },
          "metadata": {},
          "execution_count": 51
        },
        {
          "output_type": "display_data",
          "data": {
            "text/plain": [
              "<Figure size 1200x400 with 2 Axes>"
            ],
            "image/png": "[encoded data removed]"
          },
          "metadata": {}
        }
      ],
      "source": [
        "plot_history(history, title='', axs=None, exp_name=\"\")"
      ]
    },
    {
      "cell_type": "markdown",
      "metadata": {
        "id": "y3plexlQAtcC"
      },
      "source": [
        "❓ **Question: Evaluating the model** ❓\n",
        "\n",
        "Evaluate the customized VGG16 accuracy on the test set. Did we improve?"
      ]
    },
    {
      "cell_type": "code",
      "execution_count": 52,
      "metadata": {
        "id": "ps_9HwUyRVj9",
        "tags": [
          "challengify"
        ],
        "colab": {
          "base_uri": "https://localhost:8080/"
        },
        "outputId": "1c42c632-4adf-4a05-bb42-02f36bcd87f2"
      },
      "outputs": [
        {
          "output_type": "stream",
          "name": "stdout",
          "text": [
            "\u001b[1m5/5\u001b[0m \u001b[32m━━━━━━━━━━━━━━━━━━━━\u001b[0m\u001b[37m\u001b[0m \u001b[1m17s\u001b[0m 4s/step - accuracy: 0.9026 - loss: 2.2675\n"
          ]
        }
      ],
      "source": [
        "test_loss, test_accuracy = model.evaluate(X_test, y_test)"
      ]
    },
    {
      "cell_type": "code",
      "source": [
        "print(f\"Test Accuracy: {test_accuracy * 100:.2f}%\")"
      ],
      "metadata": {
        "colab": {
          "base_uri": "https://localhost:8080/"
        },
        "id": "1VdytJ5eZCx2",
        "outputId": "e7574bfe-940e-4760-8021-0a27b4255325"
      },
      "execution_count": 53,
      "outputs": [
        {
          "output_type": "stream",
          "name": "stdout",
          "text": [
            "Test Accuracy: 89.93%\n"
          ]
        }
      ]
    },
    {
      "cell_type": "markdown",
      "metadata": {
        "id": "N5T1KvsGZ2va"
      },
      "source": [
        "## (6) (Optional) Improve the model"
      ]
    },
    {
      "cell_type": "markdown",
      "metadata": {
        "id": "oF39HIb7BSOy"
      },
      "source": [
        "Now, you can try to improve the model's test accuracy. To do that, here are some options you can consider\n",
        "\n",
        "1. **Unfreeze and finetune**: Source: [Google tutorial](https://www.tensorflow.org/guide/keras/transfer_learning#fine-tuning)\n",
        ">_Once your model has converged on the new data, you can try to unfreeze all or part of the base model and retrain the whole model end-to-end with a very low learning rate. This is an optional last step that can potentially give you incremental improvements. It could also potentially lead to quick overfitting -- keep that in mind. It is critical to only do this step after the model with frozen layers has been trained to convergence. If you mix randomly-initialized trainable layers with trainable layers that hold pre-trained features, the randomly-initialized layers will cause very large gradient updates during training, which will destroy your pre-trained features. It's also critical to use a very low learning rate at this stage, because you are training a much larger model than in the first round of training, on a dataset that is typically very small. As a result, you are at risk of overfitting very quickly if you apply large weight updates. Here, you only want to readapt the pretrained weights in an incremental way._\n",
        "\n",
        "\n",
        "1. Add **Data Augmentation** if your model is overfitting.\n",
        "\n",
        "2. If your model is not overfitting, try a more complex model.\n",
        "\n",
        "3. Perform a precise **Grid Search** on all the hyper-parameters: learning_rate, batch_size, data augmentation etc...\n",
        "\n",
        "4. **Change the base model** to more modern one CNN (ResNet, EfficientNet1,... available in the keras library)\n",
        "\n",
        "5. Curate the data: maintaining a sane data set is one of the keys to success.\n",
        "\n",
        "6. Collect more data"
      ]
    },
    {
      "cell_type": "markdown",
      "metadata": {
        "id": "w3UMNBZHZ2vb"
      },
      "source": [
        "## (6.2) Comparing the performances of the CNN, the VGG, and the VGG trained on the augmented dataset"
      ]
    },
    {
      "cell_type": "code",
      "execution_count": null,
      "metadata": {
        "id": "2F0mBx6FOGSA"
      },
      "outputs": [],
      "source": [
        "test_accuracy_aug = res_aug[-1]\n",
        "\n",
        "\n",
        "print(f\"test_accuracy_aug = {round(test_accuracy_aug,2)*100} %\")\n",
        "\n",
        "print(f\"test_accuracy_vgg = {round(test_accuracy_vgg,2)*100} %\")\n",
        "\n",
        "print(f\"test_accuracy = {round(test_accuracy,2)*100} %\")\n",
        "\n",
        "print(f'Chance level: {1./num_classes*100:.1f}%')\n",
        "\n"
      ]
    },
    {
      "cell_type": "markdown",
      "metadata": {
        "id": "u8gaSAxLZ2vc"
      },
      "source": [
        "---\n",
        "\n",
        "🏁 **Congratulations** 🏁\n",
        "\n",
        "1. Download this notebook from your `Google Drive` or directly from `Google Colab`\n",
        "2. Drag-and-drop it from your `Downloads` folder to your local challenge folder  \n",
        "\n",
        "\n",
        "💾 Don't forget to push your code\n",
        "\n",
        "3. Follow the usual procedure on your terminal inside the challenge folder:\n",
        "      * *git add transfer_learning.ipynb*\n",
        "      * *git commit -m \"I am the god of Transfer Learning\"*\n",
        "      * *git push origin master*\n",
        "\n",
        "*Hint*: To find where this Colab notebook has been saved, click on `File` $\\rightarrow$ `Locate in Drive`.\n",
        "\n",
        "🚀 If you have time, move on to the **Autoencoders** challenge!"
      ]
    },
    {
      "cell_type": "markdown",
      "metadata": {
        "id": "IDI02KTsOGSA"
      },
      "source": []
    }
  ],
  "metadata": {
    "kernelspec": {
      "display_name": "Python 3",
      "name": "python3"
    },
    "colab": {
      "provenance": [],
      "gpuType": "T4"
    },
    "accelerator": "GPU"
  },
  "nbformat": 4,
  "nbformat_minor": 0
}